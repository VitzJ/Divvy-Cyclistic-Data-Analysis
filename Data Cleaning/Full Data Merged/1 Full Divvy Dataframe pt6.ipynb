{
 "cells": [
  {
   "cell_type": "code",
   "execution_count": 1,
   "id": "7dde961d",
   "metadata": {},
   "outputs": [],
   "source": [
    "import pandas as pd"
   ]
  },
  {
   "cell_type": "code",
   "execution_count": 2,
   "id": "e1d4f5e9",
   "metadata": {
    "scrolled": true
   },
   "outputs": [],
   "source": [
    "merged2013_2022 = pd.read_csv('1 Full Divvy Dataframe pt5.csv', index_col=[0])"
   ]
  },
  {
   "cell_type": "code",
   "execution_count": 3,
   "id": "4752baf7",
   "metadata": {},
   "outputs": [],
   "source": [
    "merged2013_2022['start_date'] = pd.to_datetime(merged2013_2022['start_date'], format='%Y-%m-%d')\n",
    "merged2013_2022['end_date'] = pd.to_datetime(merged2013_2022['end_date'], format='%Y-%m-%d')"
   ]
  },
  {
   "cell_type": "code",
   "execution_count": 4,
   "id": "db5f1090",
   "metadata": {},
   "outputs": [
    {
     "data": {
      "text/plain": [
       "array([ 1,  2,  3,  4,  5,  6,  7,  8,  9, 10, 11, 12], dtype=int64)"
      ]
     },
     "execution_count": 4,
     "metadata": {},
     "output_type": "execute_result"
    }
   ],
   "source": [
    "merged2013_2022.loc[merged2013_2022['start_date'].dt.year == 2014]['start_date'].dt.month.unique()"
   ]
  },
  {
   "cell_type": "code",
   "execution_count": 5,
   "id": "10e074a6",
   "metadata": {},
   "outputs": [
    {
     "data": {
      "text/html": [
       "<div>\n",
       "<style scoped>\n",
       "    .dataframe tbody tr th:only-of-type {\n",
       "        vertical-align: middle;\n",
       "    }\n",
       "\n",
       "    .dataframe tbody tr th {\n",
       "        vertical-align: top;\n",
       "    }\n",
       "\n",
       "    .dataframe thead th {\n",
       "        text-align: right;\n",
       "    }\n",
       "</style>\n",
       "<table border=\"1\" class=\"dataframe\">\n",
       "  <thead>\n",
       "    <tr style=\"text-align: right;\">\n",
       "      <th></th>\n",
       "      <th>index</th>\n",
       "      <th>start_time</th>\n",
       "      <th>end_time</th>\n",
       "      <th>trip_duration</th>\n",
       "      <th>start_station_id</th>\n",
       "      <th>start_station_name</th>\n",
       "      <th>end_station_id</th>\n",
       "      <th>end_station_name</th>\n",
       "      <th>usertype</th>\n",
       "      <th>gender</th>\n",
       "      <th>...</th>\n",
       "      <th>rideable_type</th>\n",
       "      <th>start_city</th>\n",
       "      <th>start_landmark</th>\n",
       "      <th>end_city</th>\n",
       "      <th>end_landmark</th>\n",
       "      <th>start_date</th>\n",
       "      <th>end_date</th>\n",
       "      <th>start_dpcapacity</th>\n",
       "      <th>end_dpcapacity</th>\n",
       "      <th>age</th>\n",
       "    </tr>\n",
       "  </thead>\n",
       "  <tbody>\n",
       "    <tr>\n",
       "      <th>0</th>\n",
       "      <td>324105</td>\n",
       "      <td>01:06:00</td>\n",
       "      <td>09:46:00</td>\n",
       "      <td>31177</td>\n",
       "      <td>WL-012</td>\n",
       "      <td>Clinton St &amp; Washington Blvd</td>\n",
       "      <td>TA1306000009</td>\n",
       "      <td>Larrabee St &amp; Kingsbury St</td>\n",
       "      <td>1</td>\n",
       "      <td>0</td>\n",
       "      <td>...</td>\n",
       "      <td>0</td>\n",
       "      <td>0</td>\n",
       "      <td>10</td>\n",
       "      <td>0</td>\n",
       "      <td>12</td>\n",
       "      <td>2013-06-27</td>\n",
       "      <td>2013-06-27</td>\n",
       "      <td>29</td>\n",
       "      <td>43</td>\n",
       "      <td>31</td>\n",
       "    </tr>\n",
       "    <tr>\n",
       "      <th>1</th>\n",
       "      <td>8549730</td>\n",
       "      <td>11:09:00</td>\n",
       "      <td>11:11:00</td>\n",
       "      <td>140</td>\n",
       "      <td>88</td>\n",
       "      <td>Racine Ave &amp; Randolph St</td>\n",
       "      <td>88</td>\n",
       "      <td>Racine Ave &amp; Randolph St</td>\n",
       "      <td>1</td>\n",
       "      <td>0</td>\n",
       "      <td>...</td>\n",
       "      <td>0</td>\n",
       "      <td>0</td>\n",
       "      <td>155</td>\n",
       "      <td>0</td>\n",
       "      <td>155</td>\n",
       "      <td>2013-06-27</td>\n",
       "      <td>2013-06-27</td>\n",
       "      <td>19</td>\n",
       "      <td>19</td>\n",
       "      <td>31</td>\n",
       "    </tr>\n",
       "    <tr>\n",
       "      <th>2</th>\n",
       "      <td>8624583</td>\n",
       "      <td>11:12:00</td>\n",
       "      <td>11:13:00</td>\n",
       "      <td>87</td>\n",
       "      <td>88</td>\n",
       "      <td>Racine Ave &amp; Randolph St</td>\n",
       "      <td>88</td>\n",
       "      <td>Racine Ave &amp; Randolph St</td>\n",
       "      <td>1</td>\n",
       "      <td>0</td>\n",
       "      <td>...</td>\n",
       "      <td>0</td>\n",
       "      <td>0</td>\n",
       "      <td>155</td>\n",
       "      <td>0</td>\n",
       "      <td>155</td>\n",
       "      <td>2013-06-27</td>\n",
       "      <td>2013-06-27</td>\n",
       "      <td>19</td>\n",
       "      <td>19</td>\n",
       "      <td>31</td>\n",
       "    </tr>\n",
       "    <tr>\n",
       "      <th>3</th>\n",
       "      <td>8938223</td>\n",
       "      <td>11:24:00</td>\n",
       "      <td>14:38:00</td>\n",
       "      <td>11674</td>\n",
       "      <td>17</td>\n",
       "      <td>Honore St &amp; Division St</td>\n",
       "      <td>61</td>\n",
       "      <td>Wood St &amp; Milwaukee Ave</td>\n",
       "      <td>1</td>\n",
       "      <td>0</td>\n",
       "      <td>...</td>\n",
       "      <td>0</td>\n",
       "      <td>0</td>\n",
       "      <td>246</td>\n",
       "      <td>0</td>\n",
       "      <td>221</td>\n",
       "      <td>2013-06-27</td>\n",
       "      <td>2013-06-27</td>\n",
       "      <td>23</td>\n",
       "      <td>17</td>\n",
       "      <td>35</td>\n",
       "    </tr>\n",
       "    <tr>\n",
       "      <th>4</th>\n",
       "      <td>9359122</td>\n",
       "      <td>11:39:00</td>\n",
       "      <td>16:01:00</td>\n",
       "      <td>15758</td>\n",
       "      <td>88</td>\n",
       "      <td>Racine Ave &amp; Randolph St</td>\n",
       "      <td>34</td>\n",
       "      <td>Cannon Dr &amp; Fullerton Ave</td>\n",
       "      <td>1</td>\n",
       "      <td>0</td>\n",
       "      <td>...</td>\n",
       "      <td>0</td>\n",
       "      <td>0</td>\n",
       "      <td>155</td>\n",
       "      <td>0</td>\n",
       "      <td>124</td>\n",
       "      <td>2013-06-27</td>\n",
       "      <td>2013-06-27</td>\n",
       "      <td>19</td>\n",
       "      <td>15</td>\n",
       "      <td>31</td>\n",
       "    </tr>\n",
       "  </tbody>\n",
       "</table>\n",
       "<p>5 rows × 25 columns</p>\n",
       "</div>"
      ],
      "text/plain": [
       "     index start_time  end_time  trip_duration start_station_id  \\\n",
       "0   324105   01:06:00  09:46:00          31177           WL-012   \n",
       "1  8549730   11:09:00  11:11:00            140               88   \n",
       "2  8624583   11:12:00  11:13:00             87               88   \n",
       "3  8938223   11:24:00  14:38:00          11674               17   \n",
       "4  9359122   11:39:00  16:01:00          15758               88   \n",
       "\n",
       "             start_station_name end_station_id            end_station_name  \\\n",
       "0  Clinton St & Washington Blvd   TA1306000009  Larrabee St & Kingsbury St   \n",
       "1      Racine Ave & Randolph St             88    Racine Ave & Randolph St   \n",
       "2      Racine Ave & Randolph St             88    Racine Ave & Randolph St   \n",
       "3       Honore St & Division St             61     Wood St & Milwaukee Ave   \n",
       "4      Racine Ave & Randolph St             34   Cannon Dr & Fullerton Ave   \n",
       "\n",
       "   usertype  gender  ...  rideable_type  start_city  start_landmark  end_city  \\\n",
       "0         1       0  ...              0           0              10         0   \n",
       "1         1       0  ...              0           0             155         0   \n",
       "2         1       0  ...              0           0             155         0   \n",
       "3         1       0  ...              0           0             246         0   \n",
       "4         1       0  ...              0           0             155         0   \n",
       "\n",
       "   end_landmark  start_date   end_date  start_dpcapacity  end_dpcapacity  age  \n",
       "0            12  2013-06-27 2013-06-27                29              43   31  \n",
       "1           155  2013-06-27 2013-06-27                19              19   31  \n",
       "2           155  2013-06-27 2013-06-27                19              19   31  \n",
       "3           221  2013-06-27 2013-06-27                23              17   35  \n",
       "4           124  2013-06-27 2013-06-27                19              15   31  \n",
       "\n",
       "[5 rows x 25 columns]"
      ]
     },
     "execution_count": 5,
     "metadata": {},
     "output_type": "execute_result"
    }
   ],
   "source": [
    "merged2013_2022.head()"
   ]
  },
  {
   "cell_type": "code",
   "execution_count": 6,
   "id": "2ca2d697",
   "metadata": {},
   "outputs": [
    {
     "data": {
      "text/plain": [
       "Index(['index', 'start_time', 'end_time', 'trip_duration', 'start_station_id',\n",
       "       'start_station_name', 'end_station_id', 'end_station_name', 'usertype',\n",
       "       'gender', 'birthyear', 'start_lat', 'start_lng', 'end_lat', 'end_lng',\n",
       "       'rideable_type', 'start_city', 'start_landmark', 'end_city',\n",
       "       'end_landmark', 'start_date', 'end_date', 'start_dpcapacity',\n",
       "       'end_dpcapacity', 'age'],\n",
       "      dtype='object')"
      ]
     },
     "execution_count": 6,
     "metadata": {},
     "output_type": "execute_result"
    }
   ],
   "source": [
    "merged2013_2022.columns"
   ]
  },
  {
   "cell_type": "code",
   "execution_count": 7,
   "id": "c5f485ef",
   "metadata": {},
   "outputs": [],
   "source": [
    "merged2013_2022.drop('index', axis=1, inplace=True)"
   ]
  },
  {
   "cell_type": "code",
   "execution_count": 8,
   "id": "39f63556",
   "metadata": {},
   "outputs": [],
   "source": [
    "# I want to adjust dtypes a bit more so that we aren't using as much memory\n"
   ]
  },
  {
   "cell_type": "code",
   "execution_count": 9,
   "id": "16322d13",
   "metadata": {},
   "outputs": [
    {
     "data": {
      "text/plain": [
       "Index(['start_time', 'end_time', 'trip_duration', 'start_station_id',\n",
       "       'start_station_name', 'end_station_id', 'end_station_name', 'usertype',\n",
       "       'gender', 'birthyear', 'start_lat', 'start_lng', 'end_lat', 'end_lng',\n",
       "       'rideable_type', 'start_city', 'start_landmark', 'end_city',\n",
       "       'end_landmark', 'start_date', 'end_date', 'start_dpcapacity',\n",
       "       'end_dpcapacity', 'age'],\n",
       "      dtype='object')"
      ]
     },
     "execution_count": 9,
     "metadata": {},
     "output_type": "execute_result"
    }
   ],
   "source": [
    "merged2013_2022.columns"
   ]
  },
  {
   "cell_type": "code",
   "execution_count": 10,
   "id": "1e246a9c",
   "metadata": {},
   "outputs": [],
   "source": [
    "start_sta = list(merged2013_2022['start_station_name'].unique())\n",
    "end_sta = list(merged2013_2022['end_station_name'].unique())"
   ]
  },
  {
   "cell_type": "code",
   "execution_count": 11,
   "id": "8c4de9ee",
   "metadata": {},
   "outputs": [
    {
     "data": {
      "text/plain": [
       "True"
      ]
     },
     "execution_count": 11,
     "metadata": {},
     "output_type": "execute_result"
    }
   ],
   "source": [
    "sorted(start_sta) == sorted(end_sta)"
   ]
  },
  {
   "cell_type": "code",
   "execution_count": 12,
   "id": "5e19de29",
   "metadata": {},
   "outputs": [
    {
     "data": {
      "text/plain": [
       "array(['WL-012'], dtype=object)"
      ]
     },
     "execution_count": 12,
     "metadata": {},
     "output_type": "execute_result"
    }
   ],
   "source": [
    "merged2013_2022.loc[merged2013_2022['start_station_name'] == start_sta[0]]['start_station_id'].unique()"
   ]
  },
  {
   "cell_type": "code",
   "execution_count": 13,
   "id": "5036bb1e",
   "metadata": {},
   "outputs": [
    {
     "data": {
      "text/plain": [
       "array(['WL-012'], dtype=object)"
      ]
     },
     "execution_count": 13,
     "metadata": {},
     "output_type": "execute_result"
    }
   ],
   "source": [
    "merged2013_2022.loc[merged2013_2022['start_station_name'] == start_sta[0], 'start_station_id'].unique()"
   ]
  },
  {
   "cell_type": "code",
   "execution_count": 14,
   "id": "6c4413e0",
   "metadata": {},
   "outputs": [],
   "source": [
    "id_dict = {}"
   ]
  },
  {
   "cell_type": "code",
   "execution_count": 15,
   "id": "f00ffe8e",
   "metadata": {},
   "outputs": [],
   "source": [
    "for i in range(len(start_sta)):\n",
    "    id_dict[f'{start_sta[i]}'] = list(merged2013_2022.loc[merged2013_2022['start_station_name'] == start_sta[i], 'start_station_id'].unique())"
   ]
  },
  {
   "cell_type": "code",
   "execution_count": 16,
   "id": "192e7c17",
   "metadata": {},
   "outputs": [
    {
     "data": {
      "text/plain": [
       "{'Clinton St & Washington Blvd': ['WL-012'],\n",
       " 'Racine Ave & Randolph St': ['88'],\n",
       " 'Honore St & Division St': ['17'],\n",
       " 'Michigan Ave & Oak St': ['85'],\n",
       " 'Larrabee St & Menomonee St': ['TA1306000007'],\n",
       " 'Michigan Ave & Ida B Wells Dr': ['45'],\n",
       " 'Wood St & Milwaukee Ave': ['61'],\n",
       " 'Racine Ave & Congress Pkwy': ['TA1306000025'],\n",
       " 'Clinton St & Tilden St': ['68'],\n",
       " 'Throop St & Taylor St': ['19'],\n",
       " 'Halsted St & Wrightwood Ave': ['TA1309000061'],\n",
       " 'Loomis St & Lexington St': ['320'],\n",
       " 'Cannon Dr & Fullerton Ave': ['34'],\n",
       " 'Wabash Ave & Cermak Rd': ['TA1305000001'],\n",
       " 'Halsted St & James M Rochford St': ['55'],\n",
       " 'Franklin St & Jackson Blvd': ['TA1305000025'],\n",
       " 'Daley Center Plaza': ['TA1306000010'],\n",
       " 'Dearborn St & Adams St': ['TA1305000005'],\n",
       " 'State St & Randolph St': ['TA1305000029'],\n",
       " 'Lincoln Ave & Armitage Ave': ['94'],\n",
       " 'Clark St & Wrightwood Ave': ['TA1305000014'],\n",
       " 'DuSable Lake Shore Dr & Monroe St': ['76', '13300'],\n",
       " 'Millennium Park': ['90'],\n",
       " 'Michigan Ave & Lake St': ['TA1305000011'],\n",
       " 'Clark St & Randolph St': ['TA1305000030'],\n",
       " 'Southport Ave & Wrightwood Ave': ['TA1307000113'],\n",
       " 'Fairbanks Ct & Grand Ave': ['TA1305000003'],\n",
       " 'Ogden Ave & Chicago Ave': ['TA1305000020'],\n",
       " 'Sheffield Ave & Kingsbury St': ['20'],\n",
       " 'Franklin St & Chicago Ave': ['31'],\n",
       " 'Kingsbury St & Erie St': ['74'],\n",
       " 'Clinton St & Madison St': ['TA1305000032'],\n",
       " 'Damen Ave & Pierce Ave': ['TA1305000041'],\n",
       " 'Dayton St & North Ave': ['60'],\n",
       " 'Wabash Ave & Roosevelt Rd': ['TA1305000002'],\n",
       " 'Sheffield Ave & Fullerton Ave': ['TA1306000016'],\n",
       " 'Jefferson St & Monroe St': ['WL-011'],\n",
       " 'Noble St & Milwaukee Ave': ['29'],\n",
       " 'Lincoln Ave & Eastwood Ave': ['311'],\n",
       " 'Wabash Ave & 16th St': ['72'],\n",
       " 'Canal St & Jackson Blvd': ['75'],\n",
       " 'Larrabee St & Kingsbury St': ['TA1306000009'],\n",
       " 'Paulina Ave & North Ave': ['16'],\n",
       " 'Halsted St & Polk St': ['TA1307000121'],\n",
       " 'State St & Harrison St': ['SL-007'],\n",
       " 'Ashland Ave & Augusta Blvd': ['30'],\n",
       " 'McClurg Ct & Illinois St': ['26'],\n",
       " 'Michigan Ave & Pearson St': ['25'],\n",
       " 'Racine Ave & 18th St': ['15'],\n",
       " 'Clinton St & Lake St': ['66'],\n",
       " 'Ashland Ave & Wrightwood Ave': ['166'],\n",
       " 'Aberdeen St & Jackson Blvd': ['21'],\n",
       " 'Ashland Ave & Armitage Ave': ['58'],\n",
       " 'Ashland Ave & Chicago Ave': ['350'],\n",
       " 'May St & Taylor St': ['22'],\n",
       " 'Clarendon Ave & Leland Ave': ['TA1307000119'],\n",
       " 'Wells St & Walton St': ['TA1306000011'],\n",
       " 'Larrabee St & North Ave': ['TA1306000008'],\n",
       " 'Adler Planetarium': ['341'],\n",
       " 'Calumet Ave & 33rd St': ['149'],\n",
       " 'Lincoln Ave & Fullerton Ave': ['TA1309000058'],\n",
       " 'Franklin St & Lake St': ['TA1307000111'],\n",
       " 'Halsted St & 35th St': ['TA1308000043'],\n",
       " 'Greenwood Ave & 47th St': ['TA1308000002'],\n",
       " 'Pine Grove Ave & Waveland Ave': ['232'],\n",
       " 'Cottage Grove Ave & 51st St': ['TA1309000067'],\n",
       " 'McCormick Place': ['TA1305000004'],\n",
       " 'DuSable Lake Shore Dr & Ohio St': ['TA1306000029', 'TA1306000030'],\n",
       " 'Green St & Milwaukee Ave': ['84'],\n",
       " 'Clark St & Ida B Wells Dr': ['50'],\n",
       " 'Ashland Ave & Wellington Ave': ['250'],\n",
       " 'Desplaines St & Kinzie St': ['TA1306000003'],\n",
       " 'Halsted St & 37th St': ['TA1307000161'],\n",
       " 'Field Museum': ['97'],\n",
       " 'Clinton St & Roosevelt Rd': ['WL-008'],\n",
       " 'Michigan Ave & Washington St': ['43'],\n",
       " 'State St & Van Buren St': ['TA1305000035'],\n",
       " 'State St & Kinzie St': ['47'],\n",
       " 'Kimbark Ave & 53rd St': ['TA1309000037'],\n",
       " 'Morgan St & 18th St': ['14'],\n",
       " 'Racine Ave & Fullerton Ave': ['TA1306000026'],\n",
       " 'Broadway & Barry Ave': ['300'],\n",
       " 'Morgan St & Lake St*': ['TA1306000015', 'chargingstx4'],\n",
       " 'Indiana Ave & Roosevelt Rd': ['SL-005'],\n",
       " 'Orleans St & Elm St': ['TA1306000006'],\n",
       " 'Montrose Harbor': ['TA1308000012'],\n",
       " 'Ravenswood Ave & Irving Park Rd': ['TA1307000149'],\n",
       " 'Sheffield Ave & Willow St': ['TA1306000032'],\n",
       " 'Dearborn St & Monroe St': ['TA1305000006'],\n",
       " 'Wells St & Erie St': ['53'],\n",
       " 'Aberdeen St & Monroe St': ['80'],\n",
       " 'Blackstone Ave & Hyde Park Blvd': ['121'],\n",
       " 'Hampden Ct & Diversey Pkwy': ['220'],\n",
       " 'Wilton Ave & Diversey Pkwy': ['TA1306000014',\n",
       "  'Wilton Ave & Diversey Pkwy - Charging'],\n",
       " 'LaSalle St & Illinois St': ['181'],\n",
       " 'Carpenter St & Huron St': ['92'],\n",
       " 'Eckhart Park': ['86'],\n",
       " 'Wood St & Hubbard St': ['285'],\n",
       " 'California Ave & 21st St': ['348'],\n",
       " 'Clarendon Ave & Gordon Ter': ['312'],\n",
       " 'Green St & Randolph St*': ['112', 'chargingstx3'],\n",
       " 'Martin Luther King Dr & Oakwood Blvd': ['179'],\n",
       " 'Clark St & Waveland Ave': ['165'],\n",
       " 'Ellis Ave & 58th St': ['TA1309000011'],\n",
       " 'Western Ave & Division St': ['305'],\n",
       " 'Greenview Ave & Diversey Pkwy': ['319'],\n",
       " 'Lakeview Ave & Fullerton Pkwy': ['TA1309000019'],\n",
       " 'Columbus Dr & Randolph St': ['195'],\n",
       " 'Clark St & Lincoln Ave': ['141'],\n",
       " 'Lincoln Ave & Addison St': ['TA1309000050'],\n",
       " 'Canal St & Adams St': ['192'],\n",
       " 'Greenview Ave & Fullerton Ave': ['TA1307000001'],\n",
       " 'LaSalle St & Washington St': ['98'],\n",
       " 'Canal St & Harrison St': ['169'],\n",
       " 'Michigan Ave & 18th St': ['273'],\n",
       " 'California Ave & Milwaukee Ave': ['123'],\n",
       " 'Claremont Ave & Hirsch St': ['159'],\n",
       " 'Orleans St & Merchandise Mart Plaza': ['TA1305000022'],\n",
       " 'State St & 19th St': ['SL-013'],\n",
       " 'N Sheffield Ave & W Wellington Ave': ['TA1307000052', '20256'],\n",
       " 'Clinton St & 18th St': ['TA1307000044'],\n",
       " 'Peoria St & Jackson Blvd': ['134'],\n",
       " 'Fort Dearborn Dr & 31st St': ['TA1307000048'],\n",
       " 'Halsted St & 21st St': ['135'],\n",
       " 'Damen Ave & Coulter St': ['TA1307000066'],\n",
       " 'Indiana Ave & 26th St': ['TA1307000005'],\n",
       " 'Blue Island Ave & 18th St': ['129'],\n",
       " 'Damen Ave & Thomas St (Augusta Blvd)': ['183'],\n",
       " 'Southport Ave & Wellington Ave': ['TA1307000006'],\n",
       " 'Damen Ave & Wellington Ave': ['162'],\n",
       " 'Western Ave & Winnebago Ave': ['116'],\n",
       " 'May St & Cullerton St': ['171'],\n",
       " 'Damen Ave & Division St': ['130'],\n",
       " 'Stave St & Armitage Ave': ['185'],\n",
       " 'Canal St & Madison St': ['174'],\n",
       " 'Campbell Ave & North Ave': ['160'],\n",
       " 'Milwaukee Ave & Wabansia Ave': ['158'],\n",
       " 'Ogden Ave & Race Ave': ['186'],\n",
       " 'Loomis St & Jackson Blvd': ['146'],\n",
       " 'Ashland Ave & Lake St': ['119'],\n",
       " 'Wabash Ave & 9th St': ['321'],\n",
       " 'Ogden Ave & Congress Pkwy': ['122'],\n",
       " 'Clark St & North Ave': ['126'],\n",
       " 'Paulina St & Diversey Pkwy': ['164'],\n",
       " 'Southport Ave & Belmont Ave': ['154'],\n",
       " 'Wells St & Ohio St': ['213'],\n",
       " 'Lincoln Ave & Diversey Pkwy': ['TA1307000064'],\n",
       " 'Ashland Ave & Grace St': ['347'],\n",
       " 'Morgan Ave & 14th Pl': ['TA1306000002'],\n",
       " 'Racine Ave & 13th St': ['136'],\n",
       " 'Mies van der Rohe Way & Chicago Ave': ['173'],\n",
       " 'Clark St & Elm St': ['TA1307000039'],\n",
       " 'Sedgwick St & North Ave': ['TA1307000038'],\n",
       " 'Halsted St & Willow St': ['TA1307000166'],\n",
       " 'Dearborn St & Erie St': ['110'],\n",
       " 'Dearborn Pkwy & Delaware Pl': ['TA1307000128'],\n",
       " 'State St & Pearson St': ['TA1307000061'],\n",
       " 'Lake Shore Dr & Wellington Ave': ['TA1307000041'],\n",
       " 'Sedgwick St & Huron St': ['TA1307000062'],\n",
       " 'Sheffield Ave & Waveland Ave': ['114'],\n",
       " 'Sangamon St & Washington Blvd': ['233'],\n",
       " 'Wilton Ave & Belmont Ave': ['TA1307000134'],\n",
       " 'Larrabee St & Webster Ave': ['144'],\n",
       " 'Southport Ave & Roscoe St': ['229'],\n",
       " 'Clark St & Wellington Ave': ['TA1307000136'],\n",
       " 'Sedgwick St & Webster Ave': ['143'],\n",
       " 'Michigan Ave & 14th St': ['TA1307000124'],\n",
       " 'Wells St & Polk St': ['SL-011'],\n",
       " 'Damen Ave & Chicago Ave': ['128'],\n",
       " 'Ravenswood Ave & Berteau Ave': ['TA1309000018'],\n",
       " 'Damen Ave & Cullerton St': ['124'],\n",
       " 'Streeter Dr & Grand Ave': ['35'],\n",
       " 'Clybourn Ave & Division St': ['TA1307000115'],\n",
       " 'State St & 35th St': ['TA1307000129'],\n",
       " '900 W Harrison St': ['109'],\n",
       " 'Wentworth Ave & Cermak Rd': ['120'],\n",
       " 'Canal St & Monroe St': ['191'],\n",
       " 'Cityfront Plaza Dr & Pioneer Ct': ['196'],\n",
       " 'State St & Wacker Dr': ['194'],\n",
       " 'Wabash Ave & Grand Ave': ['TA1307000117'],\n",
       " 'Michigan Ave & Madison St': ['197'],\n",
       " 'Green St & Madison Ave*': ['198'],\n",
       " 'Sheridan Rd & Irving Park Rd': ['240'],\n",
       " 'Halsted St & 18th St': ['202'],\n",
       " 'Theater on the Lake': ['TA1308000001'],\n",
       " 'MLK Jr Dr & 47th St': ['200'],\n",
       " 'Paulina St & 18th St': ['TA1307000159'],\n",
       " 'Halsted St & Archer Ave': ['TA1308000013'],\n",
       " 'Public Rack - Prairie Ave & Garfield Blvd': ['TA1307000160'],\n",
       " 'St Clair St & Erie St': ['211'],\n",
       " 'Damen Ave & Madison St': ['215'],\n",
       " 'Emerald Ave & 28th St': ['TA1307000153'],\n",
       " 'Indiana Ave & 40th St': ['201'],\n",
       " 'Western Ave & 21st St': ['203'],\n",
       " 'Ashland Ave & Division St': ['210'],\n",
       " 'Elizabeth St & Fulton St': ['217'],\n",
       " 'Normal Ave & Archer Ave': ['TA1308000014'],\n",
       " 'Damen Ave & Grand Ave': ['TA1308000006'],\n",
       " 'California Ave & Division St': ['216'],\n",
       " 'Leavitt St & North Ave': ['TA1308000005'],\n",
       " 'Ashland Ave & 21st St': ['208'],\n",
       " 'Halsted St & Dickens Ave': ['225'],\n",
       " 'Racine Ave & Belmont Ave': ['TA1308000019'],\n",
       " 'Sheridan Rd & Montrose Ave': ['TA1307000107'],\n",
       " 'Southport Ave & Waveland Ave': ['227'],\n",
       " 'Damen Ave & Cortland St': ['219'],\n",
       " 'Lincoln Ave & Roscoe St*': ['TA1307000138', 'chargingstx5'],\n",
       " 'MLK Jr Dr & 29th St': ['237'],\n",
       " 'Damen Ave & Melrose Ave': ['228'],\n",
       " 'Western Ave & Leland Ave': ['TA1307000140'],\n",
       " 'Clark St & Montrose Ave': ['KA1503000022'],\n",
       " 'Sedgwick St & Schiller St': ['TA1307000143'],\n",
       " 'Clifton Ave & Armitage Ave': ['TA1307000163'],\n",
       " 'Morgan St & Polk St': ['TA1307000130'],\n",
       " 'Wolcott (Ravenswood) Ave & Montrose Ave': ['238'],\n",
       " 'Lincoln Ave & Sunnyside Ave': ['243'],\n",
       " 'Damen Ave & Leland Ave': ['TA1307000158'],\n",
       " 'Milwaukee Ave & Rockwell St': ['222'],\n",
       " 'Wells St & 19th St': ['SL-006'],\n",
       " 'Woodlawn Ave & 55th St': ['TA1307000164'],\n",
       " 'Shore Drive & 55th St': ['247'],\n",
       " 'State St & 29th St': ['193'],\n",
       " 'Clarendon Ave & Junior Ter': ['245'],\n",
       " 'Ashland Ave & Belle Plaine Ave': ['246'],\n",
       " 'Wolcott Ave & Polk St': ['TA1309000064'],\n",
       " 'State St & 33rd St': ['148'],\n",
       " 'California Ave & Francis Pl': ['259'],\n",
       " 'Hermitage Ave & Polk St': ['261'],\n",
       " 'Bissell St & Armitage Ave*': ['113', 'chargingstx1'],\n",
       " 'Broadway & Sheridan Rd': ['256'],\n",
       " 'Winthrop Ave & Lawrence Ave': ['253'],\n",
       " 'Wentworth Ave & 24th St': ['TA1308000026'],\n",
       " 'Calumet Ave & 18th St': ['338'],\n",
       " 'Southport Ave & Clark St': ['TA1308000047'],\n",
       " 'Pine Grove Ave & Irving Park Rd': ['TA1308000022'],\n",
       " 'Logan Blvd & Elston Ave': ['TA1308000031'],\n",
       " 'Lincoln Ave & Waveland Ave': ['257'],\n",
       " 'Ashland Ave & Grand Ave': ['277'],\n",
       " 'DuSable Lake Shore Dr & North Blvd': ['LF-005', 'LF-006'],\n",
       " 'Cottage Grove Ave & 43rd St': ['TA1308000023'],\n",
       " 'Ashland Ave & 13th St': ['275'],\n",
       " 'California Ave & North Ave': ['276'],\n",
       " 'Indiana Ave & 31st St': ['TA1308000036'],\n",
       " 'Racine Ave & 15th St': ['274'],\n",
       " 'Western Ave & 24th St': ['TA1309000003'],\n",
       " 'Franklin St & Monroe St': ['287'],\n",
       " 'Wells St & Evergreen Ave': ['TA1308000049'],\n",
       " 'Broadway & Belmont Ave': ['296'],\n",
       " 'Halsted St & Maxwell St': ['TA1305000017'],\n",
       " 'Morgan St & 31st St': ['TA1308000046'],\n",
       " 'Larrabee St & Armitage Ave': ['TA1309000006'],\n",
       " 'Wallace St & 35th St': ['278'],\n",
       " 'Michigan Ave & Jackson Blvd': ['TA1309000002'],\n",
       " 'LaSalle St & Jackson Blvd': ['TA1309000004'],\n",
       " 'Franklin St & Adams St': ['TA1309000008'],\n",
       " 'Wells St & Concord Ln': ['289'],\n",
       " 'Kedzie Ave & Milwaukee Ave': ['260'],\n",
       " 'Public Rack - Lake Park Ave & 47th St': ['TA1308000035'],\n",
       " 'Rhodes Ave & 32nd St': ['263'],\n",
       " 'Cottage Grove Ave & Oakwood Blvd': ['TA1308000038'],\n",
       " 'Stetson Ave & South Water St': ['TA1308000029'],\n",
       " 'Broadway & Wilson Ave': ['293'],\n",
       " 'Broadway & Berwyn Ave': ['294'],\n",
       " 'Broadway & Argyle St': ['295'],\n",
       " 'Clark St & Schiller St': ['TA1309000024'],\n",
       " 'Halsted St & Roscoe St': ['TA1309000025'],\n",
       " 'Paulina St & Montrose Ave': ['TA1309000021'],\n",
       " 'Broadway & Cornelia Ave': ['303'],\n",
       " 'Broadway & Waveland Ave': ['304'],\n",
       " 'Leavitt St & Armitage Ave': ['TA1309000029'],\n",
       " 'Sheffield Ave & Wrightwood Ave': ['TA1309000023'],\n",
       " 'Damen Ave & Charleston St': ['310'],\n",
       " 'Leavitt St & Hirsch St': ['315'],\n",
       " 'Wood St & Taylor St': ['317'],\n",
       " 'Southport Ave & Irving Park Rd': ['TA1309000043'],\n",
       " 'Sheridan Rd & Lawrence Ave': ['TA1309000041'],\n",
       " 'Lincoln Ave & Belmont Ave': ['TA1309000042'],\n",
       " 'Clark St & Winnemac Ave': ['TA1309000035'],\n",
       " 'Sheridan Rd & Buena Ave': ['TA1309000027'],\n",
       " 'Southport Ave & Clybourn Ave': ['TA1309000030'],\n",
       " 'Sheffield Ave & Webster Ave': ['TA1309000033'],\n",
       " 'Damen Ave & Sunnyside Ave': ['TA1309000012'],\n",
       " 'DuSable Lake Shore Dr & Diversey Pkwy': ['TA1309000039', 'TA1309000040'],\n",
       " 'Seeley Ave & Roscoe St': ['308'],\n",
       " 'DuSable Lake Shore Dr & Belmont Ave': ['TA1309000049', 'TA1309000048'],\n",
       " 'Clark St & Leland Ave': ['TA1309000014'],\n",
       " 'Ashland Ave & Blackhawk St': ['333'],\n",
       " 'Clark St & Chicago Ave': ['337'],\n",
       " 'Burling St & Diversey Pkwy': ['332'],\n",
       " 'Halsted St & Clybourn Ave': ['331'],\n",
       " 'Emerald Ave & 31st St': ['TA1309000055'],\n",
       " 'Lincoln Ave & Belle Plaine Ave': ['TA1309000026'],\n",
       " 'Stockton Dr & Wrightwood Ave': ['324'],\n",
       " 'Lake Park Ave & 56th St': ['TA1309000063'],\n",
       " 'Ravenswood Ave & Lawrence Ave': ['344'],\n",
       " 'Kedzie Ave & Palmer Ct': ['290'],\n",
       " 'Ada St & Washington Blvd': ['346'],\n",
       " 'Cottage Grove Ave & 47th St': ['TA1309000053'],\n",
       " 'Calumet Ave & 35th St': ['335'],\n",
       " 'Racine Ave & Wrightwood Ave': ['TA1309000059'],\n",
       " 'Clark St & Armitage Ave': ['13146'],\n",
       " 'Marshfield Ave & Cortland St': ['TA1305000039'],\n",
       " 'Wells St & Hubbard St': ['TA1307000151'],\n",
       " 'Wabash Ave & Wacker Pl': ['TA1307000131'],\n",
       " 'Clark St & Grace St': ['TA1307000127'],\n",
       " 'Union Ave & Grand Ave': ['87'],\n",
       " 'Leavitt St & Lawrence Ave': ['TA1309000015'],\n",
       " 'MLK Jr Dr & Oakwood Blvd': ['180'],\n",
       " 'Damen Ave & Clybourn Ave': ['163'],\n",
       " 'Ellis Ave & 55th St': ['KA1504000076'],\n",
       " 'Loomis St & Archer Ave': ['KA1503000040'],\n",
       " 'Racine Ave & 35th St': ['367'],\n",
       " 'Ashland Ave & Archer Ave': ['368'],\n",
       " 'Leavitt St & Archer Ave': ['KA1503000068'],\n",
       " 'Wentworth Ave & 33rd St': ['403'],\n",
       " 'Union Ave & Root St': ['408'],\n",
       " 'Wood St & 35th St': ['KA1503000066'],\n",
       " 'State St & Pershing Rd': ['407'],\n",
       " 'Dorchester Ave & 49th St': ['KA1503000069'],\n",
       " 'Prairie Ave & 43rd St': ['KA1503000027'],\n",
       " 'Halsted St & 47th Pl': ['KA1503000051'],\n",
       " 'Woodlawn Ave & Lake Park Ave': ['KA1503000065'],\n",
       " 'Cornell Ave & Hyde Park Blvd': ['417'],\n",
       " 'Lake Park Ave & 35th St': ['KA1503000004'],\n",
       " 'Lake Park Ave & 53rd St': ['KA1503000059'],\n",
       " 'Halsted St & 56th St': ['KA1503000011'],\n",
       " 'Princeton Ave & 47th St': ['KA1503000009'],\n",
       " 'Ellis Ave & 60th St': ['KA1503000014'],\n",
       " 'Harper Ave & 59th St': ['KA1503000070'],\n",
       " 'University Ave & 57th St': ['KA1503000071'],\n",
       " 'Shields Ave & 43rd St': ['KA1503000001'],\n",
       " 'Shields Ave & 31st St': ['402'],\n",
       " 'Ellis Ave & 53rd St': ['KA1503000052'],\n",
       " 'Museum of Science and Industry': ['KA1503000074'],\n",
       " 'Wacker Dr & Washington St': ['KA1503000072'],\n",
       " 'Clark St & Lake St': ['KA1503000012'],\n",
       " 'Field Blvd & South Water St': ['7'],\n",
       " 'Wabash Ave & Adams St': ['KA1503000015'],\n",
       " 'Public Rack - Calumet Ave & 51st St': ['415'],\n",
       " 'Halsted St & 51st St': ['KA1503000010'],\n",
       " '63rd St Beach': ['101'],\n",
       " 'Cottage Grove Ave & 71st St': ['KA1503000003'],\n",
       " 'Shedd Aquarium': ['3'],\n",
       " 'Dusable Harbor': ['KA1503000064'],\n",
       " 'Cottage Grove Ave & 63rd St': ['KA1503000054'],\n",
       " 'Kingsbury St & Kinzie St': ['KA1503000043'],\n",
       " 'Desplaines St & Randolph St': ['96'],\n",
       " 'Federal St & Polk St': ['SL-008'],\n",
       " 'Desplaines St & Jackson Blvd': ['107'],\n",
       " 'LaSalle St & Adams St': ['KA1503000034'],\n",
       " 'Calumet Ave & 71st St': ['393'],\n",
       " 'MLK Jr Dr & 63rd St': ['KA1503000053'],\n",
       " 'South Shore Dr & 67th St': ['KA1503000029'],\n",
       " 'Public Rack - South Shore Dr & 71st St': ['KA1503000002'],\n",
       " 'Rainbow Beach': ['KA1503000049'],\n",
       " 'Public Rack - Halsted St & 63rd St': ['KA1503000055'],\n",
       " 'Dorchester Ave & 63rd St': ['KA1503000046'],\n",
       " 'Ogden Ave & Roosevelt Rd': ['KA1504000101'],\n",
       " 'Kedzie Ave & Harrison St': ['KA1504000082'],\n",
       " 'Ashland Ave & Harrison St': ['383'],\n",
       " 'Kedzie Ave & Roosevelt Rd': ['435'],\n",
       " 'Kedzie Ave & 21st St': ['439'],\n",
       " 'Kedzie Ave & 24th St': ['KA1504000086'],\n",
       " 'Albany Ave & 26th St': ['444'],\n",
       " 'Artesian Ave & Hubbard St': ['376'],\n",
       " 'Public Rack - Eberhart Ave & 61st St': ['KA1503000033'],\n",
       " 'Western Ave & Monroe St': ['381'],\n",
       " 'California Ave & Lake St': ['378'],\n",
       " 'Western Ave & Walton St': ['KA1504000103'],\n",
       " 'Stony Island Ave & 75th St': ['KA1503000019'],\n",
       " 'Western Ave & Congress Pkwy': ['382'],\n",
       " 'Jeffery Blvd & 67th St': ['KA1503000030'],\n",
       " 'Princeton Ave & Garfield Blvd': ['KA1503000013'],\n",
       " 'California Ave & 23rd Pl': ['442'],\n",
       " 'California Ave & 26th St': ['445'],\n",
       " 'Fairfield Ave & Roosevelt Rd': ['436'],\n",
       " 'South Shore Dr & 74th St': ['KA1503000020'],\n",
       " 'Kedzie Ave & Lake St': ['KA1504000106'],\n",
       " 'Public Rack - Central Park Ave & Ogden Ave': ['438'],\n",
       " 'Stony Island Ave & 67th St': ['KA1503000023'],\n",
       " 'California Ave & Augusta Blvd': ['357'],\n",
       " 'Stony Island Ave & 71st St': ['KA1503000045'],\n",
       " 'Spaulding Ave & Armitage Ave': ['506'],\n",
       " 'Millard Ave & 26th St': ['KA1504000110'],\n",
       " 'Kosciuszko Park': ['499'],\n",
       " 'Jeffery Blvd & 71st St': ['KA1503000018'],\n",
       " 'Calumet Ave & 21st St': ['370'],\n",
       " 'Troy St & North Ave': ['509'],\n",
       " 'Central Park Ave & North Ave': ['508'],\n",
       " 'Humboldt Blvd & Armitage Ave': ['507'],\n",
       " 'Spaulding Ave & Division St': ['510'],\n",
       " 'Public Rack - Kedzie Ave & Chicago Ave': ['KA1504000114'],\n",
       " 'St. Louis Ave & Fullerton Ave': ['503'],\n",
       " 'Kimball Ave & Belmont Ave': ['KA150400009X'],\n",
       " 'Larrabee St & Division St': ['KA1504000079'],\n",
       " 'Halsted St & 69th St': ['391'],\n",
       " 'Larrabee St & Oak St': ['KA1504000116'],\n",
       " 'Jeffery Blvd & 76th St': ['KA1503000028'],\n",
       " 'Cottage Grove Ave & 67th St': ['KA1503000031'],\n",
       " 'Saginaw Ave & Exchange Ave': ['397'],\n",
       " 'California Ave & Fletcher St': ['498'],\n",
       " 'Talman Ave & Addison St': ['491'],\n",
       " 'Western Ave & Roscoe St': ['493'],\n",
       " 'Sawyer Ave & Irving Park Rd': ['KA1504000096'],\n",
       " 'Central Park Ave & Elbridge Ave': ['500'],\n",
       " 'Drake Ave & Montrose Ave': ['KA1504000097'],\n",
       " 'Rockwell St & Eastwood Ave': ['KA1504000093'],\n",
       " 'Richmond St & Diversey Ave': ['501'],\n",
       " 'Washtenaw Ave & Lawrence Ave': ['KA1504000080'],\n",
       " 'Kedzie Ave & Leland Ave': ['KA1504000126'],\n",
       " 'Kedzie Ave & Foster Ave': ['KA1504000128'],\n",
       " 'Troy St & Elston Ave': ['490'],\n",
       " 'Albany Ave & Bloomingdale Ave': ['511'],\n",
       " 'Lincoln Ave & Winona St': ['KA1504000078'],\n",
       " 'Manor Ave & Leland Ave': ['KA1504000127'],\n",
       " 'Budlong Woods Library': ['468'],\n",
       " 'Albany Ave & Montrose Ave': ['480'],\n",
       " 'Winchester Ave & Elston Ave': ['KA1504000140'],\n",
       " 'Monticello Ave & Irving Park Rd': ['KA1504000139'],\n",
       " 'Avondale Ave & Irving Park Rd': ['483'],\n",
       " 'Stony Island Ave & 64th St': ['KA1503000021'],\n",
       " 'Michigan Ave & 8th St': ['623'],\n",
       " 'Financial Pl & Ida B Wells Dr': ['89'],\n",
       " 'Rush St & Hubbard St': ['KA1503000044'],\n",
       " 'McClurg Ct & Erie St': ['KA1503000041'],\n",
       " 'Mies van der Rohe Way & Chestnut St': ['145'],\n",
       " 'Clinton St & Polk St': ['103'],\n",
       " 'Rush St & Superior St': ['161'],\n",
       " 'Rush St & Cedar St': ['KA1504000133'],\n",
       " 'Ritchie Ct & Banks St': ['KA1504000134'],\n",
       " 'MLK Jr Dr & 56th St': ['KA1503000073'],\n",
       " 'Shields Ave & 28th Pl': ['401'],\n",
       " 'Broadway & Granville Ave': ['454'],\n",
       " 'Broadway & Ridge Ave': ['461'],\n",
       " 'Lakefront Trail & Bryn Mawr Ave': ['KA1504000152'],\n",
       " 'Clark St & Bryn Mawr Ave': ['KA1504000151'],\n",
       " 'Public Rack - Lawndale Ave & 23rd St': ['1070'],\n",
       " 'Clark St & Elmdale Ave': ['KA1504000148'],\n",
       " 'Broadway & Thorndale Ave': ['458'],\n",
       " 'Clark St & Columbia Ave': ['RP-008'],\n",
       " 'Yates Blvd & 75th St': ['KA1503000024'],\n",
       " 'Perry Ave & 69th St': ['KA1503000047'],\n",
       " 'Clark St & Schreiber Ave': ['KA1504000156'],\n",
       " 'Western Ave & Granville Ave': ['KA1504000129'],\n",
       " '2112 W Peterson Ave': ['KA1504000155'],\n",
       " 'Maplewood Ave & Peterson Ave': ['KA1504000130'],\n",
       " 'Oakley Ave & Irving Park Rd': ['KA1504000158'],\n",
       " 'Warren Park East': ['RP-002'],\n",
       " 'Warren Park West': ['RP-001'],\n",
       " 'Leavitt St & Addison St': ['KA1504000143'],\n",
       " 'Pulaski Rd & Eddy St': ['KA1504000141'],\n",
       " 'Drake Ave & Addison St': ['KA1504000142'],\n",
       " 'Damen Ave & Foster Ave': ['KA1504000149'],\n",
       " 'California Ave & Altgeld St': ['502'],\n",
       " 'Avers Ave & Belmont Ave': ['496'],\n",
       " 'Clark St & Berwyn Ave': ['KA1504000146'],\n",
       " 'Winchester (Ravenswood) Ave & Balmoral Ave': ['462'],\n",
       " 'Campbell Ave & Montrose Ave': ['482'],\n",
       " 'Francisco Ave & Foster Ave': ['KA1504000160'],\n",
       " 'Clark St & Lunt Ave': ['KA1504000162'],\n",
       " 'Sheridan Rd & Loyola Ave': ['RP-009'],\n",
       " 'Sacramento Blvd & Franklin Blvd': ['KA1504000113'],\n",
       " 'Sheridan Rd & Greenleaf Ave': ['KA1504000159'],\n",
       " 'Western Ave & Lunt Ave': ['RP-005'],\n",
       " 'Glenwood Ave & Morse Ave': ['KA1504000175'],\n",
       " 'Ridge Blvd & Touhy Ave': ['RP-006'],\n",
       " 'Burnham Harbor': ['4'],\n",
       " 'Keystone Ave & Montrose Ave': ['KA1504000164'],\n",
       " 'Public Rack - Christiana Ave & Lawrence Ave': ['474'],\n",
       " 'Halsted St & North Branch St': ['KA1504000117'],\n",
       " 'St. Louis Ave & Balmoral Ave': ['KA1504000161'],\n",
       " 'Princeton Ave & China Pl': ['1119'],\n",
       " 'Clark St & Touhy Ave': ['RP-007'],\n",
       " 'Wentworth Ave & 63rd St': ['KA1503000025'],\n",
       " 'Kedzie Ave & Bryn Mawr Ave': ['KA1504000167'],\n",
       " 'Western Ave & 28th St': ['446', '446.0', 'KA1504000168', 'KA1504000169'],\n",
       " 'Campbell Ave & Fullerton Ave': ['504'],\n",
       " 'Washtenaw Ave & Ogden Ave': ['437'],\n",
       " 'Wells St & Elm St': ['KA1504000135'],\n",
       " 'Elston Ave & Wabansia Ave': ['TA1309000032'],\n",
       " 'Buckingham Fountain': ['2'],\n",
       " 'Humboldt Dr & Luis Munoz Marin Dr': ['372'],\n",
       " 'Canal St & Taylor St': ['414'],\n",
       " 'DuSable Museum': ['KA1503000075'],\n",
       " 'California Ave & Byron St': ['487'],\n",
       " 'California Ave & Montrose Ave': ['481'],\n",
       " 'Marine Dr & Ainslie St': ['KA1504000171'],\n",
       " 'Clark St & 9th St (AMLI)': ['SL-009'],\n",
       " 'Orleans St & Ohio St': ['212'],\n",
       " 'Ravenswood Ave & Montrose Ave': ['239'],\n",
       " 'Loomis St & Taylor St': ['24'],\n",
       " 'Wells St & Huron St': ['TA1306000012'],\n",
       " 'Halsted St & Blackhawk St': ['1147'],\n",
       " 'Shore Dr & 55th St': ['TA1308000009'],\n",
       " 'Washtenaw Ave & 15th St': ['1091'],\n",
       " 'Conservatory Dr & Lake St': ['518'],\n",
       " 'Karlov Ave & Madison St': ['534'],\n",
       " 'Kenton Ave & Madison St': ['537'],\n",
       " 'Austin Blvd & Lake St': ['532'],\n",
       " 'Laramie Ave & Kinzie St': ['530'],\n",
       " 'Laramie Ave & Madison St': ['540'],\n",
       " 'Central Park Blvd & 5th Ave': ['533'],\n",
       " 'Kostner Ave & Lake St': ['536'],\n",
       " 'Kostner Ave & Adams St': ['1111'],\n",
       " 'Central Ave & Harrison St': ['541'],\n",
       " 'Public Rack - Pulaski Rd & Lake St': ['528'],\n",
       " 'Cicero Ave & Flournoy St': ['538'],\n",
       " 'Austin Blvd & Madison St': ['544'],\n",
       " 'Damen Ave & Pershing Rd': ['546'],\n",
       " 'Cicero Ave & Quincy St': ['539'],\n",
       " 'Laramie Ave & Gladys Ave': ['543'],\n",
       " 'Cicero Ave & Lake St': ['529'],\n",
       " 'Ashland Ave & Pershing Rd': ['547'],\n",
       " 'Pulaski Rd & Congress Pkwy': ['535'],\n",
       " 'Western Blvd & 48th Pl': ['594'],\n",
       " 'Hoyne Ave & 47th St': ['KA1504000091'],\n",
       " 'Ashland Ave & McDowell Ave': ['552'],\n",
       " 'Morgan St & Pershing Rd': ['548'],\n",
       " 'Ashland Ave & 50th St': ['555'],\n",
       " 'Racine Ave & Garfield Blvd': ['559'],\n",
       " 'Damen Ave & 51st St': ['554'],\n",
       " 'Central Ave & Madison St': ['542'],\n",
       " 'Ashland Ave & 66th St': ['565'],\n",
       " 'State St & 76th St': ['572'],\n",
       " 'Throop St & 52nd St': ['556'],\n",
       " 'Public Rack - Ashland Ave & 63rd St': ['563'],\n",
       " 'Public Rack - Normal Ave & 72nd St': ['1123'],\n",
       " 'Ashland Ave & Garfield Blvd': ['558'],\n",
       " 'Elizabeth St & 47th St': ['553'],\n",
       " 'Lombard Ave & Garfield St': ['618'],\n",
       " 'Oak Park Ave & Harrison St': ['616'],\n",
       " 'Damen Ave & 59th St': ['561'],\n",
       " 'Marshfield Ave & 59th St': ['597'],\n",
       " 'Lombard Ave & Madison St': ['615'],\n",
       " 'Wisconsin Ave & Madison St': ['613'],\n",
       " 'East Ave & Madison St': ['614'],\n",
       " 'East Ave & Garfield St': ['617'],\n",
       " 'Chicago Ave & Washington St': ['E002'],\n",
       " 'Dodge Ave & Church St': ['600'],\n",
       " 'Benson Ave & Church St': ['596'],\n",
       " 'Public Rack - Ashland Ave & 71st St': ['742'],\n",
       " 'Central St Metra': ['E006'],\n",
       " 'Forest Ave & Lake St': ['609'],\n",
       " 'Oak Park Ave & South Blvd': ['611'],\n",
       " 'Marion St & South Blvd': ['610'],\n",
       " 'Cuyler Ave & Augusta St': ['607'],\n",
       " 'Racine Ave & 65th St': ['564'],\n",
       " 'Sheridan Rd & Noyes St (NU)': ['604'],\n",
       " 'Chicago Ave & Sheridan Rd': ['E008'],\n",
       " 'Elmwood Ave & Austin St': ['598'],\n",
       " 'University Library (NU)': ['605'],\n",
       " 'Valli Produce - Evanston Plaza': ['599'],\n",
       " 'Humphrey Ave & Ontario St': ['608'],\n",
       " 'Forest Ave & Chicago Ave': ['606'],\n",
       " 'Greenview Ave & Jarvis Ave': ['520'],\n",
       " 'Wolcott Ave & Fargo Ave': ['519'],\n",
       " 'Eastlake Ter & Rogers Ave': ['523'],\n",
       " 'Bosworth Ave & Howard St': ['522'],\n",
       " 'Central St & Girard Ave': ['E007'],\n",
       " 'Glenwood Ave & Touhy Ave': ['525'],\n",
       " 'Paulina St & Howard St': ['515'],\n",
       " 'Clark St & Jarvis Ave': ['517'],\n",
       " 'Western Ave & Howard St': ['527'],\n",
       " 'Wentworth Ave & 35th St': ['KA1503000005'],\n",
       " 'Knox Ave & Montrose Ave': ['592'],\n",
       " 'Milwaukee Ave & Cuyler Ave': ['589'],\n",
       " 'Keystone Ave & Fullerton Ave': ['619'],\n",
       " 'Oakley Ave & Touhy Ave': ['RP-004'],\n",
       " 'Woodlawn Ave & 75th St': ['569'],\n",
       " 'Greenwood Ave & 79th St': ['576'],\n",
       " 'Kilbourn Ave & Irving Park Rd': ['590'],\n",
       " 'Austin Blvd & Chicago Ave': ['524'],\n",
       " 'Ridge Blvd & Howard St': ['514'],\n",
       " 'Phillips Ave & 79th St': ['579'],\n",
       " 'Central Ave & Chicago Ave': ['550'],\n",
       " 'Evans Ave & 75th St': ['570'],\n",
       " 'Vernon Ave & 79th St': ['574'],\n",
       " 'State St & 79th St': ['573'],\n",
       " 'Central Ave & Lake St': ['531'],\n",
       " 'Cottage Grove Ave & 78th St': ['575'],\n",
       " 'Ridgeland Ave & Lake St': ['612'],\n",
       " 'Exchange Ave & 79th St': ['580'],\n",
       " 'Cottage Grove Ave & 83rd St': ['585'],\n",
       " 'MLK Jr Dr & 83rd St': ['586'],\n",
       " 'Seeley Ave & Garfield Blvd': ['557'],\n",
       " 'Vernon Ave & 75th St': ['571'],\n",
       " 'Racine Ave & 61st St': ['562'],\n",
       " 'Stony Island Ave & 82nd St': ['583'],\n",
       " 'Public Rack - Wabash Ave & 87th St': ['595'],\n",
       " 'Ellis Ave & 83rd St': ['584'],\n",
       " 'Halsted St & 59th St': ['593'],\n",
       " 'Stony Island Ave & South Chicago Ave': ['577'],\n",
       " 'Marshfield Ave & 44th St': ['549'],\n",
       " 'Phillips Ave & 82nd St': ['781'],\n",
       " 'South Chicago Ave & 83rd St': ['588'],\n",
       " 'May St & 69th St': ['567'],\n",
       " 'Bennett Ave & 79th St': ['578'],\n",
       " 'Commercial Ave & 83rd St': ['TA1309000051'],\n",
       " 'Wabash Ave & 83rd St': ['587'],\n",
       " 'Orleans St & Chestnut St (NEXT Apts)': ['620'],\n",
       " 'Kilbourn Ave & Milwaukee Ave': ['591'],\n",
       " 'Clinton St & Jackson Blvd': ['638'],\n",
       " 'Milwaukee Ave & Grand Ave': ['13033'],\n",
       " 'Public Rack - California Ave & Cortez St': ['512'],\n",
       " 'Dearborn St & Van Buren St': ['624'],\n",
       " 'Chicago Ave & Dempster St': ['E011'],\n",
       " 'Delano Ct & Roosevelt Rd': ['KA1706005007'],\n",
       " 'Financial Pl & Congress Pkwy': ['91'],\n",
       " 'Clark St & Drummond Pl': ['TA1307000142'],\n",
       " 'MLK Jr Dr & Pershing Rd': ['13420'],\n",
       " 'Central Park Ave & 24th St': ['440'],\n",
       " 'LaSalle Dr & Huron St': ['KP1705001026'],\n",
       " 'Aberdeen St & Randolph St': ['621'],\n",
       " 'Phillips Ave & 83rd St': ['582'],\n",
       " 'Malcolm X College': ['631'],\n",
       " 'Kildare Ave & Montrose Ave': ['KA1706005015'],\n",
       " 'Leavitt St & Chicago Ave': ['659'],\n",
       " 'Wood St & Augusta Blvd': ['657'],\n",
       " 'Walsh Park': ['628'],\n",
       " 'Lakefront Trail & Wilson Ave': ['639'],\n",
       " 'Orleans St & Hubbard St': ['636'],\n",
       " 'Fairbanks St & Superior St': ['635'],\n",
       " 'Wood St & Chicago Ave': ['637'],\n",
       " 'Smith Park': ['643'],\n",
       " 'State St & 54th St': ['646'],\n",
       " 'Central Park Ave & Bloomingdale Ave': ['641'],\n",
       " 'Hoyne Ave & Balmoral Ave': ['655'],\n",
       " 'Sheridan Rd & Columbia Ave': ['660'],\n",
       " 'Western Ave & Fillmore St': ['644'],\n",
       " 'Bernard St & Elston Ave': ['640'],\n",
       " 'Racine Ave & Washington Blvd': ['654'],\n",
       " 'Stewart Ave & 63rd St': ['649'],\n",
       " 'Eggleston Ave & 69th St': ['650'],\n",
       " 'Damen Ave & Walnut (Lake) St': ['KA17018054'],\n",
       " 'Leavitt St & Division St': ['658'],\n",
       " 'Carpenter St & 63rd St': ['648'],\n",
       " 'Dodge Ave & Mulford St': ['1185'],\n",
       " 'Evanston Civic Center': ['661'],\n",
       " 'Lincolnwood Dr & Central St': ['E014'],\n",
       " 'Clark St & Newport St': ['632'],\n",
       " 'Michigan Ave & 71st St': ['651'],\n",
       " 'Leavitt St & Belmont Ave': ['KA17018068'],\n",
       " 'Cornell Dr & Hayes Dr': ['653'],\n",
       " 'Paulina St & Flournoy St': ['KA1504000104'],\n",
       " 'Archer (Damen) Ave & 37th St': ['645'],\n",
       " 'Elizabeth St & 59th St': ['647'],\n",
       " 'South Chicago Ave & Elliot Ave': ['665'],\n",
       " 'Latrobe Ave & Chicago Ave': ['642'],\n",
       " 'Vincennes Ave & 75th St': ['568'],\n",
       " 'Rhodes Ave & 71st St': ['652'],\n",
       " 'Cherry Ave & Blackhawk St': ['666'],\n",
       " 'Franklin St & Illinois St': ['RN-'],\n",
       " 'Lincoln Park Conservatory': ['LP-'],\n",
       " 'Laflin St & Cullerton St': ['13307'],\n",
       " 'Stewart Ave & 83rd St': ['677'],\n",
       " 'Halsted St & 73rd St': ['678'],\n",
       " 'Halsted St & 78th St': ['681'],\n",
       " 'Ashland Ave & 78th St': ['683'],\n",
       " 'Public Rack - Ashland Ave & 73rd St': ['1180'],\n",
       " 'Public Rack - East End Ave & 87th St': ['686'],\n",
       " 'Eberhart Ave & 91st St': ['682'],\n",
       " 'W Oakdale Ave & N Broadway': ['20252'],\n",
       " 'W Armitage Ave & N Sheffield Ave': ['20254'],\n",
       " 'Loomis Blvd & 84th St': ['687'],\n",
       " 'Elizabeth St & 92nd St': ['689'],\n",
       " 'Prospect Sq & 91st St': ['684'],\n",
       " 'Summit Ave & 86th St': ['685'],\n",
       " 'Baltimore Ave & 87th St': ['693'],\n",
       " 'Houston Ave & 92nd St': ['694'],\n",
       " 'State St & 95th St': ['690'],\n",
       " 'Indiana Ave & 103rd St': ['696'],\n",
       " 'Marquette Ave & 89th St': ['692'],\n",
       " 'Ashland Ave & 74th St': ['679'],\n",
       " 'Dauphin Ave & 103rd St': ['695'],\n",
       " 'Cottage Grove Ave & 111th Pl': ['698'],\n",
       " 'Oglesby Ave & 100th St': ['697'],\n",
       " 'Halsted St & 96th St': ['700'],\n",
       " 'Greenwood Ave & 97th St': ['703'],\n",
       " 'Greenwood Ave & 91st St': ['702'],\n",
       " 'Eggleston Ave & 92nd St': ['691'],\n",
       " 'Constance Ave & 95th St': ['701'],\n",
       " 'Vernon Ave & 107th St': ['20109'],\n",
       " 'Stony Island Ave & 90th St': ['705'],\n",
       " 'Dauphin Ave & 87th St': ['706'],\n",
       " 'Public Rack - Clyde Ave & 87th St': ['708'],\n",
       " 'Public Rack - Torrence Ave & 106th St': ['707'],\n",
       " 'Halsted St & 104th St': ['20125'],\n",
       " 'Major Taylor Trail & 115th St': ['713'],\n",
       " 'Michigan Ave & 114th St': ['709'],\n",
       " 'State St & 123rd St': ['714'],\n",
       " 'Public Rack - Halsted St & 111th St': ['711'],\n",
       " 'Wentworth Ave & 104th St': ['712'],\n",
       " 'Burnham Greenway & 105th St': ['710'],\n",
       " 'Avenue O & 134th St': ['704'],\n",
       " 'Ewing Ave & Burnham Greenway': ['718'],\n",
       " 'Eberhart Ave & 131st St': ['716'],\n",
       " 'Big Marsh Park': ['717'],\n",
       " 'Torrence Ave & 126th Pl': ['720'],\n",
       " 'Walden Pkwy & 100th St': ['721'],\n",
       " 'Public Rack - Avenue O & 118th St': ['719'],\n",
       " 'Hale Ave & 107th St': ['723'],\n",
       " 'Commercial Ave & 130th St': ['722'],\n",
       " 'Western Ave & 104th St': ['725'],\n",
       " 'Ada St & 113th St': ['727'],\n",
       " 'Vincennes Ave & 104th St': ['726'],\n",
       " 'Lawndale Ave & 111th St': ['730'],\n",
       " 'New St & Illinois St': ['TA1306000013'],\n",
       " 'Bradley Park': ['633'],\n",
       " 'Homewood Ave & 115th St': ['724'],\n",
       " 'Major Taylor Trail & 124th St': ['715'],\n",
       " 'Western Ave & 111th St': ['728'],\n",
       " 'Hegewisch Metra Station': ['732'],\n",
       " 'Dodge Ave & Main St': ['625'],\n",
       " 'N Green St & W Lake St': ['20246'],\n",
       " 'N Southport Ave & W Newport Ave': ['20257'],\n",
       " 'N Paulina St & Lincoln Ave': ['20253'],\n",
       " 'Broadway & Wilson - Truman College': ['13074'],\n",
       " 'W Washington Blvd & N Peoria St': ['20247'],\n",
       " 'Halsted & 63rd - Kennedy-King': ['KA1503000056'],\n",
       " 'N Hampden Ct & W Diversey Ave': ['20248'],\n",
       " 'Kedzie Ave & 110th St': ['20204'],\n",
       " 'N Carpenter St & W Lake St': ['20251'],\n",
       " 'Chicago State University': ['20106'],\n",
       " 'Damen Ave & Wabansia Ave': ['23'],\n",
       " 'Hampden Ct & Diversey Ave': ['202480'],\n",
       " 'Commercial Ave & 100th St': ['20225'],\n",
       " 'Kedzie Ave & 104th St': ['20201'],\n",
       " 'Calumet Park': ['20224'],\n",
       " 'Altgeld Gardens': ['20212'],\n",
       " 'Loomis St & 89th St': ['20102'],\n",
       " 'N Clark St & W Elm St': ['20249'],\n",
       " 'Elston Ave & Cortland St': ['TA1305000040'],\n",
       " 'Maryland Ave & 104th St': ['20134'],\n",
       " 'S Aberdeen St & W 106th St': ['20126'],\n",
       " 'Yates Blvd & 93rd St': ['20237'],\n",
       " 'W 103rd St & S Avers Ave': ['20202'],\n",
       " 'Woodlawn & 103rd - Olive Harvey': ['20133'],\n",
       " 'Avenue L & 114th St': ['20220'],\n",
       " 'Lawndale Ave & 16th St': ['362'],\n",
       " 'Central Park Ave & Douglas Blvd': ['329'],\n",
       " 'Homan Ave & Fillmore St': ['364'],\n",
       " 'Tripp Ave & 15th St': ['363'],\n",
       " 'Spaulding Ave & 16th St': ['366'],\n",
       " 'Kildare Ave & 26th St': ['365'],\n",
       " 'Lavergne & Fullerton': ['356'],\n",
       " 'DuSable Lake Shore Dr & Wellington Ave': ['TA1307000042'],\n",
       " 'Cicero Ave & Grace St': ['322'],\n",
       " 'Long Ave & Belden Ave': ['313'],\n",
       " 'Lamon Ave & Belmont Ave': ['316'],\n",
       " 'Tripp Ave & 31st St': ['457'],\n",
       " 'Meade Ave & Diversey Ave': ['353'],\n",
       " 'Long Ave & Belmont Ave': ['1175'],\n",
       " 'Kilpatrick Ave & Parker Ave': ['358'],\n",
       " 'Central Ave & Parker Ave': ['355'],\n",
       " 'Mason Ave & Belmont Ave': ['473'],\n",
       " 'Keeler Ave & Roosevelt Rd': ['330'],\n",
       " 'Mulligan Ave & Wellington Ave': ['351'],\n",
       " 'Lamon Ave & Armitage Ave': ['1041'],\n",
       " 'Lockwood Ave & Wrightwood Ave': ['1165'],\n",
       " 'Meade Ave & Addison St': ['1124'],\n",
       " 'Public Rack - Kostner Ave & Wrightwood Ave': ['1018'],\n",
       " 'Narragansett Ave & School St': ['469'],\n",
       " 'Central Ave & Roscoe St': ['396'],\n",
       " 'Long & Irving Park': ['398'],\n",
       " 'Public Rack - Plainfield & Irving Park': ['327'],\n",
       " 'Lawndale Ave & 30th St': ['334'],\n",
       " 'Komensky Ave & 31st St': ['453'],\n",
       " 'Kilbourn & Roscoe': ['360'],\n",
       " 'Parkside Ave & Armitage Ave': ['354'],\n",
       " 'Pulaski Rd & 21st St': ['467'],\n",
       " 'Harding Ave & 26th St': ['1203'],\n",
       " 'Oketo Ave & Addison St': ['1150'],\n",
       " 'Roscoe & Harlem': ['1043'],\n",
       " 'Sayre & Diversey': ['352'],\n",
       " 'Harlem Ave & Grace St': ['325'],\n",
       " 'North Ave & New England Ave': ['412'],\n",
       " 'Major Ave & Bloomingdale Ave': ['328'],\n",
       " 'Orange & Addison': ['449'],\n",
       " 'Kilbourn & Belden': ['359'],\n",
       " 'Menard Ave & Division St': ['451'],\n",
       " 'Oak Park & Wellington': ['318'],\n",
       " 'Narragansett & Wrightwood': ['314'],\n",
       " 'Kenosha & Wellington': ['361'],\n",
       " 'Narragansett & Irving Park': ['323'],\n",
       " 'Panama Ave & Grace St': ['394'],\n",
       " 'Harlem & Irving Park': ['326'],\n",
       " 'Narragansett & McLean': ['309'],\n",
       " 'Lamon Ave & Chicago Ave': ['302'],\n",
       " 'Bloomingdale Ave & Harlem Ave': ['377'],\n",
       " 'Monticello Ave & Chicago Ave': ['301'],\n",
       " 'Public Rack - Kildare Ave & Division St': ['306'],\n",
       " 'Long Ave & North Ave': ['375'],\n",
       " 'Nordica & Medill': ['450'],\n",
       " 'Kedzie Ave & 52nd St': ['384'],\n",
       " 'Lavergne Ave & Division St': ['477'],\n",
       " 'St Louis Ave & Norman Bobbins Ave': ['385'],\n",
       " 'Kedzie Ave & 48th Pl': ['410'],\n",
       " 'Western Ave & 62nd St': ['1081'],\n",
       " 'Doty Ave & 111th St': ['20114'],\n",
       " 'Ping Tom Park (East)': ['20260'],\n",
       " 'Maplewood Ave & 59th St': ['389'],\n",
       " 'Richmond St & 59th St': ['388'],\n",
       " 'California Ave & 36th St': ['455'],\n",
       " 'Kildare Ave & Chicago Ave': ['371'],\n",
       " 'Rockwell St & Archer Ave': ['379'],\n",
       " 'Hoyne Ave & 34th St': ['1191'],\n",
       " 'Sacramento Ave & Pershing Rd': ['339'],\n",
       " 'Archer Ave & 43rd St': ['1178'],\n",
       " 'Rockwell St & 57th St': ['386'],\n",
       " 'Tripp Ave & 65th St': ['1106'],\n",
       " 'Artesian Ave & 55th St': ['345'],\n",
       " 'Central Park & Augusta Blvd': ['413'],\n",
       " 'N Damen Ave & W Chicago Ave': ['20255'],\n",
       " 'Komensky Ave & 55th St': ['1207'],\n",
       " 'Kedzie Ave & 57th St': ['409'],\n",
       " 'Damen Ave & 33rd St': ['471'],\n",
       " 'Springfield Ave & 47th St': ['1183'],\n",
       " 'Leamington Ave & Hirsch St': ['307'],\n",
       " 'Central Park Ave & Ohio St': ['369'],\n",
       " 'Fairfield Ave & 44th St': ['380'],\n",
       " 'S Wentworth Ave & W 111th St': ['20128'],\n",
       " 'Spaulding Ave & 63rd St': ['349'],\n",
       " 'Pulaski Rd & 51st St': ['343'],\n",
       " 'Pulaski Rd & 60th St': ['404'],\n",
       " 'Lavergne Ave & 46th St': ['399'],\n",
       " 'Kostner Ave & 63rd St': ['406'],\n",
       " 'Kildare Ave & 55th St': ['1130'],\n",
       " 'Indiana Ave & 133rd St': ['20240'],\n",
       " 'Pulaski & Ann Lurie Pl': ['340'],\n",
       " 'Lawler Ave & 50th St': ['400'],\n",
       " 'S Michigan Ave & E 118th St': ['20209'],\n",
       " 'Troy St & Grace St': ['430'],\n",
       " 'Albany Ave & Belmont Ave': ['434'],\n",
       " 'Milwaukee Ave & Fullerton Ave': ['428'],\n",
       " 'Western Ave & Gunnison St': ['448'],\n",
       " 'Lincoln Ave & Balmoral Ave': ['1184'],\n",
       " 'Kenneth Ave & 50th St': ['1181'],\n",
       " 'Kilpatrick Ave & Grand Ave': ['374'],\n",
       " 'California Ave & Marquette Rd': ['390'],\n",
       " 'Francisco Ave & Montrose Ave': ['446'],\n",
       " 'California Ave & Winona St': ['443'],\n",
       " 'Rockwell St & Cermak Rd': ['425'],\n",
       " 'Elston Ave & George St': ['472'],\n",
       " 'Lincoln Ave & Peterson Ave': ['470'],\n",
       " 'Richmond St & Lincoln Ave': ['452'],\n",
       " 'Augusta Blvd & Laramie Ave': ['373'],\n",
       " 'Whipple/Irving Park': ['475'],\n",
       " 'Kildare Ave & 47th St': ['1142'],\n",
       " 'Kedzie Ave & George St': ['1136'],\n",
       " 'Francisco Ave & Bloomingdale Ave': ['429'],\n",
       " 'Western Ave & Grace St': ['431'],\n",
       " 'Washtenaw Ave & Peterson Ave': ['459'],\n",
       " 'Menard Ave & North Ave': ['1186'],\n",
       " 'Virginia Ave & Catalpa Ave': ['441'],\n",
       " 'Rockwell St & Fletcher St': ['447'],\n",
       " 'N Shore Channel Trail & Argyle St': ['1166'],\n",
       " 'Western Ave & Ardmore Ave': ['464'],\n",
       " 'Sacramento Blvd & Polk St': ['419'],\n",
       " 'Hamlin Ave & 62nd Pl': ['1122'],\n",
       " 'Sacramento Ave & 25th St': ['424'],\n",
       " 'St Louis Ave & 59th St': ['387'],\n",
       " 'Elston Ave & Henderson St': ['433'],\n",
       " 'Sacramento Blvd & Addison St': ['432'],\n",
       " 'Western Ave & Lake St': ['1117'],\n",
       " 'Mozart St & Jackson Blvd': ['418'],\n",
       " 'Francisco Ave & Hollywood Ave': ['460'],\n",
       " 'California Ave & 29th St': ['466'],\n",
       " 'Campbell Ave & 51st St': ['1179'],\n",
       " 'Francisco Ave & 47th St': ['411'],\n",
       " 'Sacramento Blvd & Fulton Ave': ['423'],\n",
       " 'Washtenaw Ave & Madison St': ['416'],\n",
       " 'Olive Harvey College': ['20111'],\n",
       " 'McClurg Ct & Ohio St': ['TA1306000028'],\n",
       " 'State St & Chicago Ave': ['21544'],\n",
       " 'Kedzie Ave & 45th St': ['342'],\n",
       " 'Whipple St & Roosevelt Rd': ['427'],\n",
       " 'Washtenaw Ave & Polk St': ['420'],\n",
       " 'Fullerton & Monitor': ['1160'],\n",
       " 'Burnham Greenway & 112th St': ['20219'],\n",
       " 'Mayfield & Roosevelt Rd': ['1105'],\n",
       " 'California & 16th St': ['426'],\n",
       " 'Rockwell St & 63rd St': ['405'],\n",
       " 'La Villita Park (Albany/30th)': ['336'],\n",
       " 'Kildare & Cermak': ['1163'],\n",
       " 'Homan Ave & 65th St': ['392'],\n",
       " 'Shabbona Park': ['395'],\n",
       " 'Campbell Ave & Irving Park Rd': ['1201'],\n",
       " 'Steelworkers Park': ['20241'],\n",
       " 'Albany Ave & 16th St': ['422'],\n",
       " 'Albany Ave & Douglas Blvd': ['421'],\n",
       " 'Troy Ave & 27th St': ['465'],\n",
       " 'Troy St & Jackson Blvd': ['1206'],\n",
       " 'Damen Ave & 74th St': ['16951'],\n",
       " 'Public Rack - Hyde Park Blvd & 55th St': ['768'],\n",
       " 'Public Rack - May St & 63rd St': ['743'],\n",
       " 'Public Rack - Cicero Ave & North Ave': ['551'],\n",
       " 'Public Rack - Houston Ave & 91st St': ['939'],\n",
       " 'Public Rack - Kenton Ave & Palmer St': ['516'],\n",
       " 'Public Rack - Kedzie Ave & Argyle St': ['1198'],\n",
       " 'Public Rack - Hamlin Ave & Montrose Ave': ['492'],\n",
       " 'Public Rack - Cottage Grove Ave & 87th St': ['986'],\n",
       " 'Public Rack - Kedzie Ave & 54th St - SW': ['825'],\n",
       " 'Public Rack - Keystone Ave & North Ave': ['1172'],\n",
       " 'Public Rack - Pulaski Rd & Armitage Ave': ['1004'],\n",
       " 'Public Rack - Cicero Ave & Wellington Ave': ['1013'],\n",
       " 'Public Rack - Hyde Park Blvd & 53rd St': ['767'],\n",
       " 'Public Rack - Monticello Ave & Belmont Ave': ['1071'],\n",
       " 'Public Rack - Pulaski Rd & 44th St': ['833'],\n",
       " 'Public Rack - Kedvale Ave & Avondale Ave': ['1200'],\n",
       " 'Public Rack - Milwaukee Ave & Haussen Ct': ['505'],\n",
       " 'Public Rack - Laramie Ave & Belmont Ave': ['1211'],\n",
       " 'Public Rack - Narragansett Ave & Fullerton Ave': ['769'],\n",
       " 'Public Rack - Linder Ave & Belmont Ave': ['545'],\n",
       " '63rd & Western Ave - south corner': ['738'],\n",
       " 'Public Rack - Milwaukee Ave & Diversey Ave': ['1002'],\n",
       " 'Public Rack - Kimbark Ave & 67th St': ['751'],\n",
       " 'Public Rack - Western Ave & Jarvis Ave': ['851'],\n",
       " 'Public Rack - Harold Washington Park': ['766'],\n",
       " 'Public Rack - Hamlin Ave & Fullerton Ave': ['1064'],\n",
       " 'Public Rack - Cicero Ave & Wrightwood Ave': ['1006'],\n",
       " 'Public Rack - Chase Ave & Touhy Ave - NE': ['1169'],\n",
       " 'Public Rack - Cottage Grove & 86th St': ['662'],\n",
       " 'Public Rack - Midway Orange Line': ['777'],\n",
       " 'Public Rack - Damen Ave & 47th St': ['841'],\n",
       " 'Public Rack - Kedzie Ave & 64th St - SW': ['760'],\n",
       " 'Public Rack - Walden Pkwy & 103rd St': ['817'],\n",
       " 'Public Rack - Washtenaw Ave & Superior St': ['855'],\n",
       " 'Public Rack - Spaulding Ave & Bryn Mawr Ave': ['489'],\n",
       " 'Public Rack - Christiana Ave & Belmont Ave': ['1193'],\n",
       " 'Public Rack - Lowell Ave & Elston Ave': ['497'],\n",
       " 'Public Rack - Oleander Ave & Addison St': ['1096'],\n",
       " 'Public Rack - 83rd St (Avalon Park) Metra': ['1095'],\n",
       " 'Public Rack - Laramie Ave & Fullerton Ave': ['1135'],\n",
       " 'Public Rack - Ewing Ave & 99th St': ['1139'],\n",
       " 'Public Rack - Kildare Ave & Washignton Blvd': ['852'],\n",
       " 'Public Rack - Spaulding Ave & Evergreen Ave': ['513'],\n",
       " 'Public Rack - Christiana Ave & Archer Ave': ['832'],\n",
       " 'Public Rack - Austin Ave & Roscoe St': ['560'],\n",
       " 'Public Rack - Lawndale Ave & Diversey Ave': ['1086'],\n",
       " 'Public Rack - Kedzie Ave & 58th St': ['775'],\n",
       " 'Public Rack - Komensky Ave & 59th St': ['776'],\n",
       " 'Public Rack - Menard Ave & Grand Ave': ['1009'],\n",
       " 'Public Rack - Kedzie Ave & Archer Ave': ['836'],\n",
       " 'Public Rack - Robert Fulton Elementary School': ['819'],\n",
       " 'Public Rack - Spaulding Ave & North Ave': ['978'],\n",
       " 'Public Rack - Strohacker Park': ['827'],\n",
       " 'Public Rack - Chase Ave & Touhy Ave - NW': ['1192'],\n",
       " 'Public Rack - Mozart Elementary School': ['754'],\n",
       " 'Public Rack - Kedzie Ave & 54th St - SE': ['823'],\n",
       " 'Public Rack - Karlov Ave & Kamerling Ave': ['1116'],\n",
       " 'Public Rack - Kostner Ave & North Ave': ['1210'],\n",
       " 'Ada St & 95th St': ['680'],\n",
       " 'Public Rack - Brighton Park Branch Chicago Library': ['784'],\n",
       " 'Public Rack - Pulaski Rd & Fullerton Ave': ['1189'],\n",
       " 'Public Rack - Pulaski & 52nd': ['830'],\n",
       " 'Pubic Rack - Pulaski Rd & 41st': ['835'],\n",
       " 'Public Rack - Milwaukee Ave & Addison St': ['997'],\n",
       " 'Public Rack - Hamlin Ave & Grand Ave': ['1010'],\n",
       " 'Newcastle Ave & Belden Ave': ['799'],\n",
       " 'Public Rack - Kenneth Ave & 63rd St': ['762'],\n",
       " 'Public Rack - Zapata Academy': ['1073'],\n",
       " 'Public Rack - Western Blvd & 49th St': ['821'],\n",
       " 'Public Rack - Central Ave & Corcoran Pl': ['793'],\n",
       " 'Public Rack - Throop St & 58th St': ['770'],\n",
       " 'Public Rack - Avenue J & 112th St': ['771'],\n",
       " 'Public Rack - Milwaukee Ave & School St': ['1157'],\n",
       " 'Public Rack - Talman Ave & 51st St': ['822'],\n",
       " 'Public Rack - Avenue M & 132nd St': ['673'],\n",
       " 'Public Rack - Wood St & 103rd St': ['1121'],\n",
       " 'Public Rack - State St & 47th st': ['816'],\n",
       " 'Public Rack - Sacramento Ave & Greenleaf Ave': ['484'],\n",
       " 'Public Rack - Eli Whitney Public School': ['1126'],\n",
       " 'Public Rack - Avers Ave & Archer Ave': ['824'],\n",
       " 'Public Rack - 111th St - Morgan Park Metra': ['1084'],\n",
       " 'Public Rack - Western Ave & 92nd Pl': ['1114'],\n",
       " 'Public Rack - Central Ave & North Ave': ['622'],\n",
       " 'Public Rack - Prairie Ave & 47th St': ['814'],\n",
       " 'Public Rack - Evans Ave & 63rd St': ['749'],\n",
       " 'Public Rack - Austin Blvd & North Ave': ['820'],\n",
       " 'Public Rack - Kedvale Ave & 63rd St': ['764'],\n",
       " 'Public Rack - Newcastle Ave & Belmont Ave': ['809'],\n",
       " 'Public Rack - Sacramento Ave & Devon Ave': ['485'],\n",
       " 'Public Rack - Jonathan Y Scammon Public School': ['1025'],\n",
       " 'Public Rack - Austin Ave & Wrightwood Ave': ['1137'],\n",
       " 'Public Rack - Pulaski Rd & 51st Rd': ['829'],\n",
       " 'Public Rack - Neva Ave & Grand Ave': ['805'],\n",
       " 'Public Rack - Chopin Park': ['1035'],\n",
       " 'Public Rack - Melvina Ave & Belmont Ave': ['1138'],\n",
       " 'Public Rack - Keystone Ave & Irving Park Rd': ['495'],\n",
       " 'Public Rack - Avondale Ave & Addison St': ['1113'],\n",
       " 'Public Rack - Legler Regional Library': ['526'],\n",
       " 'Public Rack - Kolin Ave & Archer Ave': ['831'],\n",
       " 'Public Rack - California Ave & Devon Ave - NW': ['486'],\n",
       " 'Public Rack - Rockwell Ave & Touhy Ave ': ['1153'],\n",
       " 'Public Rack - Harper Ave & 63rd St': ['750'],\n",
       " 'Public Rack - Lawndale Ave & Polk St': ['1001'],\n",
       " 'Public Rack - Cicero Ave & Roscoe St': ['753'],\n",
       " 'Public Rack - Newcastle Ave & Wellington Ave': ['804'],\n",
       " 'Public Rack - Kimbark Ave & 63rd St': ['752'],\n",
       " 'Public Rack - Sawyer Ave & 111th St': ['675'],\n",
       " ...}"
      ]
     },
     "execution_count": 16,
     "metadata": {},
     "output_type": "execute_result"
    }
   ],
   "source": [
    "id_dict"
   ]
  },
  {
   "cell_type": "code",
   "execution_count": 17,
   "id": "ef7339e7",
   "metadata": {},
   "outputs": [
    {
     "name": "stdout",
     "output_type": "stream",
     "text": [
      "0\n",
      "50\n",
      "100\n",
      "150\n",
      "200\n",
      "250\n",
      "300\n",
      "350\n",
      "400\n",
      "450\n",
      "500\n",
      "550\n",
      "600\n",
      "650\n",
      "700\n",
      "750\n",
      "800\n",
      "850\n",
      "900\n",
      "950\n",
      "1000\n",
      "1050\n",
      "1100\n",
      "1150\n",
      "1200\n",
      "1250\n",
      "1300\n"
     ]
    }
   ],
   "source": [
    "for i in range(len(end_sta)):\n",
    "    if i % 50 == 0:\n",
    "        print(i)\n",
    "    id_dict[f'{end_sta[i]}'] += list(merged2013_2022.loc[merged2013_2022['end_station_name'] == end_sta[i], 'end_station_id'].unique())"
   ]
  },
  {
   "cell_type": "code",
   "execution_count": 18,
   "id": "2626f2a1",
   "metadata": {},
   "outputs": [],
   "source": [
    "id_keys = list(id_dict.keys())"
   ]
  },
  {
   "cell_type": "code",
   "execution_count": 19,
   "id": "4f42ab6a",
   "metadata": {},
   "outputs": [],
   "source": [
    "for i in range(len(id_keys)):\n",
    "    id_dict[id_keys[i]] = list(set(id_dict[id_keys[i]]))"
   ]
  },
  {
   "cell_type": "code",
   "execution_count": 20,
   "id": "97e2d7d1",
   "metadata": {},
   "outputs": [
    {
     "name": "stdout",
     "output_type": "stream",
     "text": [
      "DuSable Lake Shore Dr & Monroe St: ['13300', '76']\n",
      "DuSable Lake Shore Dr & Ohio St: ['TA1306000030', 'TA1306000029']\n",
      "Morgan St & Lake St*: ['chargingstx4', 'TA1306000015']\n",
      "Wilton Ave & Diversey Pkwy: ['TA1306000014', 'Wilton Ave & Diversey Pkwy - Charging']\n",
      "Green St & Randolph St*: ['112', 'chargingstx3']\n",
      "N Sheffield Ave & W Wellington Ave: ['TA1307000052', '20256']\n",
      "Lincoln Ave & Roscoe St*: ['chargingstx5', 'TA1307000138']\n",
      "Bissell St & Armitage Ave*: ['chargingstx1', '113']\n",
      "DuSable Lake Shore Dr & North Blvd: ['LF-005', 'LF-006']\n",
      "DuSable Lake Shore Dr & Diversey Pkwy: ['TA1309000040', 'TA1309000039']\n",
      "DuSable Lake Shore Dr & Belmont Ave: ['TA1309000048', 'TA1309000049']\n",
      "Western Ave & 28th St: ['KA1504000169', '446', '446.0', 'KA1504000168']\n",
      "Public Rack - Public Rack - Ashland Ave & 45th St: ['843', '845']\n",
      "Public Rack - Austin Ave & Wellington Ave: ['1127', '1152']\n",
      "Public Rack - Menard Ave & Dakin St: ['812', '1101']\n",
      "Public Rack - Cicero Ave & Le Moyne St: ['1173', '1055']\n",
      "Public Rack - Albany Ave & 103rd St: ['872', '926']\n",
      "Public Rack - Cicero Ave & Cortland St: ['1090', '1097']\n"
     ]
    }
   ],
   "source": [
    "check_list = []\n",
    "stations_list = []\n",
    "for i in range(len(id_keys)):\n",
    "    if len(id_dict[id_keys[i]]) > 1:\n",
    "        check_list.append(id_dict[id_keys[i]])\n",
    "        stations_list.append(id_keys[i])\n",
    "        print(f'{id_keys[i]}: {id_dict[id_keys[i]]}')"
   ]
  },
  {
   "cell_type": "code",
   "execution_count": 21,
   "id": "9e1b091c",
   "metadata": {},
   "outputs": [],
   "source": [
    "# Checking for overlaps\n",
    "for i in range(len(id_keys)):\n",
    "    if id_dict[id_keys[i]] in check_list and id_keys[i] not in stations_list:\n",
    "        print(f'{id_keys[i]}: {id_dict[id_keys[i]]}')"
   ]
  },
  {
   "cell_type": "code",
   "execution_count": 22,
   "id": "348df909",
   "metadata": {},
   "outputs": [
    {
     "data": {
      "text/plain": [
       "[['13300', '76'],\n",
       " ['TA1306000030', 'TA1306000029'],\n",
       " ['chargingstx4', 'TA1306000015'],\n",
       " ['TA1306000014', 'Wilton Ave & Diversey Pkwy - Charging'],\n",
       " ['112', 'chargingstx3'],\n",
       " ['TA1307000052', '20256'],\n",
       " ['chargingstx5', 'TA1307000138'],\n",
       " ['chargingstx1', '113'],\n",
       " ['LF-005', 'LF-006'],\n",
       " ['TA1309000040', 'TA1309000039'],\n",
       " ['TA1309000048', 'TA1309000049'],\n",
       " ['KA1504000169', '446', '446.0', 'KA1504000168'],\n",
       " ['843', '845'],\n",
       " ['1127', '1152'],\n",
       " ['812', '1101'],\n",
       " ['1173', '1055'],\n",
       " ['872', '926'],\n",
       " ['1090', '1097']]"
      ]
     },
     "execution_count": 22,
     "metadata": {},
     "output_type": "execute_result"
    }
   ],
   "source": [
    "check_list"
   ]
  },
  {
   "cell_type": "code",
   "execution_count": 23,
   "id": "60542672",
   "metadata": {},
   "outputs": [
    {
     "data": {
      "text/plain": [
       "['DuSable Lake Shore Dr & Monroe St',\n",
       " 'DuSable Lake Shore Dr & Ohio St',\n",
       " 'Morgan St & Lake St*',\n",
       " 'Wilton Ave & Diversey Pkwy',\n",
       " 'Green St & Randolph St*',\n",
       " 'N Sheffield Ave & W Wellington Ave',\n",
       " 'Lincoln Ave & Roscoe St*',\n",
       " 'Bissell St & Armitage Ave*',\n",
       " 'DuSable Lake Shore Dr & North Blvd',\n",
       " 'DuSable Lake Shore Dr & Diversey Pkwy',\n",
       " 'DuSable Lake Shore Dr & Belmont Ave',\n",
       " 'Western Ave & 28th St',\n",
       " 'Public Rack - Public Rack - Ashland Ave & 45th St',\n",
       " 'Public Rack - Austin Ave & Wellington Ave',\n",
       " 'Public Rack - Menard Ave & Dakin St',\n",
       " 'Public Rack - Cicero Ave & Le Moyne St',\n",
       " 'Public Rack - Albany Ave & 103rd St',\n",
       " 'Public Rack - Cicero Ave & Cortland St']"
      ]
     },
     "execution_count": 23,
     "metadata": {},
     "output_type": "execute_result"
    }
   ],
   "source": [
    "stations_list"
   ]
  },
  {
   "cell_type": "code",
   "execution_count": 24,
   "id": "75c3c1cb",
   "metadata": {},
   "outputs": [],
   "source": [
    "fix_array = [1, 1, 1, 1, 0, 1, 1, 0, 0, 0, 1, 3, 1, 0, 1, 1, 0, 1]\n",
    "for i in range(len(stations_list)):\n",
    "    merged2013_2022.loc[merged2013_2022['start_station_name'] == stations_list[i], 'start_station_id'] = check_list[i][fix_array[i]]\n",
    "    merged2013_2022.loc[merged2013_2022['end_station_name'] == stations_list[i], 'end_station_id'] = check_list[i][fix_array[i]]"
   ]
  },
  {
   "cell_type": "code",
   "execution_count": 25,
   "id": "7c60a086",
   "metadata": {},
   "outputs": [
    {
     "data": {
      "text/plain": [
       "array(['76'], dtype=object)"
      ]
     },
     "execution_count": 25,
     "metadata": {},
     "output_type": "execute_result"
    }
   ],
   "source": [
    "merged2013_2022.loc[merged2013_2022['end_station_name'] == 'DuSable Lake Shore Dr & Monroe St', 'end_station_id'].unique()"
   ]
  },
  {
   "cell_type": "code",
   "execution_count": 26,
   "id": "1e0debd1",
   "metadata": {},
   "outputs": [
    {
     "data": {
      "text/html": [
       "<div>\n",
       "<style scoped>\n",
       "    .dataframe tbody tr th:only-of-type {\n",
       "        vertical-align: middle;\n",
       "    }\n",
       "\n",
       "    .dataframe tbody tr th {\n",
       "        vertical-align: top;\n",
       "    }\n",
       "\n",
       "    .dataframe thead th {\n",
       "        text-align: right;\n",
       "    }\n",
       "</style>\n",
       "<table border=\"1\" class=\"dataframe\">\n",
       "  <thead>\n",
       "    <tr style=\"text-align: right;\">\n",
       "      <th></th>\n",
       "      <th>start_time</th>\n",
       "      <th>end_time</th>\n",
       "      <th>trip_duration</th>\n",
       "      <th>start_station_id</th>\n",
       "      <th>start_station_name</th>\n",
       "      <th>end_station_id</th>\n",
       "      <th>end_station_name</th>\n",
       "      <th>usertype</th>\n",
       "      <th>gender</th>\n",
       "      <th>birthyear</th>\n",
       "      <th>...</th>\n",
       "      <th>rideable_type</th>\n",
       "      <th>start_city</th>\n",
       "      <th>start_landmark</th>\n",
       "      <th>end_city</th>\n",
       "      <th>end_landmark</th>\n",
       "      <th>start_date</th>\n",
       "      <th>end_date</th>\n",
       "      <th>start_dpcapacity</th>\n",
       "      <th>end_dpcapacity</th>\n",
       "      <th>age</th>\n",
       "    </tr>\n",
       "  </thead>\n",
       "  <tbody>\n",
       "    <tr>\n",
       "      <th>0</th>\n",
       "      <td>01:06:00</td>\n",
       "      <td>09:46:00</td>\n",
       "      <td>31177</td>\n",
       "      <td>WL-012</td>\n",
       "      <td>Clinton St &amp; Washington Blvd</td>\n",
       "      <td>TA1306000009</td>\n",
       "      <td>Larrabee St &amp; Kingsbury St</td>\n",
       "      <td>1</td>\n",
       "      <td>0</td>\n",
       "      <td>1982</td>\n",
       "      <td>...</td>\n",
       "      <td>0</td>\n",
       "      <td>0</td>\n",
       "      <td>10</td>\n",
       "      <td>0</td>\n",
       "      <td>12</td>\n",
       "      <td>2013-06-27</td>\n",
       "      <td>2013-06-27</td>\n",
       "      <td>29</td>\n",
       "      <td>43</td>\n",
       "      <td>31</td>\n",
       "    </tr>\n",
       "    <tr>\n",
       "      <th>1</th>\n",
       "      <td>11:09:00</td>\n",
       "      <td>11:11:00</td>\n",
       "      <td>140</td>\n",
       "      <td>88</td>\n",
       "      <td>Racine Ave &amp; Randolph St</td>\n",
       "      <td>88</td>\n",
       "      <td>Racine Ave &amp; Randolph St</td>\n",
       "      <td>1</td>\n",
       "      <td>0</td>\n",
       "      <td>1982</td>\n",
       "      <td>...</td>\n",
       "      <td>0</td>\n",
       "      <td>0</td>\n",
       "      <td>155</td>\n",
       "      <td>0</td>\n",
       "      <td>155</td>\n",
       "      <td>2013-06-27</td>\n",
       "      <td>2013-06-27</td>\n",
       "      <td>19</td>\n",
       "      <td>19</td>\n",
       "      <td>31</td>\n",
       "    </tr>\n",
       "    <tr>\n",
       "      <th>2</th>\n",
       "      <td>11:12:00</td>\n",
       "      <td>11:13:00</td>\n",
       "      <td>87</td>\n",
       "      <td>88</td>\n",
       "      <td>Racine Ave &amp; Randolph St</td>\n",
       "      <td>88</td>\n",
       "      <td>Racine Ave &amp; Randolph St</td>\n",
       "      <td>1</td>\n",
       "      <td>0</td>\n",
       "      <td>1982</td>\n",
       "      <td>...</td>\n",
       "      <td>0</td>\n",
       "      <td>0</td>\n",
       "      <td>155</td>\n",
       "      <td>0</td>\n",
       "      <td>155</td>\n",
       "      <td>2013-06-27</td>\n",
       "      <td>2013-06-27</td>\n",
       "      <td>19</td>\n",
       "      <td>19</td>\n",
       "      <td>31</td>\n",
       "    </tr>\n",
       "    <tr>\n",
       "      <th>3</th>\n",
       "      <td>11:24:00</td>\n",
       "      <td>14:38:00</td>\n",
       "      <td>11674</td>\n",
       "      <td>17</td>\n",
       "      <td>Honore St &amp; Division St</td>\n",
       "      <td>61</td>\n",
       "      <td>Wood St &amp; Milwaukee Ave</td>\n",
       "      <td>1</td>\n",
       "      <td>0</td>\n",
       "      <td>1978</td>\n",
       "      <td>...</td>\n",
       "      <td>0</td>\n",
       "      <td>0</td>\n",
       "      <td>246</td>\n",
       "      <td>0</td>\n",
       "      <td>221</td>\n",
       "      <td>2013-06-27</td>\n",
       "      <td>2013-06-27</td>\n",
       "      <td>23</td>\n",
       "      <td>17</td>\n",
       "      <td>35</td>\n",
       "    </tr>\n",
       "    <tr>\n",
       "      <th>4</th>\n",
       "      <td>11:39:00</td>\n",
       "      <td>16:01:00</td>\n",
       "      <td>15758</td>\n",
       "      <td>88</td>\n",
       "      <td>Racine Ave &amp; Randolph St</td>\n",
       "      <td>34</td>\n",
       "      <td>Cannon Dr &amp; Fullerton Ave</td>\n",
       "      <td>1</td>\n",
       "      <td>0</td>\n",
       "      <td>1982</td>\n",
       "      <td>...</td>\n",
       "      <td>0</td>\n",
       "      <td>0</td>\n",
       "      <td>155</td>\n",
       "      <td>0</td>\n",
       "      <td>124</td>\n",
       "      <td>2013-06-27</td>\n",
       "      <td>2013-06-27</td>\n",
       "      <td>19</td>\n",
       "      <td>15</td>\n",
       "      <td>31</td>\n",
       "    </tr>\n",
       "  </tbody>\n",
       "</table>\n",
       "<p>5 rows × 24 columns</p>\n",
       "</div>"
      ],
      "text/plain": [
       "  start_time  end_time  trip_duration start_station_id  \\\n",
       "0   01:06:00  09:46:00          31177           WL-012   \n",
       "1   11:09:00  11:11:00            140               88   \n",
       "2   11:12:00  11:13:00             87               88   \n",
       "3   11:24:00  14:38:00          11674               17   \n",
       "4   11:39:00  16:01:00          15758               88   \n",
       "\n",
       "             start_station_name end_station_id            end_station_name  \\\n",
       "0  Clinton St & Washington Blvd   TA1306000009  Larrabee St & Kingsbury St   \n",
       "1      Racine Ave & Randolph St             88    Racine Ave & Randolph St   \n",
       "2      Racine Ave & Randolph St             88    Racine Ave & Randolph St   \n",
       "3       Honore St & Division St             61     Wood St & Milwaukee Ave   \n",
       "4      Racine Ave & Randolph St             34   Cannon Dr & Fullerton Ave   \n",
       "\n",
       "   usertype  gender  birthyear  ...  rideable_type  start_city  \\\n",
       "0         1       0       1982  ...              0           0   \n",
       "1         1       0       1982  ...              0           0   \n",
       "2         1       0       1982  ...              0           0   \n",
       "3         1       0       1978  ...              0           0   \n",
       "4         1       0       1982  ...              0           0   \n",
       "\n",
       "   start_landmark  end_city  end_landmark  start_date   end_date  \\\n",
       "0              10         0            12  2013-06-27 2013-06-27   \n",
       "1             155         0           155  2013-06-27 2013-06-27   \n",
       "2             155         0           155  2013-06-27 2013-06-27   \n",
       "3             246         0           221  2013-06-27 2013-06-27   \n",
       "4             155         0           124  2013-06-27 2013-06-27   \n",
       "\n",
       "   start_dpcapacity  end_dpcapacity age  \n",
       "0                29              43  31  \n",
       "1                19              19  31  \n",
       "2                19              19  31  \n",
       "3                23              17  35  \n",
       "4                19              15  31  \n",
       "\n",
       "[5 rows x 24 columns]"
      ]
     },
     "execution_count": 26,
     "metadata": {},
     "output_type": "execute_result"
    }
   ],
   "source": [
    "merged2013_2022.head()"
   ]
  },
  {
   "cell_type": "code",
   "execution_count": 27,
   "id": "90307370",
   "metadata": {},
   "outputs": [
    {
     "data": {
      "text/plain": [
       "Index(['start_time', 'end_time', 'trip_duration', 'start_station_id',\n",
       "       'start_station_name', 'end_station_id', 'end_station_name', 'usertype',\n",
       "       'gender', 'birthyear', 'start_lat', 'start_lng', 'end_lat', 'end_lng',\n",
       "       'rideable_type', 'start_city', 'start_landmark', 'end_city',\n",
       "       'end_landmark', 'start_date', 'end_date', 'start_dpcapacity',\n",
       "       'end_dpcapacity', 'age'],\n",
       "      dtype='object')"
      ]
     },
     "execution_count": 27,
     "metadata": {},
     "output_type": "execute_result"
    }
   ],
   "source": [
    "merged2013_2022.columns"
   ]
  },
  {
   "cell_type": "code",
   "execution_count": 28,
   "id": "118e2136",
   "metadata": {},
   "outputs": [],
   "source": [
    "merged2013_2022.to_csv('1 Full Divvy Dataframe pt6.csv')"
   ]
  },
  {
   "cell_type": "code",
   "execution_count": null,
   "id": "8a6a48e8",
   "metadata": {},
   "outputs": [],
   "source": []
  },
  {
   "cell_type": "code",
   "execution_count": 1,
   "id": "2d35a9b1",
   "metadata": {},
   "outputs": [],
   "source": [
    "import pandas as pd"
   ]
  },
  {
   "cell_type": "code",
   "execution_count": 2,
   "id": "7699c046",
   "metadata": {},
   "outputs": [],
   "source": [
    "merged2013_2022 = pd.read_csv('1 Full Divvy Dataframe pt6.csv', index_col=[0])"
   ]
  },
  {
   "cell_type": "code",
   "execution_count": 3,
   "id": "d83e9788",
   "metadata": {
    "scrolled": true
   },
   "outputs": [
    {
     "data": {
      "text/html": [
       "<div>\n",
       "<style scoped>\n",
       "    .dataframe tbody tr th:only-of-type {\n",
       "        vertical-align: middle;\n",
       "    }\n",
       "\n",
       "    .dataframe tbody tr th {\n",
       "        vertical-align: top;\n",
       "    }\n",
       "\n",
       "    .dataframe thead th {\n",
       "        text-align: right;\n",
       "    }\n",
       "</style>\n",
       "<table border=\"1\" class=\"dataframe\">\n",
       "  <thead>\n",
       "    <tr style=\"text-align: right;\">\n",
       "      <th></th>\n",
       "      <th>start_time</th>\n",
       "      <th>end_time</th>\n",
       "      <th>trip_duration</th>\n",
       "      <th>start_station_id</th>\n",
       "      <th>start_station_name</th>\n",
       "      <th>end_station_id</th>\n",
       "      <th>end_station_name</th>\n",
       "      <th>usertype</th>\n",
       "      <th>gender</th>\n",
       "      <th>birthyear</th>\n",
       "      <th>...</th>\n",
       "      <th>rideable_type</th>\n",
       "      <th>start_city</th>\n",
       "      <th>start_landmark</th>\n",
       "      <th>end_city</th>\n",
       "      <th>end_landmark</th>\n",
       "      <th>start_date</th>\n",
       "      <th>end_date</th>\n",
       "      <th>start_dpcapacity</th>\n",
       "      <th>end_dpcapacity</th>\n",
       "      <th>age</th>\n",
       "    </tr>\n",
       "  </thead>\n",
       "  <tbody>\n",
       "    <tr>\n",
       "      <th>0</th>\n",
       "      <td>01:06:00</td>\n",
       "      <td>09:46:00</td>\n",
       "      <td>31177</td>\n",
       "      <td>WL-012</td>\n",
       "      <td>Clinton St &amp; Washington Blvd</td>\n",
       "      <td>TA1306000009</td>\n",
       "      <td>Larrabee St &amp; Kingsbury St</td>\n",
       "      <td>1</td>\n",
       "      <td>0</td>\n",
       "      <td>1982</td>\n",
       "      <td>...</td>\n",
       "      <td>0</td>\n",
       "      <td>0</td>\n",
       "      <td>10</td>\n",
       "      <td>0</td>\n",
       "      <td>12</td>\n",
       "      <td>2013-06-27</td>\n",
       "      <td>2013-06-27</td>\n",
       "      <td>29</td>\n",
       "      <td>43</td>\n",
       "      <td>31</td>\n",
       "    </tr>\n",
       "    <tr>\n",
       "      <th>1</th>\n",
       "      <td>11:09:00</td>\n",
       "      <td>11:11:00</td>\n",
       "      <td>140</td>\n",
       "      <td>88</td>\n",
       "      <td>Racine Ave &amp; Randolph St</td>\n",
       "      <td>88</td>\n",
       "      <td>Racine Ave &amp; Randolph St</td>\n",
       "      <td>1</td>\n",
       "      <td>0</td>\n",
       "      <td>1982</td>\n",
       "      <td>...</td>\n",
       "      <td>0</td>\n",
       "      <td>0</td>\n",
       "      <td>155</td>\n",
       "      <td>0</td>\n",
       "      <td>155</td>\n",
       "      <td>2013-06-27</td>\n",
       "      <td>2013-06-27</td>\n",
       "      <td>19</td>\n",
       "      <td>19</td>\n",
       "      <td>31</td>\n",
       "    </tr>\n",
       "    <tr>\n",
       "      <th>2</th>\n",
       "      <td>11:12:00</td>\n",
       "      <td>11:13:00</td>\n",
       "      <td>87</td>\n",
       "      <td>88</td>\n",
       "      <td>Racine Ave &amp; Randolph St</td>\n",
       "      <td>88</td>\n",
       "      <td>Racine Ave &amp; Randolph St</td>\n",
       "      <td>1</td>\n",
       "      <td>0</td>\n",
       "      <td>1982</td>\n",
       "      <td>...</td>\n",
       "      <td>0</td>\n",
       "      <td>0</td>\n",
       "      <td>155</td>\n",
       "      <td>0</td>\n",
       "      <td>155</td>\n",
       "      <td>2013-06-27</td>\n",
       "      <td>2013-06-27</td>\n",
       "      <td>19</td>\n",
       "      <td>19</td>\n",
       "      <td>31</td>\n",
       "    </tr>\n",
       "    <tr>\n",
       "      <th>3</th>\n",
       "      <td>11:24:00</td>\n",
       "      <td>14:38:00</td>\n",
       "      <td>11674</td>\n",
       "      <td>17</td>\n",
       "      <td>Honore St &amp; Division St</td>\n",
       "      <td>61</td>\n",
       "      <td>Wood St &amp; Milwaukee Ave</td>\n",
       "      <td>1</td>\n",
       "      <td>0</td>\n",
       "      <td>1978</td>\n",
       "      <td>...</td>\n",
       "      <td>0</td>\n",
       "      <td>0</td>\n",
       "      <td>246</td>\n",
       "      <td>0</td>\n",
       "      <td>221</td>\n",
       "      <td>2013-06-27</td>\n",
       "      <td>2013-06-27</td>\n",
       "      <td>23</td>\n",
       "      <td>17</td>\n",
       "      <td>35</td>\n",
       "    </tr>\n",
       "    <tr>\n",
       "      <th>4</th>\n",
       "      <td>11:39:00</td>\n",
       "      <td>16:01:00</td>\n",
       "      <td>15758</td>\n",
       "      <td>88</td>\n",
       "      <td>Racine Ave &amp; Randolph St</td>\n",
       "      <td>34</td>\n",
       "      <td>Cannon Dr &amp; Fullerton Ave</td>\n",
       "      <td>1</td>\n",
       "      <td>0</td>\n",
       "      <td>1982</td>\n",
       "      <td>...</td>\n",
       "      <td>0</td>\n",
       "      <td>0</td>\n",
       "      <td>155</td>\n",
       "      <td>0</td>\n",
       "      <td>124</td>\n",
       "      <td>2013-06-27</td>\n",
       "      <td>2013-06-27</td>\n",
       "      <td>19</td>\n",
       "      <td>15</td>\n",
       "      <td>31</td>\n",
       "    </tr>\n",
       "  </tbody>\n",
       "</table>\n",
       "<p>5 rows × 24 columns</p>\n",
       "</div>"
      ],
      "text/plain": [
       "  start_time  end_time  trip_duration start_station_id  \\\n",
       "0   01:06:00  09:46:00          31177           WL-012   \n",
       "1   11:09:00  11:11:00            140               88   \n",
       "2   11:12:00  11:13:00             87               88   \n",
       "3   11:24:00  14:38:00          11674               17   \n",
       "4   11:39:00  16:01:00          15758               88   \n",
       "\n",
       "             start_station_name end_station_id            end_station_name  \\\n",
       "0  Clinton St & Washington Blvd   TA1306000009  Larrabee St & Kingsbury St   \n",
       "1      Racine Ave & Randolph St             88    Racine Ave & Randolph St   \n",
       "2      Racine Ave & Randolph St             88    Racine Ave & Randolph St   \n",
       "3       Honore St & Division St             61     Wood St & Milwaukee Ave   \n",
       "4      Racine Ave & Randolph St             34   Cannon Dr & Fullerton Ave   \n",
       "\n",
       "   usertype  gender  birthyear  ...  rideable_type  start_city  \\\n",
       "0         1       0       1982  ...              0           0   \n",
       "1         1       0       1982  ...              0           0   \n",
       "2         1       0       1982  ...              0           0   \n",
       "3         1       0       1978  ...              0           0   \n",
       "4         1       0       1982  ...              0           0   \n",
       "\n",
       "   start_landmark  end_city  end_landmark  start_date    end_date  \\\n",
       "0              10         0            12  2013-06-27  2013-06-27   \n",
       "1             155         0           155  2013-06-27  2013-06-27   \n",
       "2             155         0           155  2013-06-27  2013-06-27   \n",
       "3             246         0           221  2013-06-27  2013-06-27   \n",
       "4             155         0           124  2013-06-27  2013-06-27   \n",
       "\n",
       "   start_dpcapacity  end_dpcapacity age  \n",
       "0                29              43  31  \n",
       "1                19              19  31  \n",
       "2                19              19  31  \n",
       "3                23              17  35  \n",
       "4                19              15  31  \n",
       "\n",
       "[5 rows x 24 columns]"
      ]
     },
     "execution_count": 3,
     "metadata": {},
     "output_type": "execute_result"
    }
   ],
   "source": [
    "merged2013_2022.head()"
   ]
  },
  {
   "cell_type": "code",
   "execution_count": 4,
   "id": "696b99c7",
   "metadata": {},
   "outputs": [
    {
     "name": "stdout",
     "output_type": "stream",
     "text": [
      "<class 'pandas.core.frame.DataFrame'>\n",
      "Int64Index: 33138880 entries, 0 to 33138879\n",
      "Data columns (total 24 columns):\n",
      " #   Column              Dtype  \n",
      "---  ------              -----  \n",
      " 0   start_time          object \n",
      " 1   end_time            object \n",
      " 2   trip_duration       int64  \n",
      " 3   start_station_id    object \n",
      " 4   start_station_name  object \n",
      " 5   end_station_id      object \n",
      " 6   end_station_name    object \n",
      " 7   usertype            int64  \n",
      " 8   gender              int64  \n",
      " 9   birthyear           int64  \n",
      " 10  start_lat           float64\n",
      " 11  start_lng           float64\n",
      " 12  end_lat             float64\n",
      " 13  end_lng             float64\n",
      " 14  rideable_type       int64  \n",
      " 15  start_city          int64  \n",
      " 16  start_landmark      int64  \n",
      " 17  end_city            int64  \n",
      " 18  end_landmark        int64  \n",
      " 19  start_date          object \n",
      " 20  end_date            object \n",
      " 21  start_dpcapacity    int64  \n",
      " 22  end_dpcapacity      int64  \n",
      " 23  age                 int64  \n",
      "dtypes: float64(4), int64(12), object(8)\n",
      "memory usage: 6.2+ GB\n"
     ]
    }
   ],
   "source": [
    "merged2013_2022.info()"
   ]
  },
  {
   "cell_type": "markdown",
   "id": "8918568f",
   "metadata": {},
   "source": [
    "Now to deal with outliers, and then convert objects to categorical data and lower int/float dtypes to save system memory. We will start with trip duration. Without even looking at it, I know that we should delete any values that are more than 24 hours."
   ]
  },
  {
   "cell_type": "code",
   "execution_count": 5,
   "id": "86beede5",
   "metadata": {
    "scrolled": true
   },
   "outputs": [
    {
     "data": {
      "text/plain": [
       "86400"
      ]
     },
     "execution_count": 5,
     "metadata": {},
     "output_type": "execute_result"
    }
   ],
   "source": [
    "24*60*60"
   ]
  },
  {
   "cell_type": "code",
   "execution_count": 6,
   "id": "e873cca7",
   "metadata": {},
   "outputs": [
    {
     "data": {
      "text/plain": [
       "count    3.313888e+07\n",
       "mean     1.108059e+03\n",
       "std      2.123248e+03\n",
       "min      1.000000e+00\n",
       "25%      4.120000e+02\n",
       "50%      7.160000e+02\n",
       "75%      1.251000e+03\n",
       "max      1.555430e+05\n",
       "Name: trip_duration, dtype: float64"
      ]
     },
     "execution_count": 6,
     "metadata": {},
     "output_type": "execute_result"
    }
   ],
   "source": [
    "merged2013_2022['trip_duration'].describe()"
   ]
  },
  {
   "cell_type": "code",
   "execution_count": 7,
   "id": "e01fa96c",
   "metadata": {},
   "outputs": [
    {
     "data": {
      "text/plain": [
       "2.691702314622582e-05"
      ]
     },
     "execution_count": 7,
     "metadata": {},
     "output_type": "execute_result"
    }
   ],
   "source": [
    "merged2013_2022['trip_duration'].loc[merged2013_2022['trip_duration'] > 86400].shape[0] / merged2013_2022.shape[0]"
   ]
  },
  {
   "cell_type": "markdown",
   "id": "cf5369bb",
   "metadata": {},
   "source": [
    "Let's cut the time in half and see how many rides are over 12 hours long."
   ]
  },
  {
   "cell_type": "code",
   "execution_count": 8,
   "id": "da4e3477",
   "metadata": {},
   "outputs": [
    {
     "data": {
      "text/plain": [
       "0.0005807377919833139"
      ]
     },
     "execution_count": 8,
     "metadata": {},
     "output_type": "execute_result"
    }
   ],
   "source": [
    "merged2013_2022['trip_duration'].loc[merged2013_2022['trip_duration'] > 86400 // 2].shape[0] / merged2013_2022.shape[0]"
   ]
  },
  {
   "cell_type": "markdown",
   "id": "d3a3677a",
   "metadata": {},
   "source": [
    "What about 6 hours?"
   ]
  },
  {
   "cell_type": "code",
   "execution_count": 9,
   "id": "256c28cb",
   "metadata": {},
   "outputs": [
    {
     "data": {
      "text/plain": [
       "0.0011483791848125224"
      ]
     },
     "execution_count": 9,
     "metadata": {},
     "output_type": "execute_result"
    }
   ],
   "source": [
    "merged2013_2022['trip_duration'].loc[merged2013_2022['trip_duration'] > 86400 // 4].shape[0] / merged2013_2022.shape[0]"
   ]
  },
  {
   "cell_type": "markdown",
   "id": "3b4ef206",
   "metadata": {},
   "source": [
    "What about 3 hours?"
   ]
  },
  {
   "cell_type": "code",
   "execution_count": 10,
   "id": "0bfd2a97",
   "metadata": {},
   "outputs": [
    {
     "data": {
      "text/plain": [
       "0.0033946228719860176"
      ]
     },
     "execution_count": 10,
     "metadata": {},
     "output_type": "execute_result"
    }
   ],
   "source": [
    "merged2013_2022['trip_duration'].loc[merged2013_2022['trip_duration'] > 86400 // 8].shape[0] / merged2013_2022.shape[0]"
   ]
  },
  {
   "cell_type": "code",
   "execution_count": 11,
   "id": "a7052f58",
   "metadata": {},
   "outputs": [
    {
     "data": {
      "text/plain": [
       "10800"
      ]
     },
     "execution_count": 11,
     "metadata": {},
     "output_type": "execute_result"
    }
   ],
   "source": [
    " 86400 // 8"
   ]
  },
  {
   "cell_type": "markdown",
   "id": "98292409",
   "metadata": {},
   "source": [
    "What about 2 hours?"
   ]
  },
  {
   "cell_type": "code",
   "execution_count": 12,
   "id": "2f58f15a",
   "metadata": {},
   "outputs": [
    {
     "data": {
      "text/plain": [
       "0.009290507102231577"
      ]
     },
     "execution_count": 12,
     "metadata": {},
     "output_type": "execute_result"
    }
   ],
   "source": [
    "merged2013_2022['trip_duration'].loc[merged2013_2022['trip_duration'] > 60 * 60 * 2].shape[0] / merged2013_2022.shape[0]"
   ]
  },
  {
   "cell_type": "markdown",
   "id": "0f765b5a",
   "metadata": {},
   "source": [
    "We want an accurate picture of station behavior, and it seems like including rides above 3 hours accounts for essentially none of the data, and may skew our data, so these values will be deleted."
   ]
  },
  {
   "cell_type": "code",
   "execution_count": 13,
   "id": "8fe8c556",
   "metadata": {},
   "outputs": [],
   "source": [
    "drop_over_3hr = merged2013_2022['trip_duration'].loc[merged2013_2022['trip_duration'] > 3 * 60 * 60].index"
   ]
  },
  {
   "cell_type": "code",
   "execution_count": 14,
   "id": "1ea061ce",
   "metadata": {},
   "outputs": [],
   "source": [
    "merged2013_2022.drop(drop_over_3hr, inplace=True)"
   ]
  },
  {
   "cell_type": "code",
   "execution_count": 15,
   "id": "148136f8",
   "metadata": {},
   "outputs": [],
   "source": [
    "merged2013_2022.reset_index(drop=True, inplace=True)"
   ]
  },
  {
   "cell_type": "markdown",
   "id": "65eb790e",
   "metadata": {},
   "source": [
    "Now to check 'age' for outliers."
   ]
  },
  {
   "cell_type": "code",
   "execution_count": 16,
   "id": "7939ea97",
   "metadata": {
    "scrolled": true
   },
   "outputs": [
    {
     "data": {
      "text/plain": [
       "count    3.302639e+07\n",
       "mean     1.648816e+01\n",
       "std      1.964949e+01\n",
       "min     -1.000000e+00\n",
       "25%     -1.000000e+00\n",
       "50%     -1.000000e+00\n",
       "75%      3.200000e+01\n",
       "max      1.000000e+02\n",
       "Name: age, dtype: float64"
      ]
     },
     "execution_count": 16,
     "metadata": {},
     "output_type": "execute_result"
    }
   ],
   "source": [
    "merged2013_2022['age'].describe()"
   ]
  },
  {
   "cell_type": "markdown",
   "id": "2b0f572d",
   "metadata": {},
   "source": [
    "I believe I already checked this. I think honestly the probability that a rider is older than say 70 is pretty low."
   ]
  },
  {
   "cell_type": "code",
   "execution_count": 17,
   "id": "dc8b9411",
   "metadata": {
    "scrolled": true
   },
   "outputs": [
    {
     "data": {
      "text/plain": [
       "0.0010635132769295436"
      ]
     },
     "execution_count": 17,
     "metadata": {},
     "output_type": "execute_result"
    }
   ],
   "source": [
    "merged2013_2022['age'].loc[merged2013_2022['age'] > 70].shape[0] / merged2013_2022['age'].shape[0]"
   ]
  },
  {
   "cell_type": "code",
   "execution_count": 18,
   "id": "3b33dcd4",
   "metadata": {},
   "outputs": [
    {
     "data": {
      "text/plain": [
       "35124"
      ]
     },
     "execution_count": 18,
     "metadata": {},
     "output_type": "execute_result"
    }
   ],
   "source": [
    "merged2013_2022['age'].loc[merged2013_2022['age'] > 70].shape[0]"
   ]
  },
  {
   "cell_type": "markdown",
   "id": "cbc2120b",
   "metadata": {},
   "source": [
    "However, I don't want to delete these values, because for stations that are in particular positions, it may be more likely for older folks to use the service; basically, if there is a station that has a concentration of older people near it, we want to know this. 0.1% of 32701059 is still 34622 rides, which could easily be an outskirt stations entire ride history 5 times over."
   ]
  },
  {
   "cell_type": "code",
   "execution_count": 19,
   "id": "fb843d16",
   "metadata": {},
   "outputs": [
    {
     "data": {
      "text/plain": [
       "Index(['start_time', 'end_time', 'trip_duration', 'start_station_id',\n",
       "       'start_station_name', 'end_station_id', 'end_station_name', 'usertype',\n",
       "       'gender', 'birthyear', 'start_lat', 'start_lng', 'end_lat', 'end_lng',\n",
       "       'rideable_type', 'start_city', 'start_landmark', 'end_city',\n",
       "       'end_landmark', 'start_date', 'end_date', 'start_dpcapacity',\n",
       "       'end_dpcapacity', 'age'],\n",
       "      dtype='object')"
      ]
     },
     "execution_count": 19,
     "metadata": {},
     "output_type": "execute_result"
    }
   ],
   "source": [
    "merged2013_2022.columns"
   ]
  },
  {
   "cell_type": "markdown",
   "id": "124ac76a",
   "metadata": {},
   "source": [
    "We have a lot of categorical data, I would convert these to dummy variables but it just complicates the process of evaluating the variables later on, so I will keep them as is for now. (Namely I can't do correlation heatmap and would ahve to change all the functions I already wrote).\n",
    "\n",
    "usertype, gender, and rideable_type are all dummy variables, so we can downsize them to int8 objec"
   ]
  },
  {
   "cell_type": "code",
   "execution_count": 20,
   "id": "30529db6",
   "metadata": {},
   "outputs": [
    {
     "data": {
      "text/plain": [
       "array([1, 0], dtype=int64)"
      ]
     },
     "execution_count": 20,
     "metadata": {},
     "output_type": "execute_result"
    }
   ],
   "source": [
    "merged2013_2022['usertype'].unique()"
   ]
  },
  {
   "cell_type": "code",
   "execution_count": 21,
   "id": "4778851a",
   "metadata": {},
   "outputs": [
    {
     "data": {
      "text/plain": [
       "array([ True])"
      ]
     },
     "execution_count": 21,
     "metadata": {},
     "output_type": "execute_result"
    }
   ],
   "source": [
    "(merged2013_2022['usertype'] == merged2013_2022['usertype'].astype('int8')).unique()"
   ]
  },
  {
   "cell_type": "code",
   "execution_count": 22,
   "id": "4be582a7",
   "metadata": {},
   "outputs": [],
   "source": [
    "merged2013_2022['usertype'] = merged2013_2022['usertype'].astype('int8')"
   ]
  },
  {
   "cell_type": "code",
   "execution_count": 23,
   "id": "dacb2ba2",
   "metadata": {},
   "outputs": [
    {
     "data": {
      "text/plain": [
       "array([ 0, -1,  1], dtype=int64)"
      ]
     },
     "execution_count": 23,
     "metadata": {},
     "output_type": "execute_result"
    }
   ],
   "source": [
    "merged2013_2022['gender'].unique()"
   ]
  },
  {
   "cell_type": "code",
   "execution_count": 24,
   "id": "f8fff45a",
   "metadata": {},
   "outputs": [
    {
     "data": {
      "text/plain": [
       "array([ True])"
      ]
     },
     "execution_count": 24,
     "metadata": {},
     "output_type": "execute_result"
    }
   ],
   "source": [
    "(merged2013_2022['gender'] == merged2013_2022['gender'].astype('int8')).unique()"
   ]
  },
  {
   "cell_type": "code",
   "execution_count": 25,
   "id": "1151836a",
   "metadata": {},
   "outputs": [],
   "source": [
    "merged2013_2022['gender'] = merged2013_2022['gender'].astype('int8')"
   ]
  },
  {
   "cell_type": "code",
   "execution_count": 26,
   "id": "54adadf0",
   "metadata": {},
   "outputs": [
    {
     "data": {
      "text/plain": [
       "array([0, 1, 2], dtype=int64)"
      ]
     },
     "execution_count": 26,
     "metadata": {},
     "output_type": "execute_result"
    }
   ],
   "source": [
    "merged2013_2022['rideable_type'].unique()"
   ]
  },
  {
   "cell_type": "code",
   "execution_count": 27,
   "id": "1f7fc173",
   "metadata": {
    "scrolled": true
   },
   "outputs": [
    {
     "data": {
      "text/plain": [
       "array([ True])"
      ]
     },
     "execution_count": 27,
     "metadata": {},
     "output_type": "execute_result"
    }
   ],
   "source": [
    "(merged2013_2022['rideable_type'] == merged2013_2022['rideable_type'].astype('int8')).unique()"
   ]
  },
  {
   "cell_type": "code",
   "execution_count": 28,
   "id": "20d2a7b4",
   "metadata": {},
   "outputs": [],
   "source": [
    "merged2013_2022['rideable_type'] = merged2013_2022['rideable_type'].astype('int8')"
   ]
  },
  {
   "cell_type": "code",
   "execution_count": 29,
   "id": "e8150a0f",
   "metadata": {
    "scrolled": true
   },
   "outputs": [
    {
     "data": {
      "text/plain": [
       "array([0, 2, 1], dtype=int64)"
      ]
     },
     "execution_count": 29,
     "metadata": {},
     "output_type": "execute_result"
    }
   ],
   "source": [
    "merged2013_2022['start_city'].unique()"
   ]
  },
  {
   "cell_type": "code",
   "execution_count": 30,
   "id": "7de25c50",
   "metadata": {},
   "outputs": [
    {
     "data": {
      "text/plain": [
       "array([ True])"
      ]
     },
     "execution_count": 30,
     "metadata": {},
     "output_type": "execute_result"
    }
   ],
   "source": [
    "(merged2013_2022['start_city'] == merged2013_2022['start_city'].astype('int8')).unique()"
   ]
  },
  {
   "cell_type": "code",
   "execution_count": 31,
   "id": "b1c80c00",
   "metadata": {},
   "outputs": [],
   "source": [
    "merged2013_2022['start_city'] = merged2013_2022['start_city'].astype('int8')"
   ]
  },
  {
   "cell_type": "code",
   "execution_count": 32,
   "id": "f4eb6f66",
   "metadata": {},
   "outputs": [
    {
     "data": {
      "text/plain": [
       "array([0, 2, 1], dtype=int64)"
      ]
     },
     "execution_count": 32,
     "metadata": {},
     "output_type": "execute_result"
    }
   ],
   "source": [
    "merged2013_2022['end_city'].unique()"
   ]
  },
  {
   "cell_type": "code",
   "execution_count": 33,
   "id": "baa69ee3",
   "metadata": {},
   "outputs": [
    {
     "data": {
      "text/plain": [
       "array([ True])"
      ]
     },
     "execution_count": 33,
     "metadata": {},
     "output_type": "execute_result"
    }
   ],
   "source": [
    "(merged2013_2022['end_city'] == merged2013_2022['end_city'].astype('int8')).unique()"
   ]
  },
  {
   "cell_type": "code",
   "execution_count": 34,
   "id": "11a32dd4",
   "metadata": {},
   "outputs": [],
   "source": [
    "merged2013_2022['end_city'] = merged2013_2022['end_city'].astype('int8')"
   ]
  },
  {
   "cell_type": "code",
   "execution_count": 35,
   "id": "823b89a9",
   "metadata": {},
   "outputs": [
    {
     "name": "stdout",
     "output_type": "stream",
     "text": [
      "<class 'pandas.core.frame.DataFrame'>\n",
      "RangeIndex: 33026386 entries, 0 to 33026385\n",
      "Data columns (total 24 columns):\n",
      " #   Column              Dtype  \n",
      "---  ------              -----  \n",
      " 0   start_time          object \n",
      " 1   end_time            object \n",
      " 2   trip_duration       int64  \n",
      " 3   start_station_id    object \n",
      " 4   start_station_name  object \n",
      " 5   end_station_id      object \n",
      " 6   end_station_name    object \n",
      " 7   usertype            int8   \n",
      " 8   gender              int8   \n",
      " 9   birthyear           int64  \n",
      " 10  start_lat           float64\n",
      " 11  start_lng           float64\n",
      " 12  end_lat             float64\n",
      " 13  end_lng             float64\n",
      " 14  rideable_type       int8   \n",
      " 15  start_city          int8   \n",
      " 16  start_landmark      int64  \n",
      " 17  end_city            int8   \n",
      " 18  end_landmark        int64  \n",
      " 19  start_date          object \n",
      " 20  end_date            object \n",
      " 21  start_dpcapacity    int64  \n",
      " 22  end_dpcapacity      int64  \n",
      " 23  age                 int64  \n",
      "dtypes: float64(4), int64(7), int8(5), object(8)\n",
      "memory usage: 4.8+ GB\n"
     ]
    }
   ],
   "source": [
    "merged2013_2022.info()"
   ]
  },
  {
   "cell_type": "markdown",
   "id": "18d30b29",
   "metadata": {},
   "source": [
    "Managed to save 600 MB of space, which was definitely worth it. Now I can downsize the int64 and float64 columns by casting them to lower bit int/float values. I will do this by converting down and checking that the columns are the same."
   ]
  },
  {
   "cell_type": "code",
   "execution_count": 36,
   "id": "ae3393d0",
   "metadata": {},
   "outputs": [
    {
     "data": {
      "text/plain": [
       "array([False,  True])"
      ]
     },
     "execution_count": 36,
     "metadata": {},
     "output_type": "execute_result"
    }
   ],
   "source": [
    "(merged2013_2022['trip_duration'] == merged2013_2022['trip_duration'].astype('int8')).unique()"
   ]
  },
  {
   "cell_type": "code",
   "execution_count": 37,
   "id": "c2c921b1",
   "metadata": {
    "scrolled": true
   },
   "outputs": [
    {
     "data": {
      "text/plain": [
       "array([ True])"
      ]
     },
     "execution_count": 37,
     "metadata": {},
     "output_type": "execute_result"
    }
   ],
   "source": [
    "(merged2013_2022['trip_duration'] == merged2013_2022['trip_duration'].astype('int16')).unique()"
   ]
  },
  {
   "cell_type": "code",
   "execution_count": 38,
   "id": "57421213",
   "metadata": {},
   "outputs": [],
   "source": [
    "merged2013_2022['trip_duration'] = merged2013_2022['trip_duration'].astype('int16')"
   ]
  },
  {
   "cell_type": "code",
   "execution_count": 39,
   "id": "efe99351",
   "metadata": {},
   "outputs": [
    {
     "data": {
      "text/plain": [
       "array([False,  True])"
      ]
     },
     "execution_count": 39,
     "metadata": {},
     "output_type": "execute_result"
    }
   ],
   "source": [
    "(merged2013_2022['birthyear'] == merged2013_2022['birthyear'].astype('int8')).unique()"
   ]
  },
  {
   "cell_type": "code",
   "execution_count": 40,
   "id": "da8b15a0",
   "metadata": {
    "scrolled": true
   },
   "outputs": [
    {
     "data": {
      "text/plain": [
       "array([ True])"
      ]
     },
     "execution_count": 40,
     "metadata": {},
     "output_type": "execute_result"
    }
   ],
   "source": [
    "(merged2013_2022['birthyear'] == merged2013_2022['birthyear'].astype('int16')).unique()"
   ]
  },
  {
   "cell_type": "code",
   "execution_count": 41,
   "id": "42a843c7",
   "metadata": {},
   "outputs": [],
   "source": [
    "merged2013_2022['birthyear'] = merged2013_2022['birthyear'].astype('int16')"
   ]
  },
  {
   "cell_type": "code",
   "execution_count": 42,
   "id": "5e84e705",
   "metadata": {},
   "outputs": [
    {
     "data": {
      "text/plain": [
       "array([False,  True])"
      ]
     },
     "execution_count": 42,
     "metadata": {},
     "output_type": "execute_result"
    }
   ],
   "source": [
    "(merged2013_2022['start_lat'] == merged2013_2022['start_lat'].astype('float16')).unique()"
   ]
  },
  {
   "cell_type": "code",
   "execution_count": 43,
   "id": "55983382",
   "metadata": {},
   "outputs": [
    {
     "data": {
      "text/plain": [
       "array([False,  True])"
      ]
     },
     "execution_count": 43,
     "metadata": {},
     "output_type": "execute_result"
    }
   ],
   "source": [
    "(merged2013_2022['start_lat'] == merged2013_2022['start_lat'].astype('float32')).unique()"
   ]
  },
  {
   "cell_type": "code",
   "execution_count": 44,
   "id": "0fca82d1",
   "metadata": {
    "scrolled": true
   },
   "outputs": [
    {
     "data": {
      "text/plain": [
       "array([ True])"
      ]
     },
     "execution_count": 44,
     "metadata": {},
     "output_type": "execute_result"
    }
   ],
   "source": [
    "(merged2013_2022['start_lat'] == merged2013_2022['start_lat'].astype('float64')).unique()"
   ]
  },
  {
   "cell_type": "markdown",
   "id": "fe33f9c9",
   "metadata": {},
   "source": [
    "It seems like the lat/lng values can't be reduced in size without causing overflow error to erroneously change values, so I will leave these categories be."
   ]
  },
  {
   "cell_type": "code",
   "execution_count": 45,
   "id": "713512ca",
   "metadata": {},
   "outputs": [
    {
     "data": {
      "text/plain": [
       "array([False,  True])"
      ]
     },
     "execution_count": 45,
     "metadata": {},
     "output_type": "execute_result"
    }
   ],
   "source": [
    "(merged2013_2022['start_landmark'] == merged2013_2022['start_landmark'].astype('int8')).unique()"
   ]
  },
  {
   "cell_type": "code",
   "execution_count": 46,
   "id": "44e5bfb3",
   "metadata": {},
   "outputs": [
    {
     "data": {
      "text/plain": [
       "array([ True])"
      ]
     },
     "execution_count": 46,
     "metadata": {},
     "output_type": "execute_result"
    }
   ],
   "source": [
    "(merged2013_2022['start_landmark'] == merged2013_2022['start_landmark'].astype('int16')).unique()"
   ]
  },
  {
   "cell_type": "code",
   "execution_count": 47,
   "id": "8182f975",
   "metadata": {},
   "outputs": [],
   "source": [
    "merged2013_2022['start_landmark'] = merged2013_2022['start_landmark'].astype('int16')"
   ]
  },
  {
   "cell_type": "code",
   "execution_count": 48,
   "id": "c140784b",
   "metadata": {},
   "outputs": [
    {
     "data": {
      "text/plain": [
       "array([False,  True])"
      ]
     },
     "execution_count": 48,
     "metadata": {},
     "output_type": "execute_result"
    }
   ],
   "source": [
    "(merged2013_2022['end_landmark'] == merged2013_2022['end_landmark'].astype('int8')).unique()"
   ]
  },
  {
   "cell_type": "code",
   "execution_count": 49,
   "id": "ff8ed43a",
   "metadata": {},
   "outputs": [
    {
     "data": {
      "text/plain": [
       "array([ True])"
      ]
     },
     "execution_count": 49,
     "metadata": {},
     "output_type": "execute_result"
    }
   ],
   "source": [
    "(merged2013_2022['end_landmark'] == merged2013_2022['end_landmark'].astype('int16')).unique()"
   ]
  },
  {
   "cell_type": "code",
   "execution_count": 50,
   "id": "12b40f67",
   "metadata": {},
   "outputs": [],
   "source": [
    "merged2013_2022['end_landmark'] = merged2013_2022['end_landmark'].astype('int16')"
   ]
  },
  {
   "cell_type": "code",
   "execution_count": 51,
   "id": "1782b7b0",
   "metadata": {},
   "outputs": [
    {
     "data": {
      "text/plain": [
       "array([ True])"
      ]
     },
     "execution_count": 51,
     "metadata": {},
     "output_type": "execute_result"
    }
   ],
   "source": [
    "(merged2013_2022['start_dpcapacity'] == merged2013_2022['start_dpcapacity'].astype('int8')).unique()"
   ]
  },
  {
   "cell_type": "code",
   "execution_count": 52,
   "id": "b0a51b63",
   "metadata": {},
   "outputs": [],
   "source": [
    "merged2013_2022['start_dpcapacity'] = merged2013_2022['start_dpcapacity'].astype('int8')"
   ]
  },
  {
   "cell_type": "code",
   "execution_count": 53,
   "id": "c848ba5a",
   "metadata": {},
   "outputs": [
    {
     "data": {
      "text/plain": [
       "array([ True])"
      ]
     },
     "execution_count": 53,
     "metadata": {},
     "output_type": "execute_result"
    }
   ],
   "source": [
    "(merged2013_2022['end_dpcapacity'] == merged2013_2022['end_dpcapacity'].astype('int8')).unique()"
   ]
  },
  {
   "cell_type": "code",
   "execution_count": 54,
   "id": "6b3aa43e",
   "metadata": {},
   "outputs": [],
   "source": [
    "merged2013_2022['end_dpcapacity'] = merged2013_2022['end_dpcapacity'].astype('int8')"
   ]
  },
  {
   "cell_type": "code",
   "execution_count": 55,
   "id": "4614712b",
   "metadata": {},
   "outputs": [
    {
     "data": {
      "text/plain": [
       "array([ True])"
      ]
     },
     "execution_count": 55,
     "metadata": {},
     "output_type": "execute_result"
    }
   ],
   "source": [
    "(merged2013_2022['age'] == merged2013_2022['age'].astype('int8')).unique()"
   ]
  },
  {
   "cell_type": "code",
   "execution_count": 56,
   "id": "20a57ff6",
   "metadata": {},
   "outputs": [],
   "source": [
    "merged2013_2022['age'] = merged2013_2022['age'].astype('int8')"
   ]
  },
  {
   "cell_type": "code",
   "execution_count": 57,
   "id": "7808bff4",
   "metadata": {
    "scrolled": true
   },
   "outputs": [
    {
     "name": "stdout",
     "output_type": "stream",
     "text": [
      "<class 'pandas.core.frame.DataFrame'>\n",
      "RangeIndex: 33026386 entries, 0 to 33026385\n",
      "Data columns (total 24 columns):\n",
      " #   Column              Dtype  \n",
      "---  ------              -----  \n",
      " 0   start_time          object \n",
      " 1   end_time            object \n",
      " 2   trip_duration       int16  \n",
      " 3   start_station_id    object \n",
      " 4   start_station_name  object \n",
      " 5   end_station_id      object \n",
      " 6   end_station_name    object \n",
      " 7   usertype            int8   \n",
      " 8   gender              int8   \n",
      " 9   birthyear           int16  \n",
      " 10  start_lat           float64\n",
      " 11  start_lng           float64\n",
      " 12  end_lat             float64\n",
      " 13  end_lng             float64\n",
      " 14  rideable_type       int8   \n",
      " 15  start_city          int8   \n",
      " 16  start_landmark      int16  \n",
      " 17  end_city            int8   \n",
      " 18  end_landmark        int16  \n",
      " 19  start_date          object \n",
      " 20  end_date            object \n",
      " 21  start_dpcapacity    int8   \n",
      " 22  end_dpcapacity      int8   \n",
      " 23  age                 int8   \n",
      "dtypes: float64(4), int16(4), int8(8), object(8)\n",
      "memory usage: 3.4+ GB\n"
     ]
    }
   ],
   "source": [
    "merged2013_2022.info()"
   ]
  },
  {
   "cell_type": "code",
   "execution_count": 58,
   "id": "0ad1e3b8",
   "metadata": {},
   "outputs": [],
   "source": [
    "merged2013_2022.drop('birthyear', axis=1, inplace=True)"
   ]
  },
  {
   "cell_type": "code",
   "execution_count": 59,
   "id": "a6700a63",
   "metadata": {},
   "outputs": [
    {
     "name": "stdout",
     "output_type": "stream",
     "text": [
      "<class 'pandas.core.frame.DataFrame'>\n",
      "RangeIndex: 33026386 entries, 0 to 33026385\n",
      "Data columns (total 23 columns):\n",
      " #   Column              Dtype  \n",
      "---  ------              -----  \n",
      " 0   start_time          object \n",
      " 1   end_time            object \n",
      " 2   trip_duration       int16  \n",
      " 3   start_station_id    object \n",
      " 4   start_station_name  object \n",
      " 5   end_station_id      object \n",
      " 6   end_station_name    object \n",
      " 7   usertype            int8   \n",
      " 8   gender              int8   \n",
      " 9   start_lat           float64\n",
      " 10  start_lng           float64\n",
      " 11  end_lat             float64\n",
      " 12  end_lng             float64\n",
      " 13  rideable_type       int8   \n",
      " 14  start_city          int8   \n",
      " 15  start_landmark      int16  \n",
      " 16  end_city            int8   \n",
      " 17  end_landmark        int16  \n",
      " 18  start_date          object \n",
      " 19  end_date            object \n",
      " 20  start_dpcapacity    int8   \n",
      " 21  end_dpcapacity      int8   \n",
      " 22  age                 int8   \n",
      "dtypes: float64(4), int16(3), int8(8), object(8)\n",
      "memory usage: 3.4+ GB\n"
     ]
    }
   ],
   "source": [
    "merged2013_2022.info()"
   ]
  },
  {
   "cell_type": "code",
   "execution_count": 60,
   "id": "4dcc3342",
   "metadata": {},
   "outputs": [],
   "source": [
    "merged2013_2022.to_csv('1 Full Divvy Dataframe final.csv')"
   ]
  },
  {
   "cell_type": "code",
   "execution_count": 61,
   "id": "de76a5e8",
   "metadata": {},
   "outputs": [],
   "source": [
    "import pandas as pd\n",
    "merged2013_2022 = pd.read_csv('1 Full Divvy Dataframe final.csv', index_col=[0])"
   ]
  },
  {
   "cell_type": "code",
   "execution_count": 62,
   "id": "26248f51",
   "metadata": {},
   "outputs": [
    {
     "data": {
      "text/html": [
       "<div>\n",
       "<style scoped>\n",
       "    .dataframe tbody tr th:only-of-type {\n",
       "        vertical-align: middle;\n",
       "    }\n",
       "\n",
       "    .dataframe tbody tr th {\n",
       "        vertical-align: top;\n",
       "    }\n",
       "\n",
       "    .dataframe thead th {\n",
       "        text-align: right;\n",
       "    }\n",
       "</style>\n",
       "<table border=\"1\" class=\"dataframe\">\n",
       "  <thead>\n",
       "    <tr style=\"text-align: right;\">\n",
       "      <th></th>\n",
       "      <th>start_time</th>\n",
       "      <th>end_time</th>\n",
       "      <th>trip_duration</th>\n",
       "      <th>start_station_id</th>\n",
       "      <th>start_station_name</th>\n",
       "      <th>end_station_id</th>\n",
       "      <th>end_station_name</th>\n",
       "      <th>usertype</th>\n",
       "      <th>gender</th>\n",
       "      <th>start_lat</th>\n",
       "      <th>...</th>\n",
       "      <th>rideable_type</th>\n",
       "      <th>start_city</th>\n",
       "      <th>start_landmark</th>\n",
       "      <th>end_city</th>\n",
       "      <th>end_landmark</th>\n",
       "      <th>start_date</th>\n",
       "      <th>end_date</th>\n",
       "      <th>start_dpcapacity</th>\n",
       "      <th>end_dpcapacity</th>\n",
       "      <th>age</th>\n",
       "    </tr>\n",
       "  </thead>\n",
       "  <tbody>\n",
       "    <tr>\n",
       "      <th>0</th>\n",
       "      <td>11:09:00</td>\n",
       "      <td>11:11:00</td>\n",
       "      <td>140</td>\n",
       "      <td>88</td>\n",
       "      <td>Racine Ave &amp; Randolph St</td>\n",
       "      <td>88</td>\n",
       "      <td>Racine Ave &amp; Randolph St</td>\n",
       "      <td>1</td>\n",
       "      <td>0</td>\n",
       "      <td>41.88397</td>\n",
       "      <td>...</td>\n",
       "      <td>0</td>\n",
       "      <td>0</td>\n",
       "      <td>155</td>\n",
       "      <td>0</td>\n",
       "      <td>155</td>\n",
       "      <td>2013-06-27</td>\n",
       "      <td>2013-06-27</td>\n",
       "      <td>19</td>\n",
       "      <td>19</td>\n",
       "      <td>31</td>\n",
       "    </tr>\n",
       "    <tr>\n",
       "      <th>1</th>\n",
       "      <td>11:12:00</td>\n",
       "      <td>11:13:00</td>\n",
       "      <td>87</td>\n",
       "      <td>88</td>\n",
       "      <td>Racine Ave &amp; Randolph St</td>\n",
       "      <td>88</td>\n",
       "      <td>Racine Ave &amp; Randolph St</td>\n",
       "      <td>1</td>\n",
       "      <td>0</td>\n",
       "      <td>41.88397</td>\n",
       "      <td>...</td>\n",
       "      <td>0</td>\n",
       "      <td>0</td>\n",
       "      <td>155</td>\n",
       "      <td>0</td>\n",
       "      <td>155</td>\n",
       "      <td>2013-06-27</td>\n",
       "      <td>2013-06-27</td>\n",
       "      <td>19</td>\n",
       "      <td>19</td>\n",
       "      <td>31</td>\n",
       "    </tr>\n",
       "    <tr>\n",
       "      <th>2</th>\n",
       "      <td>12:06:00</td>\n",
       "      <td>12:11:00</td>\n",
       "      <td>301</td>\n",
       "      <td>85</td>\n",
       "      <td>Michigan Ave &amp; Oak St</td>\n",
       "      <td>85</td>\n",
       "      <td>Michigan Ave &amp; Oak St</td>\n",
       "      <td>1</td>\n",
       "      <td>0</td>\n",
       "      <td>41.90096</td>\n",
       "      <td>...</td>\n",
       "      <td>0</td>\n",
       "      <td>0</td>\n",
       "      <td>42</td>\n",
       "      <td>0</td>\n",
       "      <td>42</td>\n",
       "      <td>2013-06-27</td>\n",
       "      <td>2013-06-27</td>\n",
       "      <td>21</td>\n",
       "      <td>21</td>\n",
       "      <td>31</td>\n",
       "    </tr>\n",
       "    <tr>\n",
       "      <th>3</th>\n",
       "      <td>12:11:00</td>\n",
       "      <td>12:16:00</td>\n",
       "      <td>316</td>\n",
       "      <td>85</td>\n",
       "      <td>Michigan Ave &amp; Oak St</td>\n",
       "      <td>TA1306000007</td>\n",
       "      <td>Larrabee St &amp; Menomonee St</td>\n",
       "      <td>0</td>\n",
       "      <td>-1</td>\n",
       "      <td>41.90096</td>\n",
       "      <td>...</td>\n",
       "      <td>0</td>\n",
       "      <td>0</td>\n",
       "      <td>42</td>\n",
       "      <td>0</td>\n",
       "      <td>282</td>\n",
       "      <td>2013-06-27</td>\n",
       "      <td>2013-06-27</td>\n",
       "      <td>21</td>\n",
       "      <td>15</td>\n",
       "      <td>-1</td>\n",
       "    </tr>\n",
       "    <tr>\n",
       "      <th>4</th>\n",
       "      <td>12:15:00</td>\n",
       "      <td>12:16:00</td>\n",
       "      <td>60</td>\n",
       "      <td>TA1306000007</td>\n",
       "      <td>Larrabee St &amp; Menomonee St</td>\n",
       "      <td>TA1306000007</td>\n",
       "      <td>Larrabee St &amp; Menomonee St</td>\n",
       "      <td>1</td>\n",
       "      <td>0</td>\n",
       "      <td>41.91468</td>\n",
       "      <td>...</td>\n",
       "      <td>0</td>\n",
       "      <td>0</td>\n",
       "      <td>282</td>\n",
       "      <td>0</td>\n",
       "      <td>282</td>\n",
       "      <td>2013-06-27</td>\n",
       "      <td>2013-06-27</td>\n",
       "      <td>15</td>\n",
       "      <td>15</td>\n",
       "      <td>31</td>\n",
       "    </tr>\n",
       "  </tbody>\n",
       "</table>\n",
       "<p>5 rows × 23 columns</p>\n",
       "</div>"
      ],
      "text/plain": [
       "  start_time  end_time  trip_duration start_station_id  \\\n",
       "0   11:09:00  11:11:00            140               88   \n",
       "1   11:12:00  11:13:00             87               88   \n",
       "2   12:06:00  12:11:00            301               85   \n",
       "3   12:11:00  12:16:00            316               85   \n",
       "4   12:15:00  12:16:00             60     TA1306000007   \n",
       "\n",
       "           start_station_name end_station_id            end_station_name  \\\n",
       "0    Racine Ave & Randolph St             88    Racine Ave & Randolph St   \n",
       "1    Racine Ave & Randolph St             88    Racine Ave & Randolph St   \n",
       "2       Michigan Ave & Oak St             85       Michigan Ave & Oak St   \n",
       "3       Michigan Ave & Oak St   TA1306000007  Larrabee St & Menomonee St   \n",
       "4  Larrabee St & Menomonee St   TA1306000007  Larrabee St & Menomonee St   \n",
       "\n",
       "   usertype  gender  start_lat  ...  rideable_type  start_city  \\\n",
       "0         1       0   41.88397  ...              0           0   \n",
       "1         1       0   41.88397  ...              0           0   \n",
       "2         1       0   41.90096  ...              0           0   \n",
       "3         0      -1   41.90096  ...              0           0   \n",
       "4         1       0   41.91468  ...              0           0   \n",
       "\n",
       "   start_landmark  end_city  end_landmark  start_date    end_date  \\\n",
       "0             155         0           155  2013-06-27  2013-06-27   \n",
       "1             155         0           155  2013-06-27  2013-06-27   \n",
       "2              42         0            42  2013-06-27  2013-06-27   \n",
       "3              42         0           282  2013-06-27  2013-06-27   \n",
       "4             282         0           282  2013-06-27  2013-06-27   \n",
       "\n",
       "   start_dpcapacity end_dpcapacity age  \n",
       "0                19             19  31  \n",
       "1                19             19  31  \n",
       "2                21             21  31  \n",
       "3                21             15  -1  \n",
       "4                15             15  31  \n",
       "\n",
       "[5 rows x 23 columns]"
      ]
     },
     "execution_count": 62,
     "metadata": {},
     "output_type": "execute_result"
    }
   ],
   "source": [
    "merged2013_2022.head()"
   ]
  },
  {
   "cell_type": "code",
   "execution_count": 64,
   "id": "fef7d091",
   "metadata": {},
   "outputs": [],
   "source": [
    "merged2013_2022['usertype'] = merged2013_2022['usertype'].astype('int8')\n",
    "merged2013_2022['gender'] = merged2013_2022['gender'].astype('int8')\n",
    "merged2013_2022['rideable_type'] = merged2013_2022['rideable_type'].astype('int8')\n",
    "merged2013_2022['start_city'] = merged2013_2022['start_city'].astype('int8')\n",
    "merged2013_2022['end_city'] = merged2013_2022['end_city'].astype('int8')\n",
    "merged2013_2022['trip_duration'] = merged2013_2022['trip_duration'].astype('int16')\n",
    "merged2013_2022['start_landmark'] = merged2013_2022['start_landmark'].astype('int16')\n",
    "merged2013_2022['end_landmark'] = merged2013_2022['end_landmark'].astype('int16')\n",
    "merged2013_2022['start_dpcapacity'] = merged2013_2022['start_dpcapacity'].astype('int8')\n",
    "merged2013_2022['end_dpcapacity'] = merged2013_2022['end_dpcapacity'].astype('int8')\n",
    "merged2013_2022['age'] = merged2013_2022['age'].astype('int8')"
   ]
  },
  {
   "cell_type": "code",
   "execution_count": 65,
   "id": "9eac75ed",
   "metadata": {},
   "outputs": [],
   "source": [
    "start_time = list(merged2013_2022['start_time'].values)\n",
    "st_hour = []\n",
    "st_minute = []\n",
    "st_second = []\n",
    "\n",
    "\n",
    "for time in start_time:\n",
    "    st_hour.append(int(time[:2]))\n",
    "    st_minute.append(int(time[3:5]))\n",
    "    st_second.append(int(time[6:8]))"
   ]
  },
  {
   "cell_type": "code",
   "execution_count": 66,
   "id": "1fc2bd02",
   "metadata": {},
   "outputs": [],
   "source": [
    "end_time = list(merged2013_2022['end_time'].values)\n",
    "ed_hour = []\n",
    "ed_minute = []\n",
    "ed_second = []\n",
    "\n",
    "\n",
    "for time in end_time:\n",
    "    ed_hour.append(int(time[:2]))\n",
    "    ed_minute.append(int(time[3:5]))\n",
    "    ed_second.append(int(time[6:8]))"
   ]
  },
  {
   "cell_type": "code",
   "execution_count": 67,
   "id": "d50cd81b",
   "metadata": {},
   "outputs": [],
   "source": [
    "start_date = list(merged2013_2022['start_date'].values)\n",
    "st_year = []\n",
    "st_month = []\n",
    "st_day = []\n",
    "\n",
    "\n",
    "for date in start_date:\n",
    "    st_year.append(int(date[:4]))\n",
    "    st_month.append(int(date[5:7]))\n",
    "    st_day.append(int(date[8:10]))"
   ]
  },
  {
   "cell_type": "code",
   "execution_count": 68,
   "id": "7bce37e4",
   "metadata": {},
   "outputs": [],
   "source": [
    "end_date = list(merged2013_2022['end_date'].values)\n",
    "ed_year = []\n",
    "ed_month = []\n",
    "ed_day = []\n",
    "\n",
    "\n",
    "for date in end_date:\n",
    "    ed_year.append(int(date[:4]))\n",
    "    ed_month.append(int(date[5:7]))\n",
    "    ed_day.append(int(date[8:10]))"
   ]
  },
  {
   "cell_type": "code",
   "execution_count": 69,
   "id": "30452cbd",
   "metadata": {},
   "outputs": [],
   "source": [
    "merged2013_2022['st_hour'] = st_hour\n",
    "merged2013_2022['st_minute'] = st_minute\n",
    "merged2013_2022['st_second'] = st_second\n",
    "\n",
    "merged2013_2022['ed_hour'] = ed_hour\n",
    "merged2013_2022['ed_minute'] = ed_minute\n",
    "merged2013_2022['ed_second'] = ed_second\n",
    "\n",
    "merged2013_2022['st_year'] = st_year\n",
    "merged2013_2022['st_month'] = st_month\n",
    "merged2013_2022['st_day'] = st_day\n",
    "\n",
    "merged2013_2022['ed_year'] = ed_year\n",
    "merged2013_2022['ed_month'] = ed_month\n",
    "merged2013_2022['ed_day'] = ed_day"
   ]
  },
  {
   "cell_type": "code",
   "execution_count": 70,
   "id": "3a162333",
   "metadata": {
    "scrolled": false
   },
   "outputs": [
    {
     "name": "stdout",
     "output_type": "stream",
     "text": [
      "<class 'pandas.core.frame.DataFrame'>\n",
      "Int64Index: 33026386 entries, 0 to 33026385\n",
      "Data columns (total 35 columns):\n",
      " #   Column              Dtype  \n",
      "---  ------              -----  \n",
      " 0   start_time          object \n",
      " 1   end_time            object \n",
      " 2   trip_duration       int16  \n",
      " 3   start_station_id    object \n",
      " 4   start_station_name  object \n",
      " 5   end_station_id      object \n",
      " 6   end_station_name    object \n",
      " 7   usertype            int8   \n",
      " 8   gender              int8   \n",
      " 9   start_lat           float64\n",
      " 10  start_lng           float64\n",
      " 11  end_lat             float64\n",
      " 12  end_lng             float64\n",
      " 13  rideable_type       int8   \n",
      " 14  start_city          int8   \n",
      " 15  start_landmark      int16  \n",
      " 16  end_city            int8   \n",
      " 17  end_landmark        int16  \n",
      " 18  start_date          object \n",
      " 19  end_date            object \n",
      " 20  start_dpcapacity    int8   \n",
      " 21  end_dpcapacity      int8   \n",
      " 22  age                 int8   \n",
      " 23  st_hour             int64  \n",
      " 24  st_minute           int64  \n",
      " 25  st_second           int64  \n",
      " 26  ed_hour             int64  \n",
      " 27  ed_minute           int64  \n",
      " 28  ed_second           int64  \n",
      " 29  st_year             int64  \n",
      " 30  st_month            int64  \n",
      " 31  st_day              int64  \n",
      " 32  ed_year             int64  \n",
      " 33  ed_month            int64  \n",
      " 34  ed_day              int64  \n",
      "dtypes: float64(4), int16(3), int64(12), int8(8), object(8)\n",
      "memory usage: 6.6+ GB\n"
     ]
    }
   ],
   "source": [
    "merged2013_2022.info()"
   ]
  },
  {
   "cell_type": "code",
   "execution_count": 71,
   "id": "e80bdd22",
   "metadata": {},
   "outputs": [],
   "source": [
    "convert = list(merged2013_2022.columns)[24:]"
   ]
  },
  {
   "cell_type": "code",
   "execution_count": 72,
   "id": "b63ffdd4",
   "metadata": {},
   "outputs": [],
   "source": [
    "for category in convert:\n",
    "    \n",
    "    test = (merged2013_2022[f'{category}'] == merged2013_2022[f'{category}'].astype('int8')).unique()\n",
    "    if test[0] == True and len(test) == 1:\n",
    "        merged2013_2022[f'{category}'] = merged2013_2022[f'{category}'].astype('int8')\n",
    "        continue\n",
    "    test2 = (merged2013_2022[f'{category}'] == merged2013_2022[f'{category}'].astype('int16')).unique()\n",
    "    if test2[0] == True and len(test2) == 1:\n",
    "        merged2013_2022[f'{category}'] = merged2013_2022[f'{category}'].astype('int16')\n",
    "        continue\n",
    "    test3 = (merged2013_2022[f'{category}'] == merged2013_2022[f'{category}'].astype('int32')).unique()\n",
    "    if test3[0] == True and len(test3) == 1:\n",
    "        merged2013_2022[f'{category}'] = merged2013_2022[f'{category}'].astype('int32')\n",
    "        continue"
   ]
  },
  {
   "cell_type": "code",
   "execution_count": 73,
   "id": "86921d84",
   "metadata": {},
   "outputs": [
    {
     "name": "stdout",
     "output_type": "stream",
     "text": [
      "<class 'pandas.core.frame.DataFrame'>\n",
      "Int64Index: 33026386 entries, 0 to 33026385\n",
      "Data columns (total 35 columns):\n",
      " #   Column              Dtype  \n",
      "---  ------              -----  \n",
      " 0   start_time          object \n",
      " 1   end_time            object \n",
      " 2   trip_duration       int16  \n",
      " 3   start_station_id    object \n",
      " 4   start_station_name  object \n",
      " 5   end_station_id      object \n",
      " 6   end_station_name    object \n",
      " 7   usertype            int8   \n",
      " 8   gender              int8   \n",
      " 9   start_lat           float64\n",
      " 10  start_lng           float64\n",
      " 11  end_lat             float64\n",
      " 12  end_lng             float64\n",
      " 13  rideable_type       int8   \n",
      " 14  start_city          int8   \n",
      " 15  start_landmark      int16  \n",
      " 16  end_city            int8   \n",
      " 17  end_landmark        int16  \n",
      " 18  start_date          object \n",
      " 19  end_date            object \n",
      " 20  start_dpcapacity    int8   \n",
      " 21  end_dpcapacity      int8   \n",
      " 22  age                 int8   \n",
      " 23  st_hour             int64  \n",
      " 24  st_minute           int8   \n",
      " 25  st_second           int8   \n",
      " 26  ed_hour             int8   \n",
      " 27  ed_minute           int8   \n",
      " 28  ed_second           int8   \n",
      " 29  st_year             int16  \n",
      " 30  st_month            int8   \n",
      " 31  st_day              int8   \n",
      " 32  ed_year             int16  \n",
      " 33  ed_month            int8   \n",
      " 34  ed_day              int8   \n",
      "dtypes: float64(4), int16(5), int64(1), int8(17), object(8)\n",
      "memory usage: 4.3+ GB\n"
     ]
    }
   ],
   "source": [
    "merged2013_2022.info()"
   ]
  },
  {
   "cell_type": "code",
   "execution_count": 74,
   "id": "cabcf543",
   "metadata": {
    "scrolled": false
   },
   "outputs": [
    {
     "data": {
      "text/plain": [
       "{'start_time': dtype('O'),\n",
       " 'end_time': dtype('O'),\n",
       " 'trip_duration': dtype('int16'),\n",
       " 'start_station_id': dtype('O'),\n",
       " 'start_station_name': dtype('O'),\n",
       " 'end_station_id': dtype('O'),\n",
       " 'end_station_name': dtype('O'),\n",
       " 'usertype': dtype('int8'),\n",
       " 'gender': dtype('int8'),\n",
       " 'start_lat': dtype('float64'),\n",
       " 'start_lng': dtype('float64'),\n",
       " 'end_lat': dtype('float64'),\n",
       " 'end_lng': dtype('float64'),\n",
       " 'rideable_type': dtype('int8'),\n",
       " 'start_city': dtype('int8'),\n",
       " 'start_landmark': dtype('int16'),\n",
       " 'end_city': dtype('int8'),\n",
       " 'end_landmark': dtype('int16'),\n",
       " 'start_date': dtype('O'),\n",
       " 'end_date': dtype('O'),\n",
       " 'start_dpcapacity': dtype('int8'),\n",
       " 'end_dpcapacity': dtype('int8'),\n",
       " 'age': dtype('int8'),\n",
       " 'st_hour': dtype('int64'),\n",
       " 'st_minute': dtype('int8'),\n",
       " 'st_second': dtype('int8'),\n",
       " 'ed_hour': dtype('int8'),\n",
       " 'ed_minute': dtype('int8'),\n",
       " 'ed_second': dtype('int8'),\n",
       " 'st_year': dtype('int16'),\n",
       " 'st_month': dtype('int8'),\n",
       " 'st_day': dtype('int8'),\n",
       " 'ed_year': dtype('int16'),\n",
       " 'ed_month': dtype('int8'),\n",
       " 'ed_day': dtype('int8')}"
      ]
     },
     "execution_count": 74,
     "metadata": {},
     "output_type": "execute_result"
    }
   ],
   "source": [
    "merged2013_2022.dtypes.to_dict()"
   ]
  },
  {
   "cell_type": "code",
   "execution_count": 75,
   "id": "ee78fbac",
   "metadata": {},
   "outputs": [],
   "source": [
    "merged2013_2022.to_csv('1 Full Divvy Dataframe final.csv')"
   ]
  },
  {
   "cell_type": "code",
   "execution_count": 2,
   "id": "98c5bc1f",
   "metadata": {},
   "outputs": [],
   "source": [
    "import pandas as pd"
   ]
  },
  {
   "cell_type": "code",
   "execution_count": null,
   "id": "0ee488a3",
   "metadata": {},
   "outputs": [],
   "source": [
    "merged2013_2022 = pd.read_csv('1 Full Divvy Dataframe final.csv',\n",
    "                              index_col=0,\n",
    "                              dtype={\n",
    "                             'trip_duration': 'int16',\n",
    "                             'usertype': 'int8',\n",
    "                             'gender': 'int8',\n",
    "                             'birthyear': 'int16',\n",
    "                             'rideable_type': 'int8',\n",
    "                             'start_city': 'int8',\n",
    "                             'start_landmark': 'int16',\n",
    "                             'end_city': 'int8',\n",
    "                             'end_landmark': 'int16',\n",
    "                             'start_dpcapacity': 'int8',\n",
    "                             'end_dpcapacity': 'int8',\n",
    "                             'age': 'int8',\n",
    "                             'st_hour': 'int8',\n",
    "                             'st_minute': 'int8',\n",
    "                             'st_second': 'int8',\n",
    "                             'ed_hour': 'int8',\n",
    "                             'ed_minute': 'int8',\n",
    "                             'ed_second': 'int8',\n",
    "                             'st_year': 'int16',\n",
    "                             'st_month': 'int8',\n",
    "                             'st_day': 'int8',\n",
    "                             'ed_year': 'int16',\n",
    "                             'ed_month': 'int8',\n",
    "                             'ed_day': 'int8'})"
   ]
  },
  {
   "cell_type": "code",
   "execution_count": null,
   "id": "2207b7fe",
   "metadata": {},
   "outputs": [],
   "source": [
    "merged2013_2022"
   ]
  }
 ],
 "metadata": {
  "kernelspec": {
   "display_name": "Python 3 (ipykernel)",
   "language": "python",
   "name": "python3"
  },
  "language_info": {
   "codemirror_mode": {
    "name": "ipython",
    "version": 3
   },
   "file_extension": ".py",
   "mimetype": "text/x-python",
   "name": "python",
   "nbconvert_exporter": "python",
   "pygments_lexer": "ipython3",
   "version": "3.9.12"
  }
 },
 "nbformat": 4,
 "nbformat_minor": 5
}
