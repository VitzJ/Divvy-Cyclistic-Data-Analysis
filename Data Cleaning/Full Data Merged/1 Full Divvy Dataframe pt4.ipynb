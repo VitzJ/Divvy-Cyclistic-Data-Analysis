{
 "cells": [
  {
   "cell_type": "code",
   "execution_count": 1,
   "id": "c993ea1b",
   "metadata": {},
   "outputs": [],
   "source": [
    "import pandas as pd"
   ]
  },
  {
   "cell_type": "code",
   "execution_count": 2,
   "id": "5e2d41ef",
   "metadata": {},
   "outputs": [],
   "source": [
    "merged2013_2022 = pd.read_csv('1 Full Divvy Dataframe pt3.csv', nrows=1, index_col=[0])"
   ]
  },
  {
   "cell_type": "code",
   "execution_count": 3,
   "id": "aa7f220b",
   "metadata": {
    "scrolled": true
   },
   "outputs": [
    {
     "data": {
      "text/html": [
       "<div>\n",
       "<style scoped>\n",
       "    .dataframe tbody tr th:only-of-type {\n",
       "        vertical-align: middle;\n",
       "    }\n",
       "\n",
       "    .dataframe tbody tr th {\n",
       "        vertical-align: top;\n",
       "    }\n",
       "\n",
       "    .dataframe thead th {\n",
       "        text-align: right;\n",
       "    }\n",
       "</style>\n",
       "<table border=\"1\" class=\"dataframe\">\n",
       "  <thead>\n",
       "    <tr style=\"text-align: right;\">\n",
       "      <th></th>\n",
       "      <th>index</th>\n",
       "      <th>start_time</th>\n",
       "      <th>end_time</th>\n",
       "      <th>tripduration</th>\n",
       "      <th>start_station_id</th>\n",
       "      <th>start_station_name</th>\n",
       "      <th>end_station_id</th>\n",
       "      <th>end_station_name</th>\n",
       "      <th>usertype</th>\n",
       "      <th>gender</th>\n",
       "      <th>...</th>\n",
       "      <th>end_lng</th>\n",
       "      <th>rideable_type</th>\n",
       "      <th>start_city</th>\n",
       "      <th>start_landmark</th>\n",
       "      <th>end_city</th>\n",
       "      <th>end_landmark</th>\n",
       "      <th>start_date</th>\n",
       "      <th>end_date</th>\n",
       "      <th>start_dpcapacity</th>\n",
       "      <th>end_dpcapacity</th>\n",
       "    </tr>\n",
       "  </thead>\n",
       "  <tbody>\n",
       "    <tr>\n",
       "      <th>0</th>\n",
       "      <td>0</td>\n",
       "      <td>00:00:00</td>\n",
       "      <td>00:09:00</td>\n",
       "      <td>487</td>\n",
       "      <td>34</td>\n",
       "      <td>Cannon Dr &amp; Fullerton Ave</td>\n",
       "      <td>TA1306000016</td>\n",
       "      <td>Sheffield Ave &amp; Fullerton Ave</td>\n",
       "      <td>0</td>\n",
       "      <td>-1</td>\n",
       "      <td>...</td>\n",
       "      <td>-87.653708</td>\n",
       "      <td>0</td>\n",
       "      <td>0</td>\n",
       "      <td>124</td>\n",
       "      <td>0</td>\n",
       "      <td>60</td>\n",
       "      <td>2013-06-30</td>\n",
       "      <td>2013-06-30</td>\n",
       "      <td>15</td>\n",
       "      <td>25</td>\n",
       "    </tr>\n",
       "  </tbody>\n",
       "</table>\n",
       "<p>1 rows × 24 columns</p>\n",
       "</div>"
      ],
      "text/plain": [
       "   index start_time  end_time  tripduration  start_station_id  \\\n",
       "0      0   00:00:00  00:09:00           487                34   \n",
       "\n",
       "          start_station_name end_station_id               end_station_name  \\\n",
       "0  Cannon Dr & Fullerton Ave   TA1306000016  Sheffield Ave & Fullerton Ave   \n",
       "\n",
       "   usertype  gender  ...    end_lng  rideable_type  start_city  \\\n",
       "0         0      -1  ... -87.653708              0           0   \n",
       "\n",
       "   start_landmark  end_city  end_landmark  start_date    end_date  \\\n",
       "0             124         0            60  2013-06-30  2013-06-30   \n",
       "\n",
       "   start_dpcapacity  end_dpcapacity  \n",
       "0                15              25  \n",
       "\n",
       "[1 rows x 24 columns]"
      ]
     },
     "execution_count": 3,
     "metadata": {},
     "output_type": "execute_result"
    }
   ],
   "source": [
    "merged2013_2022.head()"
   ]
  },
  {
   "cell_type": "code",
   "execution_count": 4,
   "id": "a28169ab",
   "metadata": {},
   "outputs": [],
   "source": [
    "merged2013_2022 = pd.read_csv('1 Full Divvy Dataframe pt3.csv', index_col=[0])"
   ]
  },
  {
   "cell_type": "code",
   "execution_count": 5,
   "id": "8d7a01e6",
   "metadata": {},
   "outputs": [
    {
     "data": {
      "text/html": [
       "<div>\n",
       "<style scoped>\n",
       "    .dataframe tbody tr th:only-of-type {\n",
       "        vertical-align: middle;\n",
       "    }\n",
       "\n",
       "    .dataframe tbody tr th {\n",
       "        vertical-align: top;\n",
       "    }\n",
       "\n",
       "    .dataframe thead th {\n",
       "        text-align: right;\n",
       "    }\n",
       "</style>\n",
       "<table border=\"1\" class=\"dataframe\">\n",
       "  <thead>\n",
       "    <tr style=\"text-align: right;\">\n",
       "      <th></th>\n",
       "      <th>index</th>\n",
       "      <th>start_time</th>\n",
       "      <th>end_time</th>\n",
       "      <th>tripduration</th>\n",
       "      <th>start_station_id</th>\n",
       "      <th>start_station_name</th>\n",
       "      <th>end_station_id</th>\n",
       "      <th>end_station_name</th>\n",
       "      <th>usertype</th>\n",
       "      <th>gender</th>\n",
       "      <th>...</th>\n",
       "      <th>end_lng</th>\n",
       "      <th>rideable_type</th>\n",
       "      <th>start_city</th>\n",
       "      <th>start_landmark</th>\n",
       "      <th>end_city</th>\n",
       "      <th>end_landmark</th>\n",
       "      <th>start_date</th>\n",
       "      <th>end_date</th>\n",
       "      <th>start_dpcapacity</th>\n",
       "      <th>end_dpcapacity</th>\n",
       "    </tr>\n",
       "  </thead>\n",
       "  <tbody>\n",
       "    <tr>\n",
       "      <th>0</th>\n",
       "      <td>0</td>\n",
       "      <td>00:00:00</td>\n",
       "      <td>00:09:00</td>\n",
       "      <td>487</td>\n",
       "      <td>34</td>\n",
       "      <td>Cannon Dr &amp; Fullerton Ave</td>\n",
       "      <td>TA1306000016</td>\n",
       "      <td>Sheffield Ave &amp; Fullerton Ave</td>\n",
       "      <td>0</td>\n",
       "      <td>-1</td>\n",
       "      <td>...</td>\n",
       "      <td>-87.653708</td>\n",
       "      <td>0</td>\n",
       "      <td>0</td>\n",
       "      <td>124</td>\n",
       "      <td>0</td>\n",
       "      <td>60</td>\n",
       "      <td>2013-06-30</td>\n",
       "      <td>2013-06-30</td>\n",
       "      <td>15</td>\n",
       "      <td>25</td>\n",
       "    </tr>\n",
       "    <tr>\n",
       "      <th>1</th>\n",
       "      <td>1</td>\n",
       "      <td>00:00:00</td>\n",
       "      <td>00:06:00</td>\n",
       "      <td>359</td>\n",
       "      <td>20</td>\n",
       "      <td>Sheffield Ave &amp; Kingsbury St</td>\n",
       "      <td>60</td>\n",
       "      <td>Dayton St &amp; North Ave</td>\n",
       "      <td>1</td>\n",
       "      <td>0</td>\n",
       "      <td>...</td>\n",
       "      <td>-87.649422</td>\n",
       "      <td>0</td>\n",
       "      <td>0</td>\n",
       "      <td>154</td>\n",
       "      <td>0</td>\n",
       "      <td>58</td>\n",
       "      <td>2013-07-03</td>\n",
       "      <td>2013-07-03</td>\n",
       "      <td>14</td>\n",
       "      <td>19</td>\n",
       "    </tr>\n",
       "    <tr>\n",
       "      <th>2</th>\n",
       "      <td>2</td>\n",
       "      <td>00:00:00</td>\n",
       "      <td>00:27:00</td>\n",
       "      <td>1623</td>\n",
       "      <td>TA1305000002</td>\n",
       "      <td>Wabash Ave &amp; Roosevelt Rd</td>\n",
       "      <td>97</td>\n",
       "      <td>Field Museum</td>\n",
       "      <td>0</td>\n",
       "      <td>-1</td>\n",
       "      <td>...</td>\n",
       "      <td>-87.617759</td>\n",
       "      <td>0</td>\n",
       "      <td>0</td>\n",
       "      <td>31</td>\n",
       "      <td>0</td>\n",
       "      <td>29</td>\n",
       "      <td>2013-07-06</td>\n",
       "      <td>2013-07-06</td>\n",
       "      <td>20</td>\n",
       "      <td>54</td>\n",
       "    </tr>\n",
       "    <tr>\n",
       "      <th>3</th>\n",
       "      <td>3</td>\n",
       "      <td>00:00:00</td>\n",
       "      <td>00:44:00</td>\n",
       "      <td>2639</td>\n",
       "      <td>76</td>\n",
       "      <td>DuSable Lake Shore Dr &amp; Monroe St</td>\n",
       "      <td>76</td>\n",
       "      <td>DuSable Lake Shore Dr &amp; Monroe St</td>\n",
       "      <td>0</td>\n",
       "      <td>-1</td>\n",
       "      <td>...</td>\n",
       "      <td>-87.616970</td>\n",
       "      <td>0</td>\n",
       "      <td>0</td>\n",
       "      <td>300</td>\n",
       "      <td>0</td>\n",
       "      <td>300</td>\n",
       "      <td>2013-07-08</td>\n",
       "      <td>2013-07-08</td>\n",
       "      <td>39</td>\n",
       "      <td>39</td>\n",
       "    </tr>\n",
       "    <tr>\n",
       "      <th>4</th>\n",
       "      <td>4</td>\n",
       "      <td>00:00:00</td>\n",
       "      <td>00:25:00</td>\n",
       "      <td>1479</td>\n",
       "      <td>TA1306000008</td>\n",
       "      <td>Larrabee St &amp; North Ave</td>\n",
       "      <td>TA1305000003</td>\n",
       "      <td>Fairbanks Ct &amp; Grand Ave</td>\n",
       "      <td>0</td>\n",
       "      <td>-1</td>\n",
       "      <td>...</td>\n",
       "      <td>-87.620620</td>\n",
       "      <td>0</td>\n",
       "      <td>0</td>\n",
       "      <td>174</td>\n",
       "      <td>0</td>\n",
       "      <td>262</td>\n",
       "      <td>2013-07-14</td>\n",
       "      <td>2013-07-14</td>\n",
       "      <td>16</td>\n",
       "      <td>14</td>\n",
       "    </tr>\n",
       "  </tbody>\n",
       "</table>\n",
       "<p>5 rows × 24 columns</p>\n",
       "</div>"
      ],
      "text/plain": [
       "   index start_time  end_time  tripduration start_station_id  \\\n",
       "0      0   00:00:00  00:09:00           487               34   \n",
       "1      1   00:00:00  00:06:00           359               20   \n",
       "2      2   00:00:00  00:27:00          1623     TA1305000002   \n",
       "3      3   00:00:00  00:44:00          2639               76   \n",
       "4      4   00:00:00  00:25:00          1479     TA1306000008   \n",
       "\n",
       "                  start_station_name end_station_id  \\\n",
       "0          Cannon Dr & Fullerton Ave   TA1306000016   \n",
       "1       Sheffield Ave & Kingsbury St             60   \n",
       "2          Wabash Ave & Roosevelt Rd             97   \n",
       "3  DuSable Lake Shore Dr & Monroe St             76   \n",
       "4            Larrabee St & North Ave   TA1305000003   \n",
       "\n",
       "                    end_station_name  usertype  gender  ...    end_lng  \\\n",
       "0      Sheffield Ave & Fullerton Ave         0      -1  ... -87.653708   \n",
       "1              Dayton St & North Ave         1       0  ... -87.649422   \n",
       "2                       Field Museum         0      -1  ... -87.617759   \n",
       "3  DuSable Lake Shore Dr & Monroe St         0      -1  ... -87.616970   \n",
       "4           Fairbanks Ct & Grand Ave         0      -1  ... -87.620620   \n",
       "\n",
       "   rideable_type  start_city  start_landmark  end_city  end_landmark  \\\n",
       "0              0           0             124         0            60   \n",
       "1              0           0             154         0            58   \n",
       "2              0           0              31         0            29   \n",
       "3              0           0             300         0           300   \n",
       "4              0           0             174         0           262   \n",
       "\n",
       "   start_date    end_date  start_dpcapacity  end_dpcapacity  \n",
       "0  2013-06-30  2013-06-30                15              25  \n",
       "1  2013-07-03  2013-07-03                14              19  \n",
       "2  2013-07-06  2013-07-06                20              54  \n",
       "3  2013-07-08  2013-07-08                39              39  \n",
       "4  2013-07-14  2013-07-14                16              14  \n",
       "\n",
       "[5 rows x 24 columns]"
      ]
     },
     "execution_count": 5,
     "metadata": {},
     "output_type": "execute_result"
    }
   ],
   "source": [
    "merged2013_2022.head()"
   ]
  },
  {
   "cell_type": "code",
   "execution_count": 6,
   "id": "e3cae51b",
   "metadata": {},
   "outputs": [],
   "source": [
    "merged2013_2022.drop('index', axis=1, inplace=True)"
   ]
  },
  {
   "cell_type": "code",
   "execution_count": 7,
   "id": "f4d1693f",
   "metadata": {
    "scrolled": false
   },
   "outputs": [
    {
     "data": {
      "text/plain": [
       "start_time            0\n",
       "end_time              0\n",
       "tripduration          0\n",
       "start_station_id      0\n",
       "start_station_name    0\n",
       "end_station_id        0\n",
       "end_station_name      0\n",
       "usertype              0\n",
       "gender                0\n",
       "birthyear             0\n",
       "start_lat             0\n",
       "start_lng             0\n",
       "end_lat               0\n",
       "end_lng               0\n",
       "rideable_type         0\n",
       "start_city            0\n",
       "start_landmark        0\n",
       "end_city              0\n",
       "end_landmark          0\n",
       "start_date            0\n",
       "end_date              0\n",
       "start_dpcapacity      0\n",
       "end_dpcapacity        0\n",
       "dtype: int64"
      ]
     },
     "execution_count": 7,
     "metadata": {},
     "output_type": "execute_result"
    }
   ],
   "source": [
    "merged2013_2022.isnull().sum()"
   ]
  },
  {
   "cell_type": "code",
   "execution_count": 8,
   "id": "d26c71f1",
   "metadata": {},
   "outputs": [
    {
     "data": {
      "text/plain": [
       "(33142587, 23)"
      ]
     },
     "execution_count": 8,
     "metadata": {},
     "output_type": "execute_result"
    }
   ],
   "source": [
    "merged2013_2022.shape"
   ]
  },
  {
   "cell_type": "code",
   "execution_count": 9,
   "id": "6e9b8f06",
   "metadata": {},
   "outputs": [
    {
     "data": {
      "text/plain": [
       "start_time             object\n",
       "end_time               object\n",
       "tripduration            int64\n",
       "start_station_id       object\n",
       "start_station_name     object\n",
       "end_station_id         object\n",
       "end_station_name       object\n",
       "usertype                int64\n",
       "gender                  int64\n",
       "birthyear               int64\n",
       "start_lat             float64\n",
       "start_lng             float64\n",
       "end_lat               float64\n",
       "end_lng               float64\n",
       "rideable_type           int64\n",
       "start_city              int64\n",
       "start_landmark          int64\n",
       "end_city                int64\n",
       "end_landmark            int64\n",
       "start_date             object\n",
       "end_date               object\n",
       "start_dpcapacity        int64\n",
       "end_dpcapacity          int64\n",
       "dtype: object"
      ]
     },
     "execution_count": 9,
     "metadata": {},
     "output_type": "execute_result"
    }
   ],
   "source": [
    "merged2013_2022.dtypes"
   ]
  },
  {
   "cell_type": "code",
   "execution_count": 10,
   "id": "4ab27f90",
   "metadata": {
    "scrolled": true
   },
   "outputs": [
    {
     "data": {
      "text/html": [
       "<div>\n",
       "<style scoped>\n",
       "    .dataframe tbody tr th:only-of-type {\n",
       "        vertical-align: middle;\n",
       "    }\n",
       "\n",
       "    .dataframe tbody tr th {\n",
       "        vertical-align: top;\n",
       "    }\n",
       "\n",
       "    .dataframe thead th {\n",
       "        text-align: right;\n",
       "    }\n",
       "</style>\n",
       "<table border=\"1\" class=\"dataframe\">\n",
       "  <thead>\n",
       "    <tr style=\"text-align: right;\">\n",
       "      <th></th>\n",
       "      <th>start_time</th>\n",
       "      <th>end_time</th>\n",
       "      <th>tripduration</th>\n",
       "      <th>start_station_id</th>\n",
       "      <th>start_station_name</th>\n",
       "      <th>end_station_id</th>\n",
       "      <th>end_station_name</th>\n",
       "      <th>usertype</th>\n",
       "      <th>gender</th>\n",
       "      <th>birthyear</th>\n",
       "      <th>...</th>\n",
       "      <th>end_lng</th>\n",
       "      <th>rideable_type</th>\n",
       "      <th>start_city</th>\n",
       "      <th>start_landmark</th>\n",
       "      <th>end_city</th>\n",
       "      <th>end_landmark</th>\n",
       "      <th>start_date</th>\n",
       "      <th>end_date</th>\n",
       "      <th>start_dpcapacity</th>\n",
       "      <th>end_dpcapacity</th>\n",
       "    </tr>\n",
       "  </thead>\n",
       "  <tbody>\n",
       "    <tr>\n",
       "      <th>0</th>\n",
       "      <td>00:00:00</td>\n",
       "      <td>00:09:00</td>\n",
       "      <td>487</td>\n",
       "      <td>34</td>\n",
       "      <td>Cannon Dr &amp; Fullerton Ave</td>\n",
       "      <td>TA1306000016</td>\n",
       "      <td>Sheffield Ave &amp; Fullerton Ave</td>\n",
       "      <td>0</td>\n",
       "      <td>-1</td>\n",
       "      <td>0</td>\n",
       "      <td>...</td>\n",
       "      <td>-87.653708</td>\n",
       "      <td>0</td>\n",
       "      <td>0</td>\n",
       "      <td>124</td>\n",
       "      <td>0</td>\n",
       "      <td>60</td>\n",
       "      <td>2013-06-30</td>\n",
       "      <td>2013-06-30</td>\n",
       "      <td>15</td>\n",
       "      <td>25</td>\n",
       "    </tr>\n",
       "    <tr>\n",
       "      <th>1</th>\n",
       "      <td>00:00:00</td>\n",
       "      <td>00:06:00</td>\n",
       "      <td>359</td>\n",
       "      <td>20</td>\n",
       "      <td>Sheffield Ave &amp; Kingsbury St</td>\n",
       "      <td>60</td>\n",
       "      <td>Dayton St &amp; North Ave</td>\n",
       "      <td>1</td>\n",
       "      <td>0</td>\n",
       "      <td>1976</td>\n",
       "      <td>...</td>\n",
       "      <td>-87.649422</td>\n",
       "      <td>0</td>\n",
       "      <td>0</td>\n",
       "      <td>154</td>\n",
       "      <td>0</td>\n",
       "      <td>58</td>\n",
       "      <td>2013-07-03</td>\n",
       "      <td>2013-07-03</td>\n",
       "      <td>14</td>\n",
       "      <td>19</td>\n",
       "    </tr>\n",
       "    <tr>\n",
       "      <th>2</th>\n",
       "      <td>00:00:00</td>\n",
       "      <td>00:27:00</td>\n",
       "      <td>1623</td>\n",
       "      <td>TA1305000002</td>\n",
       "      <td>Wabash Ave &amp; Roosevelt Rd</td>\n",
       "      <td>97</td>\n",
       "      <td>Field Museum</td>\n",
       "      <td>0</td>\n",
       "      <td>-1</td>\n",
       "      <td>0</td>\n",
       "      <td>...</td>\n",
       "      <td>-87.617759</td>\n",
       "      <td>0</td>\n",
       "      <td>0</td>\n",
       "      <td>31</td>\n",
       "      <td>0</td>\n",
       "      <td>29</td>\n",
       "      <td>2013-07-06</td>\n",
       "      <td>2013-07-06</td>\n",
       "      <td>20</td>\n",
       "      <td>54</td>\n",
       "    </tr>\n",
       "    <tr>\n",
       "      <th>3</th>\n",
       "      <td>00:00:00</td>\n",
       "      <td>00:44:00</td>\n",
       "      <td>2639</td>\n",
       "      <td>76</td>\n",
       "      <td>DuSable Lake Shore Dr &amp; Monroe St</td>\n",
       "      <td>76</td>\n",
       "      <td>DuSable Lake Shore Dr &amp; Monroe St</td>\n",
       "      <td>0</td>\n",
       "      <td>-1</td>\n",
       "      <td>0</td>\n",
       "      <td>...</td>\n",
       "      <td>-87.616970</td>\n",
       "      <td>0</td>\n",
       "      <td>0</td>\n",
       "      <td>300</td>\n",
       "      <td>0</td>\n",
       "      <td>300</td>\n",
       "      <td>2013-07-08</td>\n",
       "      <td>2013-07-08</td>\n",
       "      <td>39</td>\n",
       "      <td>39</td>\n",
       "    </tr>\n",
       "    <tr>\n",
       "      <th>4</th>\n",
       "      <td>00:00:00</td>\n",
       "      <td>00:25:00</td>\n",
       "      <td>1479</td>\n",
       "      <td>TA1306000008</td>\n",
       "      <td>Larrabee St &amp; North Ave</td>\n",
       "      <td>TA1305000003</td>\n",
       "      <td>Fairbanks Ct &amp; Grand Ave</td>\n",
       "      <td>0</td>\n",
       "      <td>-1</td>\n",
       "      <td>0</td>\n",
       "      <td>...</td>\n",
       "      <td>-87.620620</td>\n",
       "      <td>0</td>\n",
       "      <td>0</td>\n",
       "      <td>174</td>\n",
       "      <td>0</td>\n",
       "      <td>262</td>\n",
       "      <td>2013-07-14</td>\n",
       "      <td>2013-07-14</td>\n",
       "      <td>16</td>\n",
       "      <td>14</td>\n",
       "    </tr>\n",
       "  </tbody>\n",
       "</table>\n",
       "<p>5 rows × 23 columns</p>\n",
       "</div>"
      ],
      "text/plain": [
       "  start_time  end_time  tripduration start_station_id  \\\n",
       "0   00:00:00  00:09:00           487               34   \n",
       "1   00:00:00  00:06:00           359               20   \n",
       "2   00:00:00  00:27:00          1623     TA1305000002   \n",
       "3   00:00:00  00:44:00          2639               76   \n",
       "4   00:00:00  00:25:00          1479     TA1306000008   \n",
       "\n",
       "                  start_station_name end_station_id  \\\n",
       "0          Cannon Dr & Fullerton Ave   TA1306000016   \n",
       "1       Sheffield Ave & Kingsbury St             60   \n",
       "2          Wabash Ave & Roosevelt Rd             97   \n",
       "3  DuSable Lake Shore Dr & Monroe St             76   \n",
       "4            Larrabee St & North Ave   TA1305000003   \n",
       "\n",
       "                    end_station_name  usertype  gender  birthyear  ...  \\\n",
       "0      Sheffield Ave & Fullerton Ave         0      -1          0  ...   \n",
       "1              Dayton St & North Ave         1       0       1976  ...   \n",
       "2                       Field Museum         0      -1          0  ...   \n",
       "3  DuSable Lake Shore Dr & Monroe St         0      -1          0  ...   \n",
       "4           Fairbanks Ct & Grand Ave         0      -1          0  ...   \n",
       "\n",
       "     end_lng  rideable_type  start_city  start_landmark  end_city  \\\n",
       "0 -87.653708              0           0             124         0   \n",
       "1 -87.649422              0           0             154         0   \n",
       "2 -87.617759              0           0              31         0   \n",
       "3 -87.616970              0           0             300         0   \n",
       "4 -87.620620              0           0             174         0   \n",
       "\n",
       "   end_landmark  start_date    end_date  start_dpcapacity end_dpcapacity  \n",
       "0            60  2013-06-30  2013-06-30                15             25  \n",
       "1            58  2013-07-03  2013-07-03                14             19  \n",
       "2            29  2013-07-06  2013-07-06                20             54  \n",
       "3           300  2013-07-08  2013-07-08                39             39  \n",
       "4           262  2013-07-14  2013-07-14                16             14  \n",
       "\n",
       "[5 rows x 23 columns]"
      ]
     },
     "execution_count": 10,
     "metadata": {},
     "output_type": "execute_result"
    }
   ],
   "source": [
    "merged2013_2022.head()"
   ]
  },
  {
   "cell_type": "code",
   "execution_count": 11,
   "id": "a91d1ccf",
   "metadata": {},
   "outputs": [],
   "source": [
    "fixed_city = []\n",
    "def fix_city(station_name='', city=int):\n",
    "    fixed_city.append(station_name)\n",
    "    merged2013_2022.loc[merged2013_2022['start_station_name'] == station_name, 'start_city'] = city\n",
    "    merged2013_2022.loc[merged2013_2022['end_station_name'] == station_name, 'end_city'] = city"
   ]
  },
  {
   "cell_type": "code",
   "execution_count": 12,
   "id": "c81eefc8",
   "metadata": {
    "scrolled": true
   },
   "outputs": [],
   "source": [
    "# merged2013_2022[merged2013_2022['start_city'] == 0] gives us already established values, all ints are already confirmed cities"
   ]
  },
  {
   "cell_type": "code",
   "execution_count": 13,
   "id": "8c659841",
   "metadata": {},
   "outputs": [],
   "source": [
    "# Now we can turn a lot of classifiers into numerical datatypes. This means I can change to_city and from_city to \n",
    "# 0, 1, 2 type = int\n",
    "\n",
    "# 0: Chicago\n",
    "# 1: Evanston\n",
    "# 2: Oak Park"
   ]
  },
  {
   "cell_type": "code",
   "execution_count": 14,
   "id": "a519605a",
   "metadata": {},
   "outputs": [
    {
     "data": {
      "text/plain": [
       "array([0, 1, 2], dtype=int64)"
      ]
     },
     "execution_count": 14,
     "metadata": {},
     "output_type": "execute_result"
    }
   ],
   "source": [
    "merged2013_2022['start_city'].unique()"
   ]
  },
  {
   "cell_type": "code",
   "execution_count": 15,
   "id": "95567c2f",
   "metadata": {},
   "outputs": [
    {
     "data": {
      "text/plain": [
       "array([0, 1, 2], dtype=int64)"
      ]
     },
     "execution_count": 15,
     "metadata": {},
     "output_type": "execute_result"
    }
   ],
   "source": [
    "merged2013_2022['end_city'].unique()"
   ]
  },
  {
   "cell_type": "code",
   "execution_count": 16,
   "id": "ce564a28",
   "metadata": {},
   "outputs": [],
   "source": [
    "# Ridge Blvd is in Evanston\n",
    "fix_city('Ridge Blvd & Howard St', 1)"
   ]
  },
  {
   "cell_type": "code",
   "execution_count": 17,
   "id": "689bc14c",
   "metadata": {},
   "outputs": [],
   "source": [
    "# Sheridan Rd & Noyes St (NU) is in Evanston\n",
    "fix_city('Sheridan Rd & Noyes St (NU)', 1)\n",
    "# Benson Ave & Church St is in Evanston\n",
    "fix_city('Benson Ave & Church St', 1)"
   ]
  },
  {
   "cell_type": "code",
   "execution_count": 18,
   "id": "772335b5",
   "metadata": {},
   "outputs": [],
   "source": [
    "# Chicago Ave & N Austin Blvd are in Oak Park\n",
    "fix_city('Austin Blvd & Chicago Ave', 2)"
   ]
  },
  {
   "cell_type": "code",
   "execution_count": 19,
   "id": "d9102870",
   "metadata": {},
   "outputs": [],
   "source": [
    "# University Library (NU) is in Evanston\n",
    "fix_city('University Library (NU)', 1)"
   ]
  },
  {
   "cell_type": "code",
   "execution_count": 20,
   "id": "b17cfe4e",
   "metadata": {},
   "outputs": [],
   "source": [
    "# Western Ave & Howard St is in Evanston\n",
    "fix_city('Western Ave & Howard St', 1)"
   ]
  },
  {
   "cell_type": "code",
   "execution_count": 21,
   "id": "e5bec589",
   "metadata": {},
   "outputs": [],
   "source": [
    "# Dodge Ave & Church St is in Evanston\n",
    "fix_city('Dodge Ave & Church St', 1)"
   ]
  },
  {
   "cell_type": "code",
   "execution_count": 22,
   "id": "b910dcb4",
   "metadata": {},
   "outputs": [],
   "source": [
    "# N Austin Blvd & Lake St is in Oak Park\n",
    "fix_city('Austin Blvd & Lake St', 2)"
   ]
  },
  {
   "cell_type": "code",
   "execution_count": 23,
   "id": "d5fd27db",
   "metadata": {},
   "outputs": [],
   "source": [
    "# Now to verify all the rest of the stations\n",
    "unique_stations = list(set(list(merged2013_2022['start_station_name'].values) + list(merged2013_2022['end_station_name'].values)))\n",
    "fix_cities = []"
   ]
  },
  {
   "cell_type": "code",
   "execution_count": 24,
   "id": "04c91dc0",
   "metadata": {},
   "outputs": [],
   "source": [
    "for i in range(len(unique_stations)):\n",
    "    if unique_stations[i] not in fixed_city:\n",
    "        fix_cities.append(unique_stations[i])"
   ]
  },
  {
   "cell_type": "code",
   "execution_count": 25,
   "id": "0ad77e6c",
   "metadata": {},
   "outputs": [
    {
     "data": {
      "text/plain": [
       "1375"
      ]
     },
     "execution_count": 25,
     "metadata": {},
     "output_type": "execute_result"
    }
   ],
   "source": [
    "len(fix_cities)"
   ]
  },
  {
   "cell_type": "code",
   "execution_count": 26,
   "id": "0e2cc0ec",
   "metadata": {},
   "outputs": [],
   "source": [
    "fix_k = [0, 10]"
   ]
  },
  {
   "cell_type": "code",
   "execution_count": 27,
   "id": "104cbcb6",
   "metadata": {
    "scrolled": true
   },
   "outputs": [
    {
     "name": "stdout",
     "output_type": "stream",
     "text": [
      "Public Rack - St Louis Ave & Berteau Ave\n",
      "Clark St & Elm St\n",
      "Public Rack - Leclaire Ave & Division St\n",
      "Public Rack - Fullerton Ave & Narragansett Ave\n",
      "Parnell Ave & 98th St\n",
      "Public Rack - Champlain Ave & 65th St\n",
      "Ravenswood Ave & Irving Park Rd\n",
      "Public Rack - Ada St & 117th St\n",
      "Public Rack - Avenue M & 132nd St\n",
      "Lincoln Ave & Winona St\n"
     ]
    }
   ],
   "source": [
    "for i in range(fix_k[0], fix_k[1]):\n",
    "    print(fix_cities[i])\n",
    "fix_k[0] += 10\n",
    "fix_k[1] += 10"
   ]
  },
  {
   "cell_type": "code",
   "execution_count": 28,
   "id": "42fc0345",
   "metadata": {
    "scrolled": true
   },
   "outputs": [
    {
     "name": "stdout",
     "output_type": "stream",
     "text": [
      "Public Rack - Kildare Ave & Washignton Blvd\n",
      "Public Rack - Division St & Christiana Ave\n",
      "Damen Ave & Division St\n",
      "Public Rack - Hiawatha Park\n",
      "Stave St & Armitage Ave\n",
      "Winchester Ave & Elston Ave\n",
      "Racine Ave & Belmont Ave\n",
      "Talman Ave & Addison St\n",
      "Morgan St & Pershing Rd\n",
      "Public Rack - Roscoe St & Osceola Ave\n"
     ]
    }
   ],
   "source": [
    "for i in range(fix_k[0], fix_k[1]):\n",
    "    print(fix_cities[i])\n",
    "fix_k[0] += 10\n",
    "fix_k[1] += 10"
   ]
  },
  {
   "cell_type": "code",
   "execution_count": 29,
   "id": "941bf79c",
   "metadata": {},
   "outputs": [],
   "source": [
    "fix_city('Cuyler Ave & Augusta St', 2)"
   ]
  },
  {
   "cell_type": "code",
   "execution_count": 30,
   "id": "854df1a6",
   "metadata": {},
   "outputs": [],
   "source": [
    "# From here on out I will only make calls to streets that aren't in chicago, and at the end I will assign chicago to all the\n",
    "# rest of the station names at the end."
   ]
  },
  {
   "cell_type": "code",
   "execution_count": 31,
   "id": "85ee11bb",
   "metadata": {},
   "outputs": [
    {
     "name": "stdout",
     "output_type": "stream",
     "text": [
      "Public Rack - Kostner Ave & Diversey Ave\n",
      "Public Rack - Kilbourn Ave & Fullerton Ave\n",
      "Roscoe & Harlem\n",
      "Shields Ave & 43rd St\n",
      "Princeton Ave & China Pl\n",
      "Canal St & Harrison St\n",
      "Public Rack - East End Ave & 87th St\n",
      "Public Rack - Hamlin Ave & Fullerton Ave\n",
      "Racine Ave & 65th St\n",
      "Broadway & Waveland Ave\n"
     ]
    }
   ],
   "source": [
    "for i in range(fix_k[0], fix_k[1]):\n",
    "    print(fix_cities[i])\n",
    "fix_k[0] += 10\n",
    "fix_k[1] += 10"
   ]
  },
  {
   "cell_type": "code",
   "execution_count": 32,
   "id": "384096de",
   "metadata": {
    "scrolled": true
   },
   "outputs": [
    {
     "name": "stdout",
     "output_type": "stream",
     "text": [
      "Public Rack - Vincennes Ave & 77th St\n",
      "Kildare & Cermak\n",
      "Lombard Ave & Garfield St\n",
      "Public Rack - Perry Ave & 111th St\n",
      "Drake Ave & Addison St\n",
      "Racine Ave & Wrightwood Ave\n",
      "Dauphin Ave & 87th St\n",
      "Washtenaw Ave & Ogden Ave\n",
      "Larrabee St & Menomonee St\n",
      "Indiana Ave & 133rd St\n"
     ]
    }
   ],
   "source": [
    "for i in range(fix_k[0], fix_k[1]):\n",
    "    print(fix_cities[i])\n",
    "fix_k[0] += 10\n",
    "fix_k[1] += 10"
   ]
  },
  {
   "cell_type": "code",
   "execution_count": 33,
   "id": "ff9dba21",
   "metadata": {},
   "outputs": [
    {
     "name": "stdout",
     "output_type": "stream",
     "text": [
      "Damen Ave & 33rd St\n",
      "Public Rack - Yale Ave & 119th St\n",
      "Desplaines St & Jackson Blvd\n",
      "Ewing Ave & 101st St\n",
      "Paulina St & 18th St\n",
      "Public Rack - Kostner Ave & North Ave\n",
      "Clarendon Ave & Junior Ter\n",
      "Public Rack - Halsted St & 109th St\n",
      "Public Rack - McVicker Ave & Grand Ave\n",
      "Clark St & North Ave\n"
     ]
    }
   ],
   "source": [
    "for i in range(fix_k[0], fix_k[1]):\n",
    "    print(fix_cities[i])\n",
    "fix_k[0] += 10\n",
    "fix_k[1] += 10"
   ]
  },
  {
   "cell_type": "code",
   "execution_count": 34,
   "id": "608e2120",
   "metadata": {},
   "outputs": [
    {
     "name": "stdout",
     "output_type": "stream",
     "text": [
      "Phillips Ave & 79th St\n",
      "Public Rack - Loomis Blvd & 83rd St\n",
      "Central Ave & Madison St\n",
      "Public Rack - Independence Blvd & Roosevelt\n",
      "Southport Ave & Clybourn Ave\n",
      "Calumet Ave & 21st St\n",
      "Prospect Sq & 91st St\n",
      "Public Rack - Michigan Ave & 102nd St\n",
      "Dearborn St & Van Buren St\n",
      "Ashland Ave & 21st St\n"
     ]
    }
   ],
   "source": [
    "for i in range(fix_k[0], fix_k[1]):\n",
    "    print(fix_cities[i])\n",
    "fix_k[0] += 10\n",
    "fix_k[1] += 10"
   ]
  },
  {
   "cell_type": "code",
   "execution_count": 35,
   "id": "44afade7",
   "metadata": {},
   "outputs": [
    {
     "name": "stdout",
     "output_type": "stream",
     "text": [
      "Leavitt St & Hirsch St\n",
      "Wisconsin Ave & Madison St\n",
      "Wilton Ave & Diversey Pkwy*\n",
      "Public Rack - Hyde Park Blvd & 53rd St\n",
      "Rockwell St & 63rd St\n",
      "Public Rack - Vincennes Ave & 87th St\n",
      "Public Rack - Keef Ave & South Chicago Ave\n",
      "Public Rack - Western Ave & 96th St\n",
      "Buckingham Fountain\n",
      "Public Rack - Keystone Ave & North Ave\n"
     ]
    }
   ],
   "source": [
    "for i in range(fix_k[0], fix_k[1]):\n",
    "    print(fix_cities[i])\n",
    "fix_k[0] += 10\n",
    "fix_k[1] += 10"
   ]
  },
  {
   "cell_type": "code",
   "execution_count": 36,
   "id": "cefc7851",
   "metadata": {},
   "outputs": [
    {
     "name": "stdout",
     "output_type": "stream",
     "text": [
      "Menard Ave & Division St\n",
      "Clark St & Lunt Ave\n",
      "Ashland Ave & Garfield Blvd\n",
      "Western Ave & 62nd St\n",
      "Public Rack - Central Park Ave & Fulton Blvd\n",
      "Public Rack - Halsted St & 113th St\n",
      "Public Rack - Pulaski Rd & 5th Ave\n",
      "Public Rack - Avers Ave & Archer Ave\n",
      "Jeffery Blvd & 83rd St\n",
      "Cornell Dr & Hayes Dr\n"
     ]
    }
   ],
   "source": [
    "for i in range(fix_k[0], fix_k[1]):\n",
    "    print(fix_cities[i])\n",
    "fix_k[0] += 10\n",
    "fix_k[1] += 10"
   ]
  },
  {
   "cell_type": "code",
   "execution_count": 37,
   "id": "82eff2fb",
   "metadata": {},
   "outputs": [],
   "source": [
    "fix_city('Central St Metra', 1)"
   ]
  },
  {
   "cell_type": "code",
   "execution_count": 38,
   "id": "9be7b7cf",
   "metadata": {},
   "outputs": [
    {
     "name": "stdout",
     "output_type": "stream",
     "text": [
      "Public Rack - Kedzie Ave & 54th St - SE\n",
      "Public Rack - Abbott Park\n",
      "W Oakdale Ave & N Broadway\n",
      "California Ave & Altgeld St\n",
      "Vernon Ave & 79th St\n",
      "Public Rack - Spaulding Ave & Bryn Mawr Ave\n",
      "Lawrence Ave & 103rd St\n",
      "Halsted St & Blackhawk St\n",
      "Rainbow Beach\n",
      "Clark St & Newport St\n"
     ]
    }
   ],
   "source": [
    "for i in range(fix_k[0], fix_k[1]):\n",
    "    print(fix_cities[i])\n",
    "fix_k[0] += 10\n",
    "fix_k[1] += 10"
   ]
  },
  {
   "cell_type": "code",
   "execution_count": 39,
   "id": "34b54fe3",
   "metadata": {},
   "outputs": [
    {
     "name": "stdout",
     "output_type": "stream",
     "text": [
      "Wabash Ave & Grand Ave\n",
      "Kildare Ave & 26th St\n",
      "Princeton Ave & Garfield Blvd\n",
      "Sheridan Rd & Argyle St\n",
      "Wells St & Ohio St\n",
      "Saginaw Ave & Exchange Ave\n",
      "Public Rack - Latrobe Ave & Lake St\n",
      "Public Rack - Kostner Ave & Wrightwood Ave\n",
      "Clark St & Leland Ave\n",
      "Public Rack - Avenue J & 106th St\n"
     ]
    }
   ],
   "source": [
    "for i in range(fix_k[0], fix_k[1]):\n",
    "    print(fix_cities[i])\n",
    "fix_k[0] += 10\n",
    "fix_k[1] += 10"
   ]
  },
  {
   "cell_type": "code",
   "execution_count": 40,
   "id": "2433cd55",
   "metadata": {},
   "outputs": [
    {
     "name": "stdout",
     "output_type": "stream",
     "text": [
      "Honore St & Division St\n",
      "Stetson Ave & South Water St\n",
      "Public Rack - Washington Park Ct & 51st St\n",
      "Lavergne Ave & 46th St\n",
      "Public Rack - Vincennes Ave & 95th Pl\n",
      "Baltimore Ave & 132nd St\n",
      "Tripp Ave & 65th St\n",
      "Public Rack - Cottage Grove Ave & 98th St\n",
      "State St & 79th St\n",
      "Public Rack - Cicero Ave & Wellington Ave\n"
     ]
    }
   ],
   "source": [
    "for i in range(fix_k[0], fix_k[1]):\n",
    "    print(fix_cities[i])\n",
    "fix_k[0] += 10\n",
    "fix_k[1] += 10"
   ]
  },
  {
   "cell_type": "code",
   "execution_count": 41,
   "id": "f103d6cd",
   "metadata": {},
   "outputs": [
    {
     "name": "stdout",
     "output_type": "stream",
     "text": [
      "Augusta Blvd & Laramie Ave\n",
      "Public Rack - Normal Ave & 72nd St\n",
      "Clark St & Schreiber Ave\n",
      "Public Rack - Lake Shore Dr & Hayes Dr\n",
      "Public Rack - Bensley Ave & 103rd St\n",
      "Public Rack - La Moyne Ave and Leamington Ave\n",
      "Public Rack - Stony Island & 95th St\n",
      "Calumet Ave & 71st St\n",
      "Public Rack - Ashland Ave & 73rd St\n",
      "Public Rack - Kedvale Ave & 63rd St\n"
     ]
    }
   ],
   "source": [
    "for i in range(fix_k[0], fix_k[1]):\n",
    "    print(fix_cities[i])\n",
    "fix_k[0] += 10\n",
    "fix_k[1] += 10"
   ]
  },
  {
   "cell_type": "code",
   "execution_count": 42,
   "id": "e066d8bc",
   "metadata": {},
   "outputs": [],
   "source": [
    "fix_city('Valli Produce - Evanston Plaza', 1)"
   ]
  },
  {
   "cell_type": "code",
   "execution_count": 43,
   "id": "491911a4",
   "metadata": {},
   "outputs": [
    {
     "name": "stdout",
     "output_type": "stream",
     "text": [
      "Halsted St & Polk St\n",
      "Pulaski Rd & 21st St\n",
      "Wentworth Ave & 24th St\n",
      "Public Rack - Ewing Ave & 107th St\n",
      "Southport Ave & Belmont Ave\n",
      "W Armitage Ave & N Sheffield Ave\n",
      "Homewood Ave & 115th St\n",
      "Central Park Ave & Ohio St\n",
      "Kildare Ave & 55th St\n",
      "Public Rack - Grand Ave & North Ave\n"
     ]
    }
   ],
   "source": [
    "for i in range(fix_k[0], fix_k[1]):\n",
    "    print(fix_cities[i])\n",
    "fix_k[0] += 10\n",
    "fix_k[1] += 10"
   ]
  },
  {
   "cell_type": "code",
   "execution_count": 44,
   "id": "96535b4e",
   "metadata": {},
   "outputs": [
    {
     "name": "stdout",
     "output_type": "stream",
     "text": [
      "Public Rack - Spaulding Ave & Foster Ave\n",
      "Fullerton & Monitor\n",
      "Public Rack - Burnside Academy\n",
      "Public Rack - Lafayette Ave & 87th St - NW\n",
      "Public Rack - Hamlin Ave & Grand Ave\n",
      "Public Rack - Fullerton Ave & Lavergne Ave\n",
      "Public Rack - Lowe Ave & 98th St\n",
      "Wells St & Huron St\n",
      "Halsted St & 47th Pl\n",
      "California Ave & 29th St\n"
     ]
    }
   ],
   "source": [
    "for i in range(fix_k[0], fix_k[1]):\n",
    "    print(fix_cities[i])\n",
    "fix_k[0] += 10\n",
    "fix_k[1] += 10"
   ]
  },
  {
   "cell_type": "code",
   "execution_count": 45,
   "id": "dde7d2d5",
   "metadata": {},
   "outputs": [
    {
     "name": "stdout",
     "output_type": "stream",
     "text": [
      "Rockwell St & Eastwood Ave\n",
      "Public Rack - Homan Ave & 26th St\n",
      "Central Ave & Harrison St\n",
      "Dayton St & North Ave\n",
      "Artesian Ave & Hubbard St\n",
      "Halsted St & Maxwell St\n",
      "Wells St & Institute Pl\n",
      "Montrose Harbor\n",
      "Maplewood Ave & Peterson Ave\n",
      "Public Rack - Sawyer Ave & Lawrence Ave\n"
     ]
    }
   ],
   "source": [
    "for i in range(fix_k[0], fix_k[1]):\n",
    "    print(fix_cities[i])\n",
    "fix_k[0] += 10\n",
    "fix_k[1] += 10"
   ]
  },
  {
   "cell_type": "code",
   "execution_count": 46,
   "id": "f9ec4bd7",
   "metadata": {},
   "outputs": [
    {
     "name": "stdout",
     "output_type": "stream",
     "text": [
      "Public Rack - Kenneth Ave & 63rd St\n",
      "Baltimore Ave & 87th St\n",
      "Public Rack - Western Ave & Jarvis Ave\n",
      "Public Rack - Nagle Ave & Belmont Ave\n",
      "Public Rack - Lorel Ave & Grand Ave\n",
      "Aberdeen St & Monroe St\n",
      "Cottage Grove Ave & 63rd St\n",
      "Dodge Ave & Main St\n",
      "Phillips Ave & 82nd St\n",
      "Ashland Ave & Blackhawk St\n"
     ]
    }
   ],
   "source": [
    "for i in range(fix_k[0], fix_k[1]):\n",
    "    print(fix_cities[i])\n",
    "fix_k[0] += 10\n",
    "fix_k[1] += 10"
   ]
  },
  {
   "cell_type": "code",
   "execution_count": 47,
   "id": "7fbf6b57",
   "metadata": {},
   "outputs": [
    {
     "name": "stdout",
     "output_type": "stream",
     "text": [
      "Public Rack - Kenneth Ave & 63rd St E\n",
      "Public Rack - Western Ave & 107th Pl\n",
      "Harding Ave & 26th St\n",
      "Wells St & Walton St\n",
      "Damen Ave & Charleston St\n",
      "Indiana Ave & Roosevelt Rd\n",
      "Commercial Ave & 83rd St\n",
      "Halsted St & 21st St\n",
      "Dodge Ave & Mulford St\n",
      "Damen Ave & Cortland St\n"
     ]
    }
   ],
   "source": [
    "for i in range(fix_k[0], fix_k[1]):\n",
    "    print(fix_cities[i])\n",
    "fix_k[0] += 10\n",
    "fix_k[1] += 10"
   ]
  },
  {
   "cell_type": "code",
   "execution_count": 48,
   "id": "8a385b13",
   "metadata": {},
   "outputs": [
    {
     "name": "stdout",
     "output_type": "stream",
     "text": [
      "Public Rack - Austin Ave & Roscoe St\n",
      "Public Rack - Austin Branch Chicago Public Library\n",
      "Laramie Ave & Kinzie St\n",
      "Public Rack - Honore St & 87th St - SE\n",
      "Lawndale Ave & 111th St\n",
      "Central Ave & Congress Pkwy\n",
      "Halsted St & Roscoe St\n",
      "Clifton Ave & Armitage Ave\n",
      "Public Rack - Cornell Ave & 87th Pl\n",
      "Public Rack - Lorel Ave & Chicago Ave\n"
     ]
    }
   ],
   "source": [
    "for i in range(fix_k[0], fix_k[1]):\n",
    "    print(fix_cities[i])\n",
    "fix_k[0] += 10\n",
    "fix_k[1] += 10"
   ]
  },
  {
   "cell_type": "code",
   "execution_count": 49,
   "id": "c2f907ca",
   "metadata": {},
   "outputs": [
    {
     "name": "stdout",
     "output_type": "stream",
     "text": [
      "Public Rack - 532 E 43rd St\n",
      "Michigan Ave & Madison St\n",
      "Damen Ave & Sunnyside Ave\n",
      "Public Rack - Jensen Park\n",
      "Lamon Ave & Chicago Ave\n",
      "Public Rack - Homan Ave & Roosevelt\n",
      "Michigan Ave & 8th St\n",
      "Racine Ave & Randolph St\n",
      "Burling St & Diversey Pkwy\n",
      "Public Rack - Kedzie Ave & 60th St\n"
     ]
    }
   ],
   "source": [
    "for i in range(fix_k[0], fix_k[1]):\n",
    "    print(fix_cities[i])\n",
    "fix_k[0] += 10\n",
    "fix_k[1] += 10"
   ]
  },
  {
   "cell_type": "code",
   "execution_count": 50,
   "id": "8b5ed32f",
   "metadata": {},
   "outputs": [
    {
     "name": "stdout",
     "output_type": "stream",
     "text": [
      "Larrabee St & Armitage Ave\n",
      "Public Rack - Whipple St & 26th St\n",
      "Halsted St & 18th St\n",
      "State St & 29th St\n",
      "Halsted St & 96th St\n",
      "Public Rack - Zapata Academy\n",
      "Public Rack - Western Ave & 111th St - SW\n",
      "Indiana Ave & 103rd St\n",
      "Greenwood Ave & 91st St\n",
      "Damen Ave & Chicago Ave\n"
     ]
    }
   ],
   "source": [
    "for i in range(fix_k[0], fix_k[1]):\n",
    "    print(fix_cities[i])\n",
    "fix_k[0] += 10\n",
    "fix_k[1] += 10"
   ]
  },
  {
   "cell_type": "code",
   "execution_count": 51,
   "id": "96756337",
   "metadata": {},
   "outputs": [
    {
     "name": "stdout",
     "output_type": "stream",
     "text": [
      "Public Rack - Oleander Ave & Addison St\n",
      "Bennett Ave & 79th St\n",
      "Daley Center Plaza\n",
      "Hamlin Ave & 62nd Pl\n",
      "N Hampden Ct & W Diversey Ave\n",
      "Public Rack - Park Manor Elementary School\n",
      "Western Ave & Ardmore Ave\n",
      "Public Rack - Western Ave & 98th St\n",
      "Wells St & Erie St\n",
      "Whipple St & Irving Park Rd\n"
     ]
    }
   ],
   "source": [
    "for i in range(fix_k[0], fix_k[1]):\n",
    "    print(fix_cities[i])\n",
    "fix_k[0] += 10\n",
    "fix_k[1] += 10"
   ]
  },
  {
   "cell_type": "code",
   "execution_count": 52,
   "id": "b96c233a",
   "metadata": {
    "scrolled": true
   },
   "outputs": [
    {
     "name": "stdout",
     "output_type": "stream",
     "text": [
      "Canal St & Adams St\n",
      "Public Rack - Brighton Park Branch Chicago Library\n",
      "Public Rack - Hale Ave & 111th St\n",
      "Public Rack - Ashland Ave & 46th St\n",
      "Pulaski Rd & 51st St\n",
      "Houston Ave & 92nd St\n",
      "Public Rack - Strohacker Park\n",
      "Pine Grove Ave & Irving Park Rd\n",
      "Clark St & Drummond Pl\n",
      "Western Ave & Berteau Ave\n"
     ]
    }
   ],
   "source": [
    "for i in range(fix_k[0], fix_k[1]):\n",
    "    print(fix_cities[i])\n",
    "fix_k[0] += 10\n",
    "fix_k[1] += 10"
   ]
  },
  {
   "cell_type": "code",
   "execution_count": 53,
   "id": "2fc0710b",
   "metadata": {},
   "outputs": [],
   "source": [
    "fix_city('Dodge Ave & Main St', 1)"
   ]
  },
  {
   "cell_type": "code",
   "execution_count": 54,
   "id": "7c140ca2",
   "metadata": {
    "scrolled": true
   },
   "outputs": [
    {
     "name": "stdout",
     "output_type": "stream",
     "text": [
      "Western Ave & Winnebago Ave\n",
      "Clinton St & Washington Blvd\n",
      "Public Rack - Perry Ave & 108th Pl\n",
      "Milwaukee Ave & Wabansia Ave\n",
      "Clinton St & Lake St\n",
      "Elston Ave & Wabansia Ave\n",
      "Public Rack - Ashland Ave & 91st St\n",
      "Sheridan Rd & Greenleaf Ave\n",
      "Richmond St & 59th St\n",
      "Sheridan Rd & Lawrence Ave\n"
     ]
    }
   ],
   "source": [
    "for i in range(fix_k[0], fix_k[1]):\n",
    "    print(fix_cities[i])\n",
    "fix_k[0] += 10\n",
    "fix_k[1] += 10"
   ]
  },
  {
   "cell_type": "code",
   "execution_count": 55,
   "id": "6fa29d53",
   "metadata": {},
   "outputs": [],
   "source": [
    "fix_city('East Ave & Madison St', 2)"
   ]
  },
  {
   "cell_type": "code",
   "execution_count": 56,
   "id": "e583617a",
   "metadata": {},
   "outputs": [
    {
     "name": "stdout",
     "output_type": "stream",
     "text": [
      "Manor Ave & Leland Ave\n",
      "Damen Ave & Cullerton St\n",
      "Halsted St & 73rd St\n",
      "Public Rack - Throop St & 58th St\n",
      "Morgan Ave & 14th Pl\n",
      "Central Ave & Chicago Ave\n",
      "Calumet Ave & Garfield Blvd\n",
      "Wood St & 35th St\n",
      "Michigan Ave & Washington St\n",
      "Public Rack - Roswell B. Mason Elementary School\n"
     ]
    }
   ],
   "source": [
    "for i in range(fix_k[0], fix_k[1]):\n",
    "    print(fix_cities[i])\n",
    "fix_k[0] += 10\n",
    "fix_k[1] += 10"
   ]
  },
  {
   "cell_type": "code",
   "execution_count": 57,
   "id": "510d3f79",
   "metadata": {
    "scrolled": true
   },
   "outputs": [
    {
     "name": "stdout",
     "output_type": "stream",
     "text": [
      "Cicero Ave & Flournoy St\n",
      "Public Rack - King Dr & 115th St\n",
      "Sheridan Rd & Loyola Ave\n",
      "Franklin St & Monroe St\n",
      "Streeter Dr & Grand Ave\n",
      "Western Ave & Lake St\n",
      "Western Ave & Roscoe St\n",
      "Damen Ave & Coulter St\n",
      "Clinton St & Roosevelt Rd\n",
      "Clinton St & Tilden St\n"
     ]
    }
   ],
   "source": [
    "for i in range(fix_k[0], fix_k[1]):\n",
    "    print(fix_cities[i])\n",
    "fix_k[0] += 10\n",
    "fix_k[1] += 10"
   ]
  },
  {
   "cell_type": "code",
   "execution_count": 58,
   "id": "ac58374a",
   "metadata": {},
   "outputs": [],
   "source": [
    "fix_city('Chicago Ave & Dempster St', 1)"
   ]
  },
  {
   "cell_type": "code",
   "execution_count": 59,
   "id": "de505ddb",
   "metadata": {},
   "outputs": [
    {
     "name": "stdout",
     "output_type": "stream",
     "text": [
      "Rockwell St & Fletcher St\n",
      "Ashland Ave & McDowell Ave\n",
      "Public Rack - Lawndale & 63rd St\n",
      "Public Rack - Sacramento Blvd & Washington Blvd\n",
      "Public Rack - Cottage Grove & 85th St\n",
      "Public Rack - Bishop St & 81st St\n",
      "Orleans St & Ohio St\n",
      "Kimball Ave & Belmont Ave\n",
      "Fort Dearborn Dr & 31st St\n",
      "Narragansett Ave & School St\n"
     ]
    }
   ],
   "source": [
    "for i in range(fix_k[0], fix_k[1]):\n",
    "    print(fix_cities[i])\n",
    "fix_k[0] += 10\n",
    "fix_k[1] += 10"
   ]
  },
  {
   "cell_type": "code",
   "execution_count": 60,
   "id": "4d54e071",
   "metadata": {},
   "outputs": [
    {
     "name": "stdout",
     "output_type": "stream",
     "text": [
      "Sacramento Blvd & Fulton Ave\n",
      "Public Rack - Lotus Ave & Harrison St\n",
      "Public Rack - Stony Island Ave & 86th St\n",
      "Ashland Ave & Armitage Ave\n",
      "Leavitt St & Addison St\n",
      "Meade Ave & Addison St\n",
      "Sheffield Ave & Waveland Ave\n",
      "Menard Ave & North Ave\n",
      "Public Rack - Chase Ave & Touhy Ave - NW\n",
      "Karlov Ave & Madison St\n"
     ]
    }
   ],
   "source": [
    "for i in range(fix_k[0], fix_k[1]):\n",
    "    print(fix_cities[i])\n",
    "fix_k[0] += 10\n",
    "fix_k[1] += 10"
   ]
  },
  {
   "cell_type": "code",
   "execution_count": 61,
   "id": "f334c2b8",
   "metadata": {
    "scrolled": true
   },
   "outputs": [
    {
     "name": "stdout",
     "output_type": "stream",
     "text": [
      "Homan Ave & Fillmore St\n",
      "Cuyler Ave & Augusta St\n",
      "Public Rack - Rockwell Ave & Touhy Ave \n",
      "Meade Ave & Diversey Ave\n",
      "Orleans St & Merchandise Mart Plaza\n",
      "Cicero Ave & Lake St\n",
      "Keystone Ave & Montrose Ave\n",
      "Public Rack - Rockwell & 111th St\n",
      "Public Rack - Avondale Ave & Addison St\n",
      "Public Rack - Clyde Ave & 87th St\n"
     ]
    }
   ],
   "source": [
    "for i in range(fix_k[0], fix_k[1]):\n",
    "    print(fix_cities[i])\n",
    "fix_k[0] += 10\n",
    "fix_k[1] += 10"
   ]
  },
  {
   "cell_type": "code",
   "execution_count": 62,
   "id": "f478bf5b",
   "metadata": {},
   "outputs": [],
   "source": [
    "fix_city('Ridgeland Ave & Lake St', 2)"
   ]
  },
  {
   "cell_type": "code",
   "execution_count": 63,
   "id": "a62ab9e9",
   "metadata": {},
   "outputs": [
    {
     "data": {
      "text/plain": [
       "[280, 290]"
      ]
     },
     "execution_count": 63,
     "metadata": {},
     "output_type": "execute_result"
    }
   ],
   "source": [
    "fix_k"
   ]
  },
  {
   "cell_type": "code",
   "execution_count": 64,
   "id": "099e5059",
   "metadata": {},
   "outputs": [
    {
     "name": "stdout",
     "output_type": "stream",
     "text": [
      "Paulina St & Flournoy St\n",
      "Public Rack - Austin Ave & Wellington Ave\n",
      "Burnham Greenway & 105th St\n",
      "Field Museum\n",
      "Lake Park Ave & 53rd St\n",
      "Central Ave & Roscoe St\n",
      "Public Rack - Woodlawn Ave & 63rd St S\n",
      "Public Rack - Western Ave & 118th St\n",
      "Public Rack - Western Ave & 92nd Pl\n",
      "California Ave & Montrose Ave\n"
     ]
    }
   ],
   "source": [
    "for i in range(fix_k[0], fix_k[1]):\n",
    "    print(fix_cities[i])\n",
    "fix_k[0] += 10\n",
    "fix_k[1] += 10"
   ]
  },
  {
   "cell_type": "code",
   "execution_count": 65,
   "id": "143c386b",
   "metadata": {},
   "outputs": [],
   "source": [
    "fix_city('Evanston Civic Center', 1)"
   ]
  },
  {
   "cell_type": "code",
   "execution_count": 66,
   "id": "321663ab",
   "metadata": {},
   "outputs": [
    {
     "data": {
      "text/html": [
       "<div>\n",
       "<style scoped>\n",
       "    .dataframe tbody tr th:only-of-type {\n",
       "        vertical-align: middle;\n",
       "    }\n",
       "\n",
       "    .dataframe tbody tr th {\n",
       "        vertical-align: top;\n",
       "    }\n",
       "\n",
       "    .dataframe thead th {\n",
       "        text-align: right;\n",
       "    }\n",
       "</style>\n",
       "<table border=\"1\" class=\"dataframe\">\n",
       "  <thead>\n",
       "    <tr style=\"text-align: right;\">\n",
       "      <th></th>\n",
       "      <th>start_time</th>\n",
       "      <th>end_time</th>\n",
       "      <th>tripduration</th>\n",
       "      <th>start_station_id</th>\n",
       "      <th>start_station_name</th>\n",
       "      <th>end_station_id</th>\n",
       "      <th>end_station_name</th>\n",
       "      <th>usertype</th>\n",
       "      <th>gender</th>\n",
       "      <th>birthyear</th>\n",
       "      <th>...</th>\n",
       "      <th>end_lng</th>\n",
       "      <th>rideable_type</th>\n",
       "      <th>start_city</th>\n",
       "      <th>start_landmark</th>\n",
       "      <th>end_city</th>\n",
       "      <th>end_landmark</th>\n",
       "      <th>start_date</th>\n",
       "      <th>end_date</th>\n",
       "      <th>start_dpcapacity</th>\n",
       "      <th>end_dpcapacity</th>\n",
       "    </tr>\n",
       "  </thead>\n",
       "  <tbody>\n",
       "    <tr>\n",
       "      <th>444348</th>\n",
       "      <td>01:43:20</td>\n",
       "      <td>01:51:48</td>\n",
       "      <td>509</td>\n",
       "      <td>615</td>\n",
       "      <td>Lombard Ave &amp; Madison St</td>\n",
       "      <td>617</td>\n",
       "      <td>East Ave &amp; Garfield St</td>\n",
       "      <td>1</td>\n",
       "      <td>0</td>\n",
       "      <td>1995</td>\n",
       "      <td>...</td>\n",
       "      <td>-87.788938</td>\n",
       "      <td>0</td>\n",
       "      <td>2</td>\n",
       "      <td>0</td>\n",
       "      <td>2</td>\n",
       "      <td>0</td>\n",
       "      <td>2016-09-11</td>\n",
       "      <td>2016-09-11</td>\n",
       "      <td>15</td>\n",
       "      <td>19</td>\n",
       "    </tr>\n",
       "    <tr>\n",
       "      <th>562304</th>\n",
       "      <td>02:33:08</td>\n",
       "      <td>02:40:06</td>\n",
       "      <td>418</td>\n",
       "      <td>615</td>\n",
       "      <td>Lombard Ave &amp; Madison St</td>\n",
       "      <td>618</td>\n",
       "      <td>Lombard Ave &amp; Garfield St</td>\n",
       "      <td>1</td>\n",
       "      <td>1</td>\n",
       "      <td>1992</td>\n",
       "      <td>...</td>\n",
       "      <td>-87.778797</td>\n",
       "      <td>0</td>\n",
       "      <td>2</td>\n",
       "      <td>0</td>\n",
       "      <td>2</td>\n",
       "      <td>0</td>\n",
       "      <td>2016-09-03</td>\n",
       "      <td>2016-09-03</td>\n",
       "      <td>15</td>\n",
       "      <td>19</td>\n",
       "    </tr>\n",
       "    <tr>\n",
       "      <th>582787</th>\n",
       "      <td>02:45:44</td>\n",
       "      <td>02:59:03</td>\n",
       "      <td>799</td>\n",
       "      <td>615</td>\n",
       "      <td>Lombard Ave &amp; Madison St</td>\n",
       "      <td>609</td>\n",
       "      <td>Forest Ave &amp; Lake St</td>\n",
       "      <td>1</td>\n",
       "      <td>0</td>\n",
       "      <td>1990</td>\n",
       "      <td>...</td>\n",
       "      <td>-87.800255</td>\n",
       "      <td>0</td>\n",
       "      <td>2</td>\n",
       "      <td>0</td>\n",
       "      <td>2</td>\n",
       "      <td>0</td>\n",
       "      <td>2016-11-19</td>\n",
       "      <td>2016-11-19</td>\n",
       "      <td>15</td>\n",
       "      <td>15</td>\n",
       "    </tr>\n",
       "    <tr>\n",
       "      <th>963132</th>\n",
       "      <td>05:55:45</td>\n",
       "      <td>06:14:30</td>\n",
       "      <td>1125</td>\n",
       "      <td>615</td>\n",
       "      <td>Lombard Ave &amp; Madison St</td>\n",
       "      <td>608</td>\n",
       "      <td>Humphrey Ave &amp; Ontario St</td>\n",
       "      <td>0</td>\n",
       "      <td>-1</td>\n",
       "      <td>0</td>\n",
       "      <td>...</td>\n",
       "      <td>-87.776842</td>\n",
       "      <td>0</td>\n",
       "      <td>2</td>\n",
       "      <td>0</td>\n",
       "      <td>2</td>\n",
       "      <td>0</td>\n",
       "      <td>2016-08-13</td>\n",
       "      <td>2016-08-13</td>\n",
       "      <td>15</td>\n",
       "      <td>11</td>\n",
       "    </tr>\n",
       "    <tr>\n",
       "      <th>1441109</th>\n",
       "      <td>06:40:00</td>\n",
       "      <td>06:45:00</td>\n",
       "      <td>300</td>\n",
       "      <td>615</td>\n",
       "      <td>Lombard Ave &amp; Madison St</td>\n",
       "      <td>618</td>\n",
       "      <td>Lombard Ave &amp; Garfield St</td>\n",
       "      <td>0</td>\n",
       "      <td>-1</td>\n",
       "      <td>0</td>\n",
       "      <td>...</td>\n",
       "      <td>-87.778797</td>\n",
       "      <td>0</td>\n",
       "      <td>2</td>\n",
       "      <td>0</td>\n",
       "      <td>2</td>\n",
       "      <td>0</td>\n",
       "      <td>2017-01-07</td>\n",
       "      <td>2017-01-07</td>\n",
       "      <td>15</td>\n",
       "      <td>19</td>\n",
       "    </tr>\n",
       "    <tr>\n",
       "      <th>...</th>\n",
       "      <td>...</td>\n",
       "      <td>...</td>\n",
       "      <td>...</td>\n",
       "      <td>...</td>\n",
       "      <td>...</td>\n",
       "      <td>...</td>\n",
       "      <td>...</td>\n",
       "      <td>...</td>\n",
       "      <td>...</td>\n",
       "      <td>...</td>\n",
       "      <td>...</td>\n",
       "      <td>...</td>\n",
       "      <td>...</td>\n",
       "      <td>...</td>\n",
       "      <td>...</td>\n",
       "      <td>...</td>\n",
       "      <td>...</td>\n",
       "      <td>...</td>\n",
       "      <td>...</td>\n",
       "      <td>...</td>\n",
       "      <td>...</td>\n",
       "    </tr>\n",
       "    <tr>\n",
       "      <th>31946062</th>\n",
       "      <td>22:01:23</td>\n",
       "      <td>22:02:49</td>\n",
       "      <td>87</td>\n",
       "      <td>615</td>\n",
       "      <td>Lombard Ave &amp; Madison St</td>\n",
       "      <td>615</td>\n",
       "      <td>Lombard Ave &amp; Madison St</td>\n",
       "      <td>0</td>\n",
       "      <td>-1</td>\n",
       "      <td>0</td>\n",
       "      <td>...</td>\n",
       "      <td>-87.779425</td>\n",
       "      <td>0</td>\n",
       "      <td>2</td>\n",
       "      <td>0</td>\n",
       "      <td>2</td>\n",
       "      <td>0</td>\n",
       "      <td>2016-07-16</td>\n",
       "      <td>2016-07-16</td>\n",
       "      <td>15</td>\n",
       "      <td>15</td>\n",
       "    </tr>\n",
       "    <tr>\n",
       "      <th>32115658</th>\n",
       "      <td>22:13:34</td>\n",
       "      <td>22:33:06</td>\n",
       "      <td>1172</td>\n",
       "      <td>615</td>\n",
       "      <td>Lombard Ave &amp; Madison St</td>\n",
       "      <td>610</td>\n",
       "      <td>Marion St &amp; South Blvd</td>\n",
       "      <td>0</td>\n",
       "      <td>-1</td>\n",
       "      <td>0</td>\n",
       "      <td>...</td>\n",
       "      <td>-87.802870</td>\n",
       "      <td>0</td>\n",
       "      <td>2</td>\n",
       "      <td>0</td>\n",
       "      <td>2</td>\n",
       "      <td>0</td>\n",
       "      <td>2016-07-16</td>\n",
       "      <td>2016-07-16</td>\n",
       "      <td>15</td>\n",
       "      <td>19</td>\n",
       "    </tr>\n",
       "    <tr>\n",
       "      <th>32116200</th>\n",
       "      <td>22:13:37</td>\n",
       "      <td>22:32:54</td>\n",
       "      <td>1158</td>\n",
       "      <td>615</td>\n",
       "      <td>Lombard Ave &amp; Madison St</td>\n",
       "      <td>610</td>\n",
       "      <td>Marion St &amp; South Blvd</td>\n",
       "      <td>0</td>\n",
       "      <td>-1</td>\n",
       "      <td>0</td>\n",
       "      <td>...</td>\n",
       "      <td>-87.802870</td>\n",
       "      <td>0</td>\n",
       "      <td>2</td>\n",
       "      <td>0</td>\n",
       "      <td>2</td>\n",
       "      <td>0</td>\n",
       "      <td>2016-07-16</td>\n",
       "      <td>2016-07-16</td>\n",
       "      <td>15</td>\n",
       "      <td>19</td>\n",
       "    </tr>\n",
       "    <tr>\n",
       "      <th>32297343</th>\n",
       "      <td>22:27:36</td>\n",
       "      <td>22:46:09</td>\n",
       "      <td>1113</td>\n",
       "      <td>615</td>\n",
       "      <td>Lombard Ave &amp; Madison St</td>\n",
       "      <td>615</td>\n",
       "      <td>Lombard Ave &amp; Madison St</td>\n",
       "      <td>1</td>\n",
       "      <td>0</td>\n",
       "      <td>1973</td>\n",
       "      <td>...</td>\n",
       "      <td>-87.779425</td>\n",
       "      <td>0</td>\n",
       "      <td>2</td>\n",
       "      <td>0</td>\n",
       "      <td>2</td>\n",
       "      <td>0</td>\n",
       "      <td>2016-10-12</td>\n",
       "      <td>2016-10-12</td>\n",
       "      <td>15</td>\n",
       "      <td>15</td>\n",
       "    </tr>\n",
       "    <tr>\n",
       "      <th>32469572</th>\n",
       "      <td>22:42:00</td>\n",
       "      <td>22:44:46</td>\n",
       "      <td>166</td>\n",
       "      <td>615</td>\n",
       "      <td>Lombard Ave &amp; Madison St</td>\n",
       "      <td>615</td>\n",
       "      <td>Lombard Ave &amp; Madison St</td>\n",
       "      <td>0</td>\n",
       "      <td>-1</td>\n",
       "      <td>0</td>\n",
       "      <td>...</td>\n",
       "      <td>-87.779425</td>\n",
       "      <td>0</td>\n",
       "      <td>2</td>\n",
       "      <td>0</td>\n",
       "      <td>2</td>\n",
       "      <td>0</td>\n",
       "      <td>2016-08-14</td>\n",
       "      <td>2016-08-14</td>\n",
       "      <td>15</td>\n",
       "      <td>15</td>\n",
       "    </tr>\n",
       "  </tbody>\n",
       "</table>\n",
       "<p>465 rows × 23 columns</p>\n",
       "</div>"
      ],
      "text/plain": [
       "         start_time  end_time  tripduration start_station_id  \\\n",
       "444348     01:43:20  01:51:48           509              615   \n",
       "562304     02:33:08  02:40:06           418              615   \n",
       "582787     02:45:44  02:59:03           799              615   \n",
       "963132     05:55:45  06:14:30          1125              615   \n",
       "1441109    06:40:00  06:45:00           300              615   \n",
       "...             ...       ...           ...              ...   \n",
       "31946062   22:01:23  22:02:49            87              615   \n",
       "32115658   22:13:34  22:33:06          1172              615   \n",
       "32116200   22:13:37  22:32:54          1158              615   \n",
       "32297343   22:27:36  22:46:09          1113              615   \n",
       "32469572   22:42:00  22:44:46           166              615   \n",
       "\n",
       "                start_station_name end_station_id           end_station_name  \\\n",
       "444348    Lombard Ave & Madison St            617     East Ave & Garfield St   \n",
       "562304    Lombard Ave & Madison St            618  Lombard Ave & Garfield St   \n",
       "582787    Lombard Ave & Madison St            609       Forest Ave & Lake St   \n",
       "963132    Lombard Ave & Madison St            608  Humphrey Ave & Ontario St   \n",
       "1441109   Lombard Ave & Madison St            618  Lombard Ave & Garfield St   \n",
       "...                            ...            ...                        ...   \n",
       "31946062  Lombard Ave & Madison St            615   Lombard Ave & Madison St   \n",
       "32115658  Lombard Ave & Madison St            610     Marion St & South Blvd   \n",
       "32116200  Lombard Ave & Madison St            610     Marion St & South Blvd   \n",
       "32297343  Lombard Ave & Madison St            615   Lombard Ave & Madison St   \n",
       "32469572  Lombard Ave & Madison St            615   Lombard Ave & Madison St   \n",
       "\n",
       "          usertype  gender  birthyear  ...    end_lng  rideable_type  \\\n",
       "444348           1       0       1995  ... -87.788938              0   \n",
       "562304           1       1       1992  ... -87.778797              0   \n",
       "582787           1       0       1990  ... -87.800255              0   \n",
       "963132           0      -1          0  ... -87.776842              0   \n",
       "1441109          0      -1          0  ... -87.778797              0   \n",
       "...            ...     ...        ...  ...        ...            ...   \n",
       "31946062         0      -1          0  ... -87.779425              0   \n",
       "32115658         0      -1          0  ... -87.802870              0   \n",
       "32116200         0      -1          0  ... -87.802870              0   \n",
       "32297343         1       0       1973  ... -87.779425              0   \n",
       "32469572         0      -1          0  ... -87.779425              0   \n",
       "\n",
       "          start_city  start_landmark  end_city  end_landmark  start_date  \\\n",
       "444348             2               0         2             0  2016-09-11   \n",
       "562304             2               0         2             0  2016-09-03   \n",
       "582787             2               0         2             0  2016-11-19   \n",
       "963132             2               0         2             0  2016-08-13   \n",
       "1441109            2               0         2             0  2017-01-07   \n",
       "...              ...             ...       ...           ...         ...   \n",
       "31946062           2               0         2             0  2016-07-16   \n",
       "32115658           2               0         2             0  2016-07-16   \n",
       "32116200           2               0         2             0  2016-07-16   \n",
       "32297343           2               0         2             0  2016-10-12   \n",
       "32469572           2               0         2             0  2016-08-14   \n",
       "\n",
       "            end_date  start_dpcapacity end_dpcapacity  \n",
       "444348    2016-09-11                15             19  \n",
       "562304    2016-09-03                15             19  \n",
       "582787    2016-11-19                15             15  \n",
       "963132    2016-08-13                15             11  \n",
       "1441109   2017-01-07                15             19  \n",
       "...              ...               ...            ...  \n",
       "31946062  2016-07-16                15             15  \n",
       "32115658  2016-07-16                15             19  \n",
       "32116200  2016-07-16                15             19  \n",
       "32297343  2016-10-12                15             15  \n",
       "32469572  2016-08-14                15             15  \n",
       "\n",
       "[465 rows x 23 columns]"
      ]
     },
     "execution_count": 66,
     "metadata": {},
     "output_type": "execute_result"
    }
   ],
   "source": [
    "# check Lombard Ave & Madison St\n",
    "merged2013_2022[merged2013_2022['start_station_name'] == 'Lombard Ave & Madison St']"
   ]
  },
  {
   "cell_type": "code",
   "execution_count": 67,
   "id": "a787e070",
   "metadata": {},
   "outputs": [],
   "source": [
    "# Is in Oak Park\n",
    "fix_city('Lombard Ave & Madison St', 2)"
   ]
  },
  {
   "cell_type": "code",
   "execution_count": 68,
   "id": "32e0854a",
   "metadata": {},
   "outputs": [
    {
     "name": "stdout",
     "output_type": "stream",
     "text": [
      "Lincoln Ave & Roscoe St*\n",
      "Drake Ave & Montrose Ave\n",
      "Public Rack - Walden Pkwy & 99th St\n",
      "Dearborn St & Erie St\n",
      "Kedzie Ave & 48th Pl\n",
      "Ashland Ave & Augusta Blvd\n",
      "Long Ave & North Ave\n",
      "Public Rack - Kildare Ave & 63rd St\n",
      "Public Rack - Melvina Ave & Belmont Ave\n",
      "Morgan St & Lake St*\n"
     ]
    }
   ],
   "source": [
    "for i in range(fix_k[0], fix_k[1]):\n",
    "    print(fix_cities[i])\n",
    "fix_k[0] += 10\n",
    "fix_k[1] += 10"
   ]
  },
  {
   "cell_type": "code",
   "execution_count": 69,
   "id": "33ef1d37",
   "metadata": {},
   "outputs": [
    {
     "name": "stdout",
     "output_type": "stream",
     "text": [
      "State St & Chicago Ave\n",
      "Clark St & Wrightwood Ave\n",
      "DuSable Museum\n",
      "Public Rack - Ada St & 119th St\n",
      "Public Rack - Kenton Ave & Palmer St\n",
      "Public Rack - Kedzie Ave & 64th St - SW\n",
      "Michigan Ave & Lake St\n",
      "California Ave & Lake St\n",
      "University Ave & 57th St\n",
      "Public Rack - 111th St - Morgan Park Metra\n"
     ]
    }
   ],
   "source": [
    "for i in range(fix_k[0], fix_k[1]):\n",
    "    print(fix_cities[i])\n",
    "fix_k[0] += 10\n",
    "fix_k[1] += 10"
   ]
  },
  {
   "cell_type": "code",
   "execution_count": 70,
   "id": "0ff07884",
   "metadata": {},
   "outputs": [
    {
     "name": "stdout",
     "output_type": "stream",
     "text": [
      "Fairfield Ave & Roosevelt Rd\n",
      "Public Rack - Ave L & 105th St\n",
      "Clark St & Montrose Ave\n",
      "Clark St & Randolph St\n",
      "Millard Ave & 26th St\n",
      "Michigan Ave & Pearson St\n",
      "Rockwell St & 57th St\n",
      "Public Rack - Penn Elementary School / KIPP Ascend Middle School\n",
      "Public Rack - Maryland Ave & 87th ST\n",
      "Public Rack - Michigan Ave & 107th St\n"
     ]
    }
   ],
   "source": [
    "for i in range(fix_k[0], fix_k[1]):\n",
    "    print(fix_cities[i])\n",
    "fix_k[0] += 10\n",
    "fix_k[1] += 10"
   ]
  },
  {
   "cell_type": "code",
   "execution_count": 71,
   "id": "1ea83124",
   "metadata": {},
   "outputs": [
    {
     "name": "stdout",
     "output_type": "stream",
     "text": [
      "Michigan Ave & 71st St\n",
      "Cottage Grove Ave & 78th St\n",
      "Long Ave & Belmont Ave\n",
      "Public Rack - Ewing Ave & 96th St N\n",
      "Damen Ave & Madison St\n",
      "Southport Ave & Wellington Ave\n",
      "Public Rack - Kolin Ave & Archer Ave\n",
      "Carpenter St & Huron St\n",
      "Laflin St & Cullerton St\n",
      "Sedgwick St & Huron St\n"
     ]
    }
   ],
   "source": [
    "for i in range(fix_k[0], fix_k[1]):\n",
    "    print(fix_cities[i])\n",
    "fix_k[0] += 10\n",
    "fix_k[1] += 10"
   ]
  },
  {
   "cell_type": "code",
   "execution_count": 72,
   "id": "0bffa585",
   "metadata": {},
   "outputs": [
    {
     "name": "stdout",
     "output_type": "stream",
     "text": [
      "Public Rack - Christiana Ave & 55th St\n",
      "Hoyne Ave & 34th St\n",
      "Milwaukee Ave & Grand Ave\n",
      "Broadway & Cornelia Ave\n",
      "Public Rack - Milwaukee Ave & School St\n",
      "Public Rack - Marquette Ave & 79th St\n",
      "California Ave & Fletcher St\n",
      "Western Ave & Gunnison St\n",
      "Elmwood Ave & Austin St\n",
      "Broadway & Wilson - Truman College\n"
     ]
    }
   ],
   "source": [
    "for i in range(fix_k[0], fix_k[1]):\n",
    "    print(fix_cities[i])\n",
    "fix_k[0] += 10\n",
    "fix_k[1] += 10"
   ]
  },
  {
   "cell_type": "code",
   "execution_count": 73,
   "id": "626b31c7",
   "metadata": {},
   "outputs": [
    {
     "name": "stdout",
     "output_type": "stream",
     "text": [
      "Dearborn Pkwy & Delaware Pl\n",
      "Seeley Ave & Garfield Blvd\n",
      "Wabash Ave & 16th St\n",
      "Larrabee St & Oak St\n",
      "Public Rack - Ewing Ave & Indianapolis Ave\n",
      "Leavitt St & Belmont Ave\n",
      "Public Rack - Halsted St & 95th St - SW\n",
      "Whipple/Irving Park\n",
      "Public Rack - Lawndale Ave & Diversey Ave\n",
      "Public Rack - Ewing Ave & 99th St\n"
     ]
    }
   ],
   "source": [
    "for i in range(fix_k[0], fix_k[1]):\n",
    "    print(fix_cities[i])\n",
    "fix_k[0] += 10\n",
    "fix_k[1] += 10"
   ]
  },
  {
   "cell_type": "code",
   "execution_count": 74,
   "id": "657651e6",
   "metadata": {
    "scrolled": true
   },
   "outputs": [
    {
     "name": "stdout",
     "output_type": "stream",
     "text": [
      "Clark St & Elmdale Ave\n",
      "Public Rack - Lawndale Ave & 23rd St\n",
      "Kedzie Ave & Bryn Mawr Ave\n",
      "Sedgwick St & Schiller St\n",
      "Public Rack - Ashland Ave & 83rd St\n",
      "Canal St & Monroe St\n",
      "Public Rack - Green St & 103rd St\n",
      "Wentworth Ave & 104th St\n",
      "Doty Ave & 111th St\n",
      "Ravenswood Ave & Montrose Ave\n"
     ]
    }
   ],
   "source": [
    "for i in range(fix_k[0], fix_k[1]):\n",
    "    print(fix_cities[i])\n",
    "fix_k[0] += 10\n",
    "fix_k[1] += 10"
   ]
  },
  {
   "cell_type": "code",
   "execution_count": 75,
   "id": "9491cb71",
   "metadata": {},
   "outputs": [],
   "source": [
    "fix_city('Lincolnwood Dr & Central St', 1)"
   ]
  },
  {
   "cell_type": "code",
   "execution_count": 76,
   "id": "d2d64ba4",
   "metadata": {},
   "outputs": [
    {
     "name": "stdout",
     "output_type": "stream",
     "text": [
      "Walden Pkwy & 100th St\n",
      "Public Rack - Crandon Ave & 80th St\n",
      "Seeley Ave & Roscoe St\n",
      "Public Rack - Racine Ave & 109th Pl\n",
      "Calumet Ave & 18th St\n",
      "Mason Ave & Belmont Ave\n",
      "Public Rack - Kedzie Ave & 54th Pl\n",
      "Kilbourn & Belden\n",
      "Halsted St & 78th St\n",
      "The Montessori School of Englewood\n"
     ]
    }
   ],
   "source": [
    "for i in range(fix_k[0], fix_k[1]):\n",
    "    print(fix_cities[i])\n",
    "fix_k[0] += 10\n",
    "fix_k[1] += 10"
   ]
  },
  {
   "cell_type": "code",
   "execution_count": 77,
   "id": "94acbc39",
   "metadata": {},
   "outputs": [
    {
     "name": "stdout",
     "output_type": "stream",
     "text": [
      "DuSable Lake Shore Dr & Belmont Ave\n",
      "Public Rack - 83rd St (Avalon Park) Metra\n",
      "Public Rack - Hamilton Park\n",
      "St. Louis Ave & Fullerton Ave\n",
      "W 103rd St & S Avers Ave\n",
      "Public Rack - Wentworth Ave & 103rd St\n",
      "Kostner Ave & Adams St\n",
      "Wabash Ave & Cermak Rd\n",
      "Public Rack - Pulaski & 52nd\n",
      "Woodlawn Ave & 55th St\n"
     ]
    }
   ],
   "source": [
    "for i in range(fix_k[0], fix_k[1]):\n",
    "    print(fix_cities[i])\n",
    "fix_k[0] += 10\n",
    "fix_k[1] += 10"
   ]
  },
  {
   "cell_type": "code",
   "execution_count": 78,
   "id": "ef7a80fa",
   "metadata": {},
   "outputs": [
    {
     "name": "stdout",
     "output_type": "stream",
     "text": [
      "Leavitt St & Lawrence Ave\n",
      "Public Rack - Kedzie Ave & 54th St - SW\n",
      "Ridgeland Ave & Lake St\n",
      "Green St & Madison Ave*\n",
      "Nordica & Medill\n",
      "Ashland Ave & Archer Ave\n",
      "Clybourn Ave & Division St\n",
      "Millennium Park\n",
      "Summit Ave & 86th St\n",
      "Blackstone Ave & Hyde Park Blvd\n"
     ]
    }
   ],
   "source": [
    "for i in range(fix_k[0], fix_k[1]):\n",
    "    print(fix_cities[i])\n",
    "fix_k[0] += 10\n",
    "fix_k[1] += 10"
   ]
  },
  {
   "cell_type": "code",
   "execution_count": 79,
   "id": "cbbcb164",
   "metadata": {
    "scrolled": true
   },
   "outputs": [
    {
     "name": "stdout",
     "output_type": "stream",
     "text": [
      "Public Rack - Menard Ave & Agusta Blvd\n",
      "Western Ave & Monroe St\n",
      "Cottage Grove Ave & 67th St\n",
      "S Wentworth Ave & W 111th St\n",
      "Campbell Ave & North Ave\n",
      "Public Rack - Talman Ave & 51st St\n",
      "Racine Ave & 61st St\n",
      "Public Rack - Pulaski Rd & 15th St\n",
      "Dearborn St & Monroe St\n",
      "Public Rack - Keeler Ave & 55th St\n"
     ]
    }
   ],
   "source": [
    "for i in range(fix_k[0], fix_k[1]):\n",
    "    print(fix_cities[i])\n",
    "fix_k[0] += 10\n",
    "fix_k[1] += 10"
   ]
  },
  {
   "cell_type": "code",
   "execution_count": 80,
   "id": "c888715e",
   "metadata": {},
   "outputs": [],
   "source": [
    "fix_city('Public Rack - Harvey Ave & North Ave', 2)\n",
    "fix_city('Chicago Ave & Sheridan Rd', 1)"
   ]
  },
  {
   "cell_type": "code",
   "execution_count": 81,
   "id": "0dc760eb",
   "metadata": {},
   "outputs": [
    {
     "name": "stdout",
     "output_type": "stream",
     "text": [
      "Public Rack - Colfax Ave & 83rd St\n",
      "Sheffield Ave & Webster Ave\n",
      "Normal Ave & Archer Ave\n",
      "Pulaski Rd & Congress Pkwy\n",
      "Western Ave & 111th St\n",
      "Wallace St & 112 St\n",
      "Ashland Ave & Wellington Ave\n",
      "Public Rack - Western Ave & 79th St\n",
      "Sangamon St & Lake St\n",
      "Public Rack - Yates Ave & 100th St\n"
     ]
    }
   ],
   "source": [
    "for i in range(fix_k[0], fix_k[1]):\n",
    "    print(fix_cities[i])\n",
    "fix_k[0] += 10\n",
    "fix_k[1] += 10"
   ]
  },
  {
   "cell_type": "code",
   "execution_count": 82,
   "id": "95355ddb",
   "metadata": {},
   "outputs": [
    {
     "name": "stdout",
     "output_type": "stream",
     "text": [
      "Public Rack - Talman Ave & Pershing Rd\n",
      "Public Rack - Union Ave & 111th St\n",
      "Halsted St & 56th St\n",
      "Public Rack - Torrence Ave & 98th St\n",
      "DuSable Lake Shore Dr & Monroe St\n",
      "Ashland Ave & 13th St\n",
      "Ashland Ave & Grace St\n",
      "Broadway & Barry Ave\n",
      "Lincoln Ave & Fullerton Ave\n",
      "Mulligan Ave & Wellington Ave\n"
     ]
    }
   ],
   "source": [
    "for i in range(fix_k[0], fix_k[1]):\n",
    "    print(fix_cities[i])\n",
    "fix_k[0] += 10\n",
    "fix_k[1] += 10"
   ]
  },
  {
   "cell_type": "code",
   "execution_count": 83,
   "id": "f83597c0",
   "metadata": {},
   "outputs": [
    {
     "name": "stdout",
     "output_type": "stream",
     "text": [
      "Financial Pl & Congress Pkwy\n",
      "Public Rack - Austin Ave & Wrightwood Ave\n",
      "Cottage Grove Ave & 51st St\n",
      "Public Rack - Cicero Ave & Altgeld St\n",
      "Pulaski & Ann Lurie Pl\n",
      "Elston Ave & Henderson St\n",
      "DuSable Lake Shore Dr & Ohio St\n",
      "Chicago Ave & Dempster St\n",
      "Morgan St & Polk St\n",
      "Jefferson St & Monroe St\n"
     ]
    }
   ],
   "source": [
    "for i in range(fix_k[0], fix_k[1]):\n",
    "    print(fix_cities[i])\n",
    "fix_k[0] += 10\n",
    "fix_k[1] += 10"
   ]
  },
  {
   "cell_type": "code",
   "execution_count": 84,
   "id": "c3f89b2b",
   "metadata": {},
   "outputs": [
    {
     "name": "stdout",
     "output_type": "stream",
     "text": [
      "Public Rack - Orville T Bright School\n",
      "Tripp Ave & 31st St\n",
      "Marquette Ave & 83rd St\n",
      "Public Rack - Western Ave & 116th St\n",
      "Lincoln Ave & Sunnyside Ave\n",
      "Lavergne Ave & Division St\n",
      "Troy St & Elston Ave\n",
      "Western Ave & 104th St\n",
      "Fairbanks Ct & Grand Ave\n",
      "Kedzie Ave & Roosevelt Rd\n"
     ]
    }
   ],
   "source": [
    "for i in range(fix_k[0], fix_k[1]):\n",
    "    print(fix_cities[i])\n",
    "fix_k[0] += 10\n",
    "fix_k[1] += 10"
   ]
  },
  {
   "cell_type": "code",
   "execution_count": 85,
   "id": "a68f229d",
   "metadata": {
    "scrolled": true
   },
   "outputs": [
    {
     "name": "stdout",
     "output_type": "stream",
     "text": [
      "Public Rack - Menard Ave & Madison St\n",
      "Public Rack - Nordica Ave & Addison St\n",
      "Public Rack - Keeler Ave & 26th St\n",
      "Trumbull Ave & 111th St\n",
      "Halsted St & 76th St\n",
      "Blue Island Ave & 18th St\n",
      "Public Rack - Narragansett Ave & Fullerton Ave\n",
      "Wabash Ave & 9th St\n",
      "Damen Ave & 59th St\n",
      "Public Rack - Lockwood Ave & Diversey Ave\n"
     ]
    }
   ],
   "source": [
    "for i in range(fix_k[0], fix_k[1]):\n",
    "    print(fix_cities[i])\n",
    "fix_k[0] += 10\n",
    "fix_k[1] += 10"
   ]
  },
  {
   "cell_type": "code",
   "execution_count": 86,
   "id": "dcd53607",
   "metadata": {},
   "outputs": [],
   "source": [
    "fix_city('Marion St & South Blvd', 2)"
   ]
  },
  {
   "cell_type": "code",
   "execution_count": 87,
   "id": "046ea3f1",
   "metadata": {},
   "outputs": [
    {
     "name": "stdout",
     "output_type": "stream",
     "text": [
      "Public Rack - King Dr & Oakwood Blvd\n",
      "Sheridan Rd & Montrose Ave\n",
      "Public Rack - Central Ave & George St\n",
      "Public Rack - Prairie Ave & Garfield Blvd\n",
      "Public Rack - Baltimore Ave & 133rd St\n",
      "Francisco Ave & Bloomingdale Ave\n",
      "Forest Ave & Lake St\n",
      "Rockwell St & Archer Ave\n",
      "Narragansett & Wrightwood\n",
      "Public Rack - Peterson Ave & Drake Ave\n"
     ]
    }
   ],
   "source": [
    "for i in range(fix_k[0], fix_k[1]):\n",
    "    print(fix_cities[i])\n",
    "fix_k[0] += 10\n",
    "fix_k[1] += 10"
   ]
  },
  {
   "cell_type": "code",
   "execution_count": 88,
   "id": "1a3ad4c1",
   "metadata": {},
   "outputs": [
    {
     "name": "stdout",
     "output_type": "stream",
     "text": [
      "Elizabeth St & 59th St\n",
      "Public Rack - Western Ave & 47th Pl\n",
      "Greenwood Ave & 97th St\n",
      "Public Rack - Plainfield & Irving Park\n",
      "Canal St & Madison St\n",
      "Noble St & Milwaukee Ave\n",
      "Public Rack - Evans Ave & 63rd St\n",
      "Public Rack - West Chatham Park\n",
      "Halsted St & Willow St\n",
      "Public Rack - May St & 63rd St\n"
     ]
    }
   ],
   "source": [
    "for i in range(fix_k[0], fix_k[1]):\n",
    "    print(fix_cities[i])\n",
    "fix_k[0] += 10\n",
    "fix_k[1] += 10"
   ]
  },
  {
   "cell_type": "code",
   "execution_count": 89,
   "id": "9151d0f6",
   "metadata": {},
   "outputs": [
    {
     "name": "stdout",
     "output_type": "stream",
     "text": [
      "Peoria St & Jackson Blvd\n",
      "Cherry Ave & Blackhawk St\n",
      "Public Rack - Lafayette Ave & 119th St\n",
      "MLK Jr Dr & 29th St\n",
      "Public Rack - Cottage Grove Ave & 91st St\n",
      "Eggleston Ave & 69th St\n",
      "Stewart Ave & 63rd St\n",
      "Public Rack - Cottage Grove Ave & 89th Pl\n",
      "Budlong Woods Library\n",
      "State St & 95th St\n"
     ]
    }
   ],
   "source": [
    "for i in range(fix_k[0], fix_k[1]):\n",
    "    print(fix_cities[i])\n",
    "fix_k[0] += 10\n",
    "fix_k[1] += 10"
   ]
  },
  {
   "cell_type": "code",
   "execution_count": 90,
   "id": "1c3ec623",
   "metadata": {},
   "outputs": [],
   "source": [
    "fix_city('Wisconsin Ave & Madison St', 2)\n",
    "fix_city('Oak Park Ave & South Blvd', 2)"
   ]
  },
  {
   "cell_type": "code",
   "execution_count": 91,
   "id": "1a4ce9f1",
   "metadata": {},
   "outputs": [
    {
     "name": "stdout",
     "output_type": "stream",
     "text": [
      "Leavitt St & Armitage Ave\n",
      "Public Rack - Sawyer Ave & Chicago Ave\n",
      "Humboldt Dr & Luis Munoz Marin Dr\n",
      "Public Rack - Christiana Ave & Belmont Ave\n",
      "Rhodes Ave & 79th St\n",
      "Kostner Ave & 63rd St\n",
      "Public Rack - Champlain Ave & 134th St\n",
      "Avondale Ave & Irving Park Rd\n",
      "Cannon Dr & Fullerton Ave\n",
      "Emerald Ave & 31st St\n"
     ]
    }
   ],
   "source": [
    "for i in range(fix_k[0], fix_k[1]):\n",
    "    print(fix_cities[i])\n",
    "fix_k[0] += 10\n",
    "fix_k[1] += 10"
   ]
  },
  {
   "cell_type": "code",
   "execution_count": 92,
   "id": "dbf77170",
   "metadata": {},
   "outputs": [
    {
     "name": "stdout",
     "output_type": "stream",
     "text": [
      "Halsted St & 37th St\n",
      "Shore Dr & 55th St\n",
      "Public Rack - California Ave & Touhy Ave - NW\n",
      "Michigan Ave & 18th St\n",
      "Newcastle Ave & Belden Ave\n",
      "Halsted St & 35th St\n",
      "N Paulina St & Lincoln Ave\n",
      "Public Rack - Washtenaw Ave & Superior St\n",
      "Troy St & Jackson Blvd\n",
      "Kingsbury St & Erie St\n"
     ]
    }
   ],
   "source": [
    "for i in range(fix_k[0], fix_k[1]):\n",
    "    print(fix_cities[i])\n",
    "fix_k[0] += 10\n",
    "fix_k[1] += 10"
   ]
  },
  {
   "cell_type": "code",
   "execution_count": 93,
   "id": "69e55adf",
   "metadata": {
    "scrolled": true
   },
   "outputs": [
    {
     "name": "stdout",
     "output_type": "stream",
     "text": [
      "Public Rack - Pulaski Rd & Roosevelt Rd\n",
      "Wood St & Hubbard St\n",
      "Sheridan Rd & Columbia Ave\n",
      "Kenneth Ave & 50th St\n",
      "Avenue L & 114th St\n",
      "Damen Ave & Foster Ave\n",
      "Glenwood Ave & Morse Ave\n",
      "Ashland Ave & 50th St\n",
      "Public Rack - Lawndale Ave & 63rd St\n",
      "Public Rack - Milwaukee Ave & Haussen Ct\n"
     ]
    }
   ],
   "source": [
    "for i in range(fix_k[0], fix_k[1]):\n",
    "    print(fix_cities[i])\n",
    "fix_k[0] += 10\n",
    "fix_k[1] += 10"
   ]
  },
  {
   "cell_type": "code",
   "execution_count": 94,
   "id": "2b990213",
   "metadata": {
    "scrolled": true
   },
   "outputs": [
    {
     "data": {
      "text/plain": [
       "[510, 520]"
      ]
     },
     "execution_count": 94,
     "metadata": {},
     "output_type": "execute_result"
    }
   ],
   "source": [
    "fix_k"
   ]
  },
  {
   "cell_type": "code",
   "execution_count": 95,
   "id": "0d91c3a8",
   "metadata": {},
   "outputs": [
    {
     "name": "stdout",
     "output_type": "stream",
     "text": [
      "Public Rack - Harvey Ave & North Ave\n",
      "Public Rack - Loomis St & 87th St\n",
      "Stockton Dr & Wrightwood Ave\n",
      "Clark St & Berwyn Ave\n",
      "Public Rack - State St & 47th st\n",
      "Lavergne & Fullerton\n",
      "Public Rack - Kedzie Ave & Arthington St\n",
      "Clark St & 9th St (AMLI)\n",
      "Public Rack - Lamon Ave & Erie St\n",
      "Elston Ave & Cortland St\n"
     ]
    }
   ],
   "source": [
    "for i in range(fix_k[0], fix_k[1]):\n",
    "    print(fix_cities[i])\n",
    "fix_k[0] += 10\n",
    "fix_k[1] += 10"
   ]
  },
  {
   "cell_type": "code",
   "execution_count": 96,
   "id": "4e42d112",
   "metadata": {
    "scrolled": true
   },
   "outputs": [
    {
     "name": "stdout",
     "output_type": "stream",
     "text": [
      "Oakley Ave & Irving Park Rd\n",
      "Public Rack - Kedzie Ave & 63rd St\n",
      "Mackinaw Ave & 85th St\n",
      "MLK Jr Dr & 83rd St\n",
      "Public Rack - Kedzie Ave & Walnut St\n",
      "Public Rack - Kimbark Ave & 67th St\n",
      "900 W Harrison St\n",
      "Public Rack - Langley Ave & 79th St\n",
      "W Washington Blvd & N Peoria St\n",
      "Clark St & Armitage Ave\n"
     ]
    }
   ],
   "source": [
    "for i in range(fix_k[0], fix_k[1]):\n",
    "    print(fix_cities[i])\n",
    "fix_k[0] += 10\n",
    "fix_k[1] += 10"
   ]
  },
  {
   "cell_type": "code",
   "execution_count": 97,
   "id": "58777d0e",
   "metadata": {},
   "outputs": [],
   "source": [
    "fix_city('Humphrey Ave & Ontario St', 2)"
   ]
  },
  {
   "cell_type": "code",
   "execution_count": 98,
   "id": "2202a3ce",
   "metadata": {},
   "outputs": [
    {
     "name": "stdout",
     "output_type": "stream",
     "text": [
      "Western Ave & Lunt Ave\n",
      "Public Rack - N Narragansett Ave & Grand Ave\n",
      "Broadway & Ridge Ave\n",
      "Wells St & Concord Ln\n",
      "Public Rack - Paxton Ave & 79th St\n",
      "Halsted St & 51st St\n",
      "Leavitt St & Division St\n",
      "Public Rack - Bell Ave & 95th St\n",
      "Sheridan Rd & Buena Ave\n",
      "Wallace St & 35th St\n"
     ]
    }
   ],
   "source": [
    "for i in range(fix_k[0], fix_k[1]):\n",
    "    print(fix_cities[i])\n",
    "fix_k[0] += 10\n",
    "fix_k[1] += 10"
   ]
  },
  {
   "cell_type": "code",
   "execution_count": 99,
   "id": "1904be62",
   "metadata": {
    "scrolled": true
   },
   "outputs": [
    {
     "name": "stdout",
     "output_type": "stream",
     "text": [
      "Public Rack - Kedzie Ave & Archer Ave\n",
      "Public Rack - Parnell Ave & 119th St\n",
      "Public Rack - California Ave & Ogden Ave\n",
      "Public Rack - Christiana Ave & Archer Ave\n",
      "Langley Ave & 105th Pl\n",
      "Kedzie Ave & 110th St\n",
      "Public Rack - Wolcott Ave & 61st St\n",
      "Public Rack - Campbell Ave & Pratt Blvd\n",
      "Sheffield Ave & Wrightwood Ave\n",
      "Phillips Ave & 83rd St\n"
     ]
    }
   ],
   "source": [
    "for i in range(fix_k[0], fix_k[1]):\n",
    "    print(fix_cities[i])\n",
    "fix_k[0] += 10\n",
    "fix_k[1] += 10"
   ]
  },
  {
   "cell_type": "code",
   "execution_count": 100,
   "id": "cfa6f11e",
   "metadata": {},
   "outputs": [],
   "source": [
    "fix_city('Dodge Ave & Mulford St', 1)"
   ]
  },
  {
   "cell_type": "code",
   "execution_count": 101,
   "id": "6c20c170",
   "metadata": {},
   "outputs": [
    {
     "name": "stdout",
     "output_type": "stream",
     "text": [
      "Lawndale Ave & 30th St\n",
      "McClurg Ct & Ohio St\n",
      "Public Rack - Pulaski Rd & 51st Rd\n",
      "Public Rack - Ashland Ave & 71st St\n",
      "Public Rack - 10557 S Western Ave\n",
      "Hoyne Ave & Balmoral Ave\n",
      "Public Rack - Halsted St & 41st St\n",
      "Public Rack - Harper Ave & 63rd St\n",
      "Lake Park Ave & 56th St\n",
      "Public Rack - Milwaukee Ave & Waveland Ave\n"
     ]
    }
   ],
   "source": [
    "for i in range(fix_k[0], fix_k[1]):\n",
    "    print(fix_cities[i])\n",
    "fix_k[0] += 10\n",
    "fix_k[1] += 10"
   ]
  },
  {
   "cell_type": "code",
   "execution_count": 102,
   "id": "6a1d929e",
   "metadata": {},
   "outputs": [],
   "source": [
    "fix_city('Lombard Ave & Garfield St', 2)\n",
    "fix_city('Elmwood Ave & Austin St', 2)"
   ]
  },
  {
   "cell_type": "code",
   "execution_count": 103,
   "id": "b67c05af",
   "metadata": {},
   "outputs": [
    {
     "name": "stdout",
     "output_type": "stream",
     "text": [
      "Western Ave & 111th St - SE\n",
      "Western Ave & Congress Pkwy\n",
      "Tripp Ave & 15th St\n",
      "Public Rack - Newland Ave & Diversey Ave\n",
      "Public Rack - Stewart Ave & 123rd St\n",
      "Damen Ave & Wellington Ave\n",
      "Halsted St & James M Rochford St\n",
      "Bradley Park\n",
      "Pulaski Rd & Eddy St\n",
      "Kedzie Ave & Palmer Ct\n"
     ]
    }
   ],
   "source": [
    "for i in range(fix_k[0], fix_k[1]):\n",
    "    print(fix_cities[i])\n",
    "fix_k[0] += 10\n",
    "fix_k[1] += 10"
   ]
  },
  {
   "cell_type": "code",
   "execution_count": 104,
   "id": "c8912b56",
   "metadata": {},
   "outputs": [
    {
     "name": "stdout",
     "output_type": "stream",
     "text": [
      "Kedzie Ave & Lake St\n",
      "Sheffield Ave & Willow St\n",
      "Homan Ave & 65th St\n",
      "Public Rack - 63rd & Western Ave N\n",
      "Troy St & Grace St\n",
      "LaSalle Dr & Huron St\n",
      "Public Rack - Laramie Ave & Belmont Ave\n",
      "Humboldt Blvd & Armitage Ave\n",
      "MLK Jr Dr & Pershing Rd\n",
      "Damen Ave & 51st St\n"
     ]
    }
   ],
   "source": [
    "for i in range(fix_k[0], fix_k[1]):\n",
    "    print(fix_cities[i])\n",
    "fix_k[0] += 10\n",
    "fix_k[1] += 10"
   ]
  },
  {
   "cell_type": "code",
   "execution_count": 105,
   "id": "5cb54bf8",
   "metadata": {},
   "outputs": [
    {
     "name": "stdout",
     "output_type": "stream",
     "text": [
      "Latrobe Ave & Chicago Ave\n",
      "Wells St & Hubbard St\n",
      "Yates Blvd & 93rd St\n",
      "Pulaski Rd & 60th St\n",
      "Public Rack - Saginaw Ave & 93rd St\n",
      "Washtenaw Ave & Madison St\n",
      "Public Rack - James Madison School\n",
      "Ogden Ave & Roosevelt Rd\n",
      "Public Rack - Washtenaw Ave & Devon Ave\n",
      "Evans Ave & 75th St\n"
     ]
    }
   ],
   "source": [
    "for i in range(fix_k[0], fix_k[1]):\n",
    "    print(fix_cities[i])\n",
    "fix_k[0] += 10\n",
    "fix_k[1] += 10"
   ]
  },
  {
   "cell_type": "code",
   "execution_count": 106,
   "id": "c8b6bb90",
   "metadata": {},
   "outputs": [
    {
     "name": "stdout",
     "output_type": "stream",
     "text": [
      "Green St & Washington Blvd\n",
      "N Green St & W Lake St\n",
      "Sheffield Ave & Fullerton Ave\n",
      "Racine Ave & 13th St\n",
      "Public Rack - Kedzie Ave & 58th St\n",
      "Mozart St & Jackson Blvd\n",
      "Lakefront Trail & Bryn Mawr Ave\n",
      "Cottage Grove Ave & 83rd St\n",
      "Public Rack - Marshfield Ave & 87th St\n",
      "Steelworkers Park\n"
     ]
    }
   ],
   "source": [
    "for i in range(fix_k[0], fix_k[1]):\n",
    "    print(fix_cities[i])\n",
    "fix_k[0] += 10\n",
    "fix_k[1] += 10"
   ]
  },
  {
   "cell_type": "code",
   "execution_count": 107,
   "id": "4882e0e1",
   "metadata": {},
   "outputs": [
    {
     "name": "stdout",
     "output_type": "stream",
     "text": [
      "Public Rack - California Ave & Cortez St\n",
      "Public Rack - Sacramento Ave & Greenleaf Ave\n",
      "Public Rack - Albany Ave & 103rd St\n",
      "Public Rack - South Shore Dr & 71st St\n",
      "Winchester (Ravenswood) Ave & Balmoral Ave\n",
      "Public Rack - Bishop St & 46th St\n",
      "Richmond St & Diversey Ave\n",
      "Public Rack - California Ave & Touhy Ave - SW\n",
      "Public Rack - Christiana Ave & 111th St\n",
      "Public Rack - Ozark Ave & Addison St\n"
     ]
    }
   ],
   "source": [
    "for i in range(fix_k[0], fix_k[1]):\n",
    "    print(fix_cities[i])\n",
    "fix_k[0] += 10\n",
    "fix_k[1] += 10"
   ]
  },
  {
   "cell_type": "code",
   "execution_count": 108,
   "id": "8f6f5c5c",
   "metadata": {},
   "outputs": [],
   "source": [
    "fix_city('Oak Park Ave & Harrison St', 2)"
   ]
  },
  {
   "cell_type": "code",
   "execution_count": 109,
   "id": "04498e13",
   "metadata": {
    "scrolled": true
   },
   "outputs": [
    {
     "name": "stdout",
     "output_type": "stream",
     "text": [
      "Public Rack - Winchester Ave & 87th St\n",
      "Public Rack - State ST & 42nd St\n",
      "Public Rack - Cottage Grove Ave & 87th St\n",
      "Public Rack - Western Ave & 106th St - East\n",
      "Broadway & Granville Ave\n",
      "Major Taylor Trail & 115th St\n",
      "State St & Randolph St\n",
      "Cityfront Plaza Dr & Pioneer Ct\n",
      "Kedzie Ave & Milwaukee Ave\n",
      "Public Rack - Pulaski Rd & 40th St\n"
     ]
    }
   ],
   "source": [
    "for i in range(fix_k[0], fix_k[1]):\n",
    "    print(fix_cities[i])\n",
    "fix_k[0] += 10\n",
    "fix_k[1] += 10"
   ]
  },
  {
   "cell_type": "code",
   "execution_count": 110,
   "id": "eaf7f6ca",
   "metadata": {},
   "outputs": [
    {
     "data": {
      "text/plain": [
       "[620, 630]"
      ]
     },
     "execution_count": 110,
     "metadata": {},
     "output_type": "execute_result"
    }
   ],
   "source": [
    "fix_k"
   ]
  },
  {
   "cell_type": "code",
   "execution_count": 111,
   "id": "33e7ada4",
   "metadata": {
    "scrolled": true
   },
   "outputs": [
    {
     "name": "stdout",
     "output_type": "stream",
     "text": [
      "Clinton St & 18th St\n",
      "Public Rack - Cicero Ave & Le Moyne St\n",
      "Public Rack - Menard Ave & Grand Ave\n",
      "Lawler Ave & 50th St\n",
      "Lamon Ave & Armitage Ave\n",
      "Stewart Ave & 83rd St\n",
      "Green St & Randolph St*\n",
      "Public Rack - Avers Ave & Irving Park Rd\n",
      "Keeler Ave & Madison St\n",
      "Clinton St & Polk St\n"
     ]
    }
   ],
   "source": [
    "for i in range(fix_k[0], fix_k[1]):\n",
    "    print(fix_cities[i])\n",
    "fix_k[0] += 10\n",
    "fix_k[1] += 10"
   ]
  },
  {
   "cell_type": "code",
   "execution_count": 112,
   "id": "64a9ad73",
   "metadata": {
    "scrolled": false
   },
   "outputs": [
    {
     "name": "stdout",
     "output_type": "stream",
     "text": [
      "McCormick Place\n",
      "Halsted St & Archer Ave\n",
      "Wabash Ave & Wacker Pl\n",
      "Canal St & Taylor St\n",
      "Public Rack - Wabash Ave & 87th St\n",
      "Clarendon Ave & Leland Ave\n",
      "Valli Produce - Evanston Plaza\n",
      "Wood St & Milwaukee Ave\n",
      "Leavitt St & Archer Ave\n",
      "Milwaukee Ave & Cuyler Ave\n"
     ]
    }
   ],
   "source": [
    "for i in range(fix_k[0], fix_k[1]):\n",
    "    print(fix_cities[i])\n",
    "fix_k[0] += 10\n",
    "fix_k[1] += 10"
   ]
  },
  {
   "cell_type": "code",
   "execution_count": 113,
   "id": "34d11041",
   "metadata": {
    "scrolled": false
   },
   "outputs": [
    {
     "name": "stdout",
     "output_type": "stream",
     "text": [
      "Public Rack - Central Park Ave & Ogden Ave\n",
      "Southport Ave & Irving Park Rd\n",
      "Paulina St & Howard St\n",
      "LaSalle St & Illinois St\n",
      "Broadway & Belmont Ave\n",
      "Wilton Ave & Diversey Pkwy\n",
      "Sacramento Blvd & Franklin Blvd\n",
      "Kilbourn Ave & Irving Park Rd\n",
      "Public Rack - Canty Elementary School\n",
      "Ellis Ave & 132nd Pl\n"
     ]
    }
   ],
   "source": [
    "for i in range(fix_k[0], fix_k[1]):\n",
    "    print(fix_cities[i])\n",
    "fix_k[0] += 10\n",
    "fix_k[1] += 10"
   ]
  },
  {
   "cell_type": "code",
   "execution_count": 114,
   "id": "b0e3a6ad",
   "metadata": {},
   "outputs": [
    {
     "data": {
      "text/plain": [
       "[650, 660]"
      ]
     },
     "execution_count": 114,
     "metadata": {},
     "output_type": "execute_result"
    }
   ],
   "source": [
    "fix_k"
   ]
  },
  {
   "cell_type": "code",
   "execution_count": 115,
   "id": "15e63d53",
   "metadata": {
    "scrolled": true
   },
   "outputs": [
    {
     "name": "stdout",
     "output_type": "stream",
     "text": [
      "Ashland Ave & Belle Plaine Ave\n",
      "Oglesby Ave & 100th St\n",
      "Desplaines St & Randolph St\n",
      "State St & 54th St\n",
      "Cottage Grove Ave & Oakwood Blvd\n",
      "Public Rack - King Dr & 83rd St\n",
      "Damen Ave & Clybourn Ave\n",
      "Hegewisch Metra Station\n",
      "Kildare Ave & Chicago Ave\n",
      "63rd & Western Ave - south corner\n"
     ]
    }
   ],
   "source": [
    "for i in range(fix_k[0], fix_k[1]):\n",
    "    print(fix_cities[i])"
   ]
  },
  {
   "cell_type": "code",
   "execution_count": 116,
   "id": "3c71c7ed",
   "metadata": {},
   "outputs": [
    {
     "data": {
      "text/plain": [
       "1375"
      ]
     },
     "execution_count": 116,
     "metadata": {},
     "output_type": "execute_result"
    }
   ],
   "source": [
    "len(fix_cities)"
   ]
  },
  {
   "cell_type": "code",
   "execution_count": 117,
   "id": "11f0b23b",
   "metadata": {},
   "outputs": [
    {
     "name": "stdout",
     "output_type": "stream",
     "text": [
      "Marquette Ave & 89th St\n",
      "Public Rack - Chopin Park\n",
      "Major Taylor Trail & 124th St\n",
      "Public Rack - Percy Julian HS\n",
      "Austin Blvd & Madison St\n",
      "Public Rack - Brandon Ave & 91st St\n",
      "Calumet Ave & 33rd St\n",
      "Stony Island Ave & 82nd St\n"
     ]
    }
   ],
   "source": [
    "for i in range(660, 668):\n",
    "    print(fix_cities[i])"
   ]
  },
  {
   "cell_type": "code",
   "execution_count": 118,
   "id": "89395883",
   "metadata": {},
   "outputs": [],
   "source": [
    "# Now to verify all the rest of the stations\n",
    "unique_stations = list(set(list(merged2013_2022['start_station_name'].values) + list(merged2013_2022['end_station_name'].values)))\n",
    "fix_cities = []\n",
    "for i in range(len(unique_stations)):\n",
    "    if unique_stations[i] not in fixed_city:\n",
    "        fix_cities.append(unique_stations[i])"
   ]
  },
  {
   "cell_type": "code",
   "execution_count": 119,
   "id": "b69a2e29",
   "metadata": {},
   "outputs": [],
   "source": [
    "# Takes care of all non-fixed cities; basically all cities that I didn't change above are all from Chicago, and I want to make\n",
    "# sure that they are inputted as such in the data.\n",
    "for i in range(len(unique_stations)):\n",
    "    if unique_stations[i] not in fixed_city:\n",
    "        fix_city(unique_stations[i], 0)"
   ]
  },
  {
   "cell_type": "code",
   "execution_count": 120,
   "id": "2a1d439c",
   "metadata": {},
   "outputs": [
    {
     "data": {
      "text/plain": [
       "start_time             object\n",
       "end_time               object\n",
       "tripduration            int64\n",
       "start_station_id       object\n",
       "start_station_name     object\n",
       "end_station_id         object\n",
       "end_station_name       object\n",
       "usertype                int64\n",
       "gender                  int64\n",
       "birthyear               int64\n",
       "start_lat             float64\n",
       "start_lng             float64\n",
       "end_lat               float64\n",
       "end_lng               float64\n",
       "rideable_type           int64\n",
       "start_city              int64\n",
       "start_landmark          int64\n",
       "end_city                int64\n",
       "end_landmark            int64\n",
       "start_date             object\n",
       "end_date               object\n",
       "start_dpcapacity        int64\n",
       "end_dpcapacity          int64\n",
       "dtype: object"
      ]
     },
     "execution_count": 120,
     "metadata": {},
     "output_type": "execute_result"
    }
   ],
   "source": [
    "merged2013_2022.dtypes"
   ]
  },
  {
   "cell_type": "code",
   "execution_count": 121,
   "id": "a589a176",
   "metadata": {},
   "outputs": [],
   "source": [
    "merged2013_2022.to_csv('1 Full Divvy Dataframe pt4.csv')"
   ]
  },
  {
   "cell_type": "code",
   "execution_count": null,
   "id": "496e292c",
   "metadata": {},
   "outputs": [],
   "source": []
  }
 ],
 "metadata": {
  "kernelspec": {
   "display_name": "Python 3 (ipykernel)",
   "language": "python",
   "name": "python3"
  },
  "language_info": {
   "codemirror_mode": {
    "name": "ipython",
    "version": 3
   },
   "file_extension": ".py",
   "mimetype": "text/x-python",
   "name": "python",
   "nbconvert_exporter": "python",
   "pygments_lexer": "ipython3",
   "version": "3.9.12"
  }
 },
 "nbformat": 4,
 "nbformat_minor": 5
}
