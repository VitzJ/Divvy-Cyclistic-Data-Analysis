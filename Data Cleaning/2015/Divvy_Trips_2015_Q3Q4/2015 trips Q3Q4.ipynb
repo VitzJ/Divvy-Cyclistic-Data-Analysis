{
 "cells": [
  {
   "cell_type": "code",
   "execution_count": null,
   "id": "0b42bdf2",
   "metadata": {},
   "outputs": [],
   "source": [
    "import pandas as pd\n",
    "\n",
    "df = pd.concat([pd.read_csv('Divvy_Trips_2015_07.csv'), pd.read_csv('Divvy_Trips_2015_08.csv'), pd.read_csv('Divvy_Trips_2015_09.csv'),pd.read_csv('Divvy_Trips_2015_Q4.csv')], ignore_index=True)"
   ]
  }
 ],
 "metadata": {
  "kernelspec": {
   "display_name": "Python 3 (ipykernel)",
   "language": "python",
   "name": "python3"
  },
  "language_info": {
   "codemirror_mode": {
    "name": "ipython",
    "version": 3
   },
   "file_extension": ".py",
   "mimetype": "text/x-python",
   "name": "python",
   "nbconvert_exporter": "python",
   "pygments_lexer": "ipython3",
   "version": "3.9.12"
  }
 },
 "nbformat": 4,
 "nbformat_minor": 5
}
